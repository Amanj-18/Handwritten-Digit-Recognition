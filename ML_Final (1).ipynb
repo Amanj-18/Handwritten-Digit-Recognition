{
  "cells": [
    {
      "cell_type": "markdown",
      "metadata": {
        "id": "cm7Ety4HVb6f"
      },
      "source": [
        "### **Handwritten digits Recognition system**"
      ]
    },
    {
      "cell_type": "markdown",
      "metadata": {
        "id": "ENBpiqsKsyvw"
      },
      "source": [
        "# **Importing Libraries**"
      ]
    },
    {
      "cell_type": "code",
      "execution_count": null,
      "metadata": {
        "id": "saeTTc5fJC-D"
      },
      "outputs": [],
      "source": [
        "import numpy as np\n",
        "import matplotlib\n",
        "from matplotlib import pyplot as plt\n",
        "import pandas as pd"
      ]
    },
    {
      "cell_type": "code",
      "execution_count": null,
      "metadata": {
        "id": "RLTg5I95JclG"
      },
      "outputs": [],
      "source": [
        "from sklearn.datasets import fetch_openml"
      ]
    },
    {
      "cell_type": "code",
      "source": [
        "from google.colab import drive\n",
        "drive.mount('/content/drive')"
      ],
      "metadata": {
        "id": "Gdl_mU5yyglD",
        "colab": {
          "base_uri": "https://localhost:8080/"
        },
        "outputId": "943399e3-9c18-4ee2-b57b-32c46af6f7e7"
      },
      "execution_count": null,
      "outputs": [
        {
          "output_type": "stream",
          "name": "stdout",
          "text": [
            "Mounted at /content/drive\n"
          ]
        }
      ]
    },
    {
      "cell_type": "markdown",
      "metadata": {
        "id": "ZlzvHPGqs2eK"
      },
      "source": [
        "Fetching the data from mnist database"
      ]
    },
    {
      "cell_type": "code",
      "execution_count": null,
      "metadata": {
        "id": "6UANqVwJJZbI"
      },
      "outputs": [],
      "source": [
        "mnist = fetch_openml('mnist_784')"
      ]
    },
    {
      "cell_type": "code",
      "execution_count": null,
      "metadata": {
        "colab": {
          "base_uri": "https://localhost:8080/"
        },
        "id": "FlayxrbWJe_p",
        "outputId": "70e903c7-7ca3-4309-ceda-781f9431235c"
      },
      "outputs": [
        {
          "output_type": "execute_result",
          "data": {
            "text/plain": [
              "{'data':        pixel1  pixel2  pixel3  pixel4  pixel5  pixel6  pixel7  pixel8  pixel9  \\\n",
              " 0         0.0     0.0     0.0     0.0     0.0     0.0     0.0     0.0     0.0   \n",
              " 1         0.0     0.0     0.0     0.0     0.0     0.0     0.0     0.0     0.0   \n",
              " 2         0.0     0.0     0.0     0.0     0.0     0.0     0.0     0.0     0.0   \n",
              " 3         0.0     0.0     0.0     0.0     0.0     0.0     0.0     0.0     0.0   \n",
              " 4         0.0     0.0     0.0     0.0     0.0     0.0     0.0     0.0     0.0   \n",
              " ...       ...     ...     ...     ...     ...     ...     ...     ...     ...   \n",
              " 69995     0.0     0.0     0.0     0.0     0.0     0.0     0.0     0.0     0.0   \n",
              " 69996     0.0     0.0     0.0     0.0     0.0     0.0     0.0     0.0     0.0   \n",
              " 69997     0.0     0.0     0.0     0.0     0.0     0.0     0.0     0.0     0.0   \n",
              " 69998     0.0     0.0     0.0     0.0     0.0     0.0     0.0     0.0     0.0   \n",
              " 69999     0.0     0.0     0.0     0.0     0.0     0.0     0.0     0.0     0.0   \n",
              " \n",
              "        pixel10  ...  pixel775  pixel776  pixel777  pixel778  pixel779  \\\n",
              " 0          0.0  ...       0.0       0.0       0.0       0.0       0.0   \n",
              " 1          0.0  ...       0.0       0.0       0.0       0.0       0.0   \n",
              " 2          0.0  ...       0.0       0.0       0.0       0.0       0.0   \n",
              " 3          0.0  ...       0.0       0.0       0.0       0.0       0.0   \n",
              " 4          0.0  ...       0.0       0.0       0.0       0.0       0.0   \n",
              " ...        ...  ...       ...       ...       ...       ...       ...   \n",
              " 69995      0.0  ...       0.0       0.0       0.0       0.0       0.0   \n",
              " 69996      0.0  ...       0.0       0.0       0.0       0.0       0.0   \n",
              " 69997      0.0  ...       0.0       0.0       0.0       0.0       0.0   \n",
              " 69998      0.0  ...       0.0       0.0       0.0       0.0       0.0   \n",
              " 69999      0.0  ...       0.0       0.0       0.0       0.0       0.0   \n",
              " \n",
              "        pixel780  pixel781  pixel782  pixel783  pixel784  \n",
              " 0           0.0       0.0       0.0       0.0       0.0  \n",
              " 1           0.0       0.0       0.0       0.0       0.0  \n",
              " 2           0.0       0.0       0.0       0.0       0.0  \n",
              " 3           0.0       0.0       0.0       0.0       0.0  \n",
              " 4           0.0       0.0       0.0       0.0       0.0  \n",
              " ...         ...       ...       ...       ...       ...  \n",
              " 69995       0.0       0.0       0.0       0.0       0.0  \n",
              " 69996       0.0       0.0       0.0       0.0       0.0  \n",
              " 69997       0.0       0.0       0.0       0.0       0.0  \n",
              " 69998       0.0       0.0       0.0       0.0       0.0  \n",
              " 69999       0.0       0.0       0.0       0.0       0.0  \n",
              " \n",
              " [70000 rows x 784 columns], 'target': 0        5\n",
              " 1        0\n",
              " 2        4\n",
              " 3        1\n",
              " 4        9\n",
              "         ..\n",
              " 69995    2\n",
              " 69996    3\n",
              " 69997    4\n",
              " 69998    5\n",
              " 69999    6\n",
              " Name: class, Length: 70000, dtype: category\n",
              " Categories (10, object): ['0', '1', '2', '3', ..., '6', '7', '8', '9'], 'frame':        pixel1  pixel2  pixel3  pixel4  pixel5  pixel6  pixel7  pixel8  pixel9  \\\n",
              " 0         0.0     0.0     0.0     0.0     0.0     0.0     0.0     0.0     0.0   \n",
              " 1         0.0     0.0     0.0     0.0     0.0     0.0     0.0     0.0     0.0   \n",
              " 2         0.0     0.0     0.0     0.0     0.0     0.0     0.0     0.0     0.0   \n",
              " 3         0.0     0.0     0.0     0.0     0.0     0.0     0.0     0.0     0.0   \n",
              " 4         0.0     0.0     0.0     0.0     0.0     0.0     0.0     0.0     0.0   \n",
              " ...       ...     ...     ...     ...     ...     ...     ...     ...     ...   \n",
              " 69995     0.0     0.0     0.0     0.0     0.0     0.0     0.0     0.0     0.0   \n",
              " 69996     0.0     0.0     0.0     0.0     0.0     0.0     0.0     0.0     0.0   \n",
              " 69997     0.0     0.0     0.0     0.0     0.0     0.0     0.0     0.0     0.0   \n",
              " 69998     0.0     0.0     0.0     0.0     0.0     0.0     0.0     0.0     0.0   \n",
              " 69999     0.0     0.0     0.0     0.0     0.0     0.0     0.0     0.0     0.0   \n",
              " \n",
              "        pixel10  ...  pixel776  pixel777  pixel778  pixel779  pixel780  \\\n",
              " 0          0.0  ...       0.0       0.0       0.0       0.0       0.0   \n",
              " 1          0.0  ...       0.0       0.0       0.0       0.0       0.0   \n",
              " 2          0.0  ...       0.0       0.0       0.0       0.0       0.0   \n",
              " 3          0.0  ...       0.0       0.0       0.0       0.0       0.0   \n",
              " 4          0.0  ...       0.0       0.0       0.0       0.0       0.0   \n",
              " ...        ...  ...       ...       ...       ...       ...       ...   \n",
              " 69995      0.0  ...       0.0       0.0       0.0       0.0       0.0   \n",
              " 69996      0.0  ...       0.0       0.0       0.0       0.0       0.0   \n",
              " 69997      0.0  ...       0.0       0.0       0.0       0.0       0.0   \n",
              " 69998      0.0  ...       0.0       0.0       0.0       0.0       0.0   \n",
              " 69999      0.0  ...       0.0       0.0       0.0       0.0       0.0   \n",
              " \n",
              "        pixel781  pixel782  pixel783  pixel784  class  \n",
              " 0           0.0       0.0       0.0       0.0      5  \n",
              " 1           0.0       0.0       0.0       0.0      0  \n",
              " 2           0.0       0.0       0.0       0.0      4  \n",
              " 3           0.0       0.0       0.0       0.0      1  \n",
              " 4           0.0       0.0       0.0       0.0      9  \n",
              " ...         ...       ...       ...       ...    ...  \n",
              " 69995       0.0       0.0       0.0       0.0      2  \n",
              " 69996       0.0       0.0       0.0       0.0      3  \n",
              " 69997       0.0       0.0       0.0       0.0      4  \n",
              " 69998       0.0       0.0       0.0       0.0      5  \n",
              " 69999       0.0       0.0       0.0       0.0      6  \n",
              " \n",
              " [70000 rows x 785 columns], 'categories': None, 'feature_names': ['pixel1',\n",
              "  'pixel2',\n",
              "  'pixel3',\n",
              "  'pixel4',\n",
              "  'pixel5',\n",
              "  'pixel6',\n",
              "  'pixel7',\n",
              "  'pixel8',\n",
              "  'pixel9',\n",
              "  'pixel10',\n",
              "  'pixel11',\n",
              "  'pixel12',\n",
              "  'pixel13',\n",
              "  'pixel14',\n",
              "  'pixel15',\n",
              "  'pixel16',\n",
              "  'pixel17',\n",
              "  'pixel18',\n",
              "  'pixel19',\n",
              "  'pixel20',\n",
              "  'pixel21',\n",
              "  'pixel22',\n",
              "  'pixel23',\n",
              "  'pixel24',\n",
              "  'pixel25',\n",
              "  'pixel26',\n",
              "  'pixel27',\n",
              "  'pixel28',\n",
              "  'pixel29',\n",
              "  'pixel30',\n",
              "  'pixel31',\n",
              "  'pixel32',\n",
              "  'pixel33',\n",
              "  'pixel34',\n",
              "  'pixel35',\n",
              "  'pixel36',\n",
              "  'pixel37',\n",
              "  'pixel38',\n",
              "  'pixel39',\n",
              "  'pixel40',\n",
              "  'pixel41',\n",
              "  'pixel42',\n",
              "  'pixel43',\n",
              "  'pixel44',\n",
              "  'pixel45',\n",
              "  'pixel46',\n",
              "  'pixel47',\n",
              "  'pixel48',\n",
              "  'pixel49',\n",
              "  'pixel50',\n",
              "  'pixel51',\n",
              "  'pixel52',\n",
              "  'pixel53',\n",
              "  'pixel54',\n",
              "  'pixel55',\n",
              "  'pixel56',\n",
              "  'pixel57',\n",
              "  'pixel58',\n",
              "  'pixel59',\n",
              "  'pixel60',\n",
              "  'pixel61',\n",
              "  'pixel62',\n",
              "  'pixel63',\n",
              "  'pixel64',\n",
              "  'pixel65',\n",
              "  'pixel66',\n",
              "  'pixel67',\n",
              "  'pixel68',\n",
              "  'pixel69',\n",
              "  'pixel70',\n",
              "  'pixel71',\n",
              "  'pixel72',\n",
              "  'pixel73',\n",
              "  'pixel74',\n",
              "  'pixel75',\n",
              "  'pixel76',\n",
              "  'pixel77',\n",
              "  'pixel78',\n",
              "  'pixel79',\n",
              "  'pixel80',\n",
              "  'pixel81',\n",
              "  'pixel82',\n",
              "  'pixel83',\n",
              "  'pixel84',\n",
              "  'pixel85',\n",
              "  'pixel86',\n",
              "  'pixel87',\n",
              "  'pixel88',\n",
              "  'pixel89',\n",
              "  'pixel90',\n",
              "  'pixel91',\n",
              "  'pixel92',\n",
              "  'pixel93',\n",
              "  'pixel94',\n",
              "  'pixel95',\n",
              "  'pixel96',\n",
              "  'pixel97',\n",
              "  'pixel98',\n",
              "  'pixel99',\n",
              "  'pixel100',\n",
              "  'pixel101',\n",
              "  'pixel102',\n",
              "  'pixel103',\n",
              "  'pixel104',\n",
              "  'pixel105',\n",
              "  'pixel106',\n",
              "  'pixel107',\n",
              "  'pixel108',\n",
              "  'pixel109',\n",
              "  'pixel110',\n",
              "  'pixel111',\n",
              "  'pixel112',\n",
              "  'pixel113',\n",
              "  'pixel114',\n",
              "  'pixel115',\n",
              "  'pixel116',\n",
              "  'pixel117',\n",
              "  'pixel118',\n",
              "  'pixel119',\n",
              "  'pixel120',\n",
              "  'pixel121',\n",
              "  'pixel122',\n",
              "  'pixel123',\n",
              "  'pixel124',\n",
              "  'pixel125',\n",
              "  'pixel126',\n",
              "  'pixel127',\n",
              "  'pixel128',\n",
              "  'pixel129',\n",
              "  'pixel130',\n",
              "  'pixel131',\n",
              "  'pixel132',\n",
              "  'pixel133',\n",
              "  'pixel134',\n",
              "  'pixel135',\n",
              "  'pixel136',\n",
              "  'pixel137',\n",
              "  'pixel138',\n",
              "  'pixel139',\n",
              "  'pixel140',\n",
              "  'pixel141',\n",
              "  'pixel142',\n",
              "  'pixel143',\n",
              "  'pixel144',\n",
              "  'pixel145',\n",
              "  'pixel146',\n",
              "  'pixel147',\n",
              "  'pixel148',\n",
              "  'pixel149',\n",
              "  'pixel150',\n",
              "  'pixel151',\n",
              "  'pixel152',\n",
              "  'pixel153',\n",
              "  'pixel154',\n",
              "  'pixel155',\n",
              "  'pixel156',\n",
              "  'pixel157',\n",
              "  'pixel158',\n",
              "  'pixel159',\n",
              "  'pixel160',\n",
              "  'pixel161',\n",
              "  'pixel162',\n",
              "  'pixel163',\n",
              "  'pixel164',\n",
              "  'pixel165',\n",
              "  'pixel166',\n",
              "  'pixel167',\n",
              "  'pixel168',\n",
              "  'pixel169',\n",
              "  'pixel170',\n",
              "  'pixel171',\n",
              "  'pixel172',\n",
              "  'pixel173',\n",
              "  'pixel174',\n",
              "  'pixel175',\n",
              "  'pixel176',\n",
              "  'pixel177',\n",
              "  'pixel178',\n",
              "  'pixel179',\n",
              "  'pixel180',\n",
              "  'pixel181',\n",
              "  'pixel182',\n",
              "  'pixel183',\n",
              "  'pixel184',\n",
              "  'pixel185',\n",
              "  'pixel186',\n",
              "  'pixel187',\n",
              "  'pixel188',\n",
              "  'pixel189',\n",
              "  'pixel190',\n",
              "  'pixel191',\n",
              "  'pixel192',\n",
              "  'pixel193',\n",
              "  'pixel194',\n",
              "  'pixel195',\n",
              "  'pixel196',\n",
              "  'pixel197',\n",
              "  'pixel198',\n",
              "  'pixel199',\n",
              "  'pixel200',\n",
              "  'pixel201',\n",
              "  'pixel202',\n",
              "  'pixel203',\n",
              "  'pixel204',\n",
              "  'pixel205',\n",
              "  'pixel206',\n",
              "  'pixel207',\n",
              "  'pixel208',\n",
              "  'pixel209',\n",
              "  'pixel210',\n",
              "  'pixel211',\n",
              "  'pixel212',\n",
              "  'pixel213',\n",
              "  'pixel214',\n",
              "  'pixel215',\n",
              "  'pixel216',\n",
              "  'pixel217',\n",
              "  'pixel218',\n",
              "  'pixel219',\n",
              "  'pixel220',\n",
              "  'pixel221',\n",
              "  'pixel222',\n",
              "  'pixel223',\n",
              "  'pixel224',\n",
              "  'pixel225',\n",
              "  'pixel226',\n",
              "  'pixel227',\n",
              "  'pixel228',\n",
              "  'pixel229',\n",
              "  'pixel230',\n",
              "  'pixel231',\n",
              "  'pixel232',\n",
              "  'pixel233',\n",
              "  'pixel234',\n",
              "  'pixel235',\n",
              "  'pixel236',\n",
              "  'pixel237',\n",
              "  'pixel238',\n",
              "  'pixel239',\n",
              "  'pixel240',\n",
              "  'pixel241',\n",
              "  'pixel242',\n",
              "  'pixel243',\n",
              "  'pixel244',\n",
              "  'pixel245',\n",
              "  'pixel246',\n",
              "  'pixel247',\n",
              "  'pixel248',\n",
              "  'pixel249',\n",
              "  'pixel250',\n",
              "  'pixel251',\n",
              "  'pixel252',\n",
              "  'pixel253',\n",
              "  'pixel254',\n",
              "  'pixel255',\n",
              "  'pixel256',\n",
              "  'pixel257',\n",
              "  'pixel258',\n",
              "  'pixel259',\n",
              "  'pixel260',\n",
              "  'pixel261',\n",
              "  'pixel262',\n",
              "  'pixel263',\n",
              "  'pixel264',\n",
              "  'pixel265',\n",
              "  'pixel266',\n",
              "  'pixel267',\n",
              "  'pixel268',\n",
              "  'pixel269',\n",
              "  'pixel270',\n",
              "  'pixel271',\n",
              "  'pixel272',\n",
              "  'pixel273',\n",
              "  'pixel274',\n",
              "  'pixel275',\n",
              "  'pixel276',\n",
              "  'pixel277',\n",
              "  'pixel278',\n",
              "  'pixel279',\n",
              "  'pixel280',\n",
              "  'pixel281',\n",
              "  'pixel282',\n",
              "  'pixel283',\n",
              "  'pixel284',\n",
              "  'pixel285',\n",
              "  'pixel286',\n",
              "  'pixel287',\n",
              "  'pixel288',\n",
              "  'pixel289',\n",
              "  'pixel290',\n",
              "  'pixel291',\n",
              "  'pixel292',\n",
              "  'pixel293',\n",
              "  'pixel294',\n",
              "  'pixel295',\n",
              "  'pixel296',\n",
              "  'pixel297',\n",
              "  'pixel298',\n",
              "  'pixel299',\n",
              "  'pixel300',\n",
              "  'pixel301',\n",
              "  'pixel302',\n",
              "  'pixel303',\n",
              "  'pixel304',\n",
              "  'pixel305',\n",
              "  'pixel306',\n",
              "  'pixel307',\n",
              "  'pixel308',\n",
              "  'pixel309',\n",
              "  'pixel310',\n",
              "  'pixel311',\n",
              "  'pixel312',\n",
              "  'pixel313',\n",
              "  'pixel314',\n",
              "  'pixel315',\n",
              "  'pixel316',\n",
              "  'pixel317',\n",
              "  'pixel318',\n",
              "  'pixel319',\n",
              "  'pixel320',\n",
              "  'pixel321',\n",
              "  'pixel322',\n",
              "  'pixel323',\n",
              "  'pixel324',\n",
              "  'pixel325',\n",
              "  'pixel326',\n",
              "  'pixel327',\n",
              "  'pixel328',\n",
              "  'pixel329',\n",
              "  'pixel330',\n",
              "  'pixel331',\n",
              "  'pixel332',\n",
              "  'pixel333',\n",
              "  'pixel334',\n",
              "  'pixel335',\n",
              "  'pixel336',\n",
              "  'pixel337',\n",
              "  'pixel338',\n",
              "  'pixel339',\n",
              "  'pixel340',\n",
              "  'pixel341',\n",
              "  'pixel342',\n",
              "  'pixel343',\n",
              "  'pixel344',\n",
              "  'pixel345',\n",
              "  'pixel346',\n",
              "  'pixel347',\n",
              "  'pixel348',\n",
              "  'pixel349',\n",
              "  'pixel350',\n",
              "  'pixel351',\n",
              "  'pixel352',\n",
              "  'pixel353',\n",
              "  'pixel354',\n",
              "  'pixel355',\n",
              "  'pixel356',\n",
              "  'pixel357',\n",
              "  'pixel358',\n",
              "  'pixel359',\n",
              "  'pixel360',\n",
              "  'pixel361',\n",
              "  'pixel362',\n",
              "  'pixel363',\n",
              "  'pixel364',\n",
              "  'pixel365',\n",
              "  'pixel366',\n",
              "  'pixel367',\n",
              "  'pixel368',\n",
              "  'pixel369',\n",
              "  'pixel370',\n",
              "  'pixel371',\n",
              "  'pixel372',\n",
              "  'pixel373',\n",
              "  'pixel374',\n",
              "  'pixel375',\n",
              "  'pixel376',\n",
              "  'pixel377',\n",
              "  'pixel378',\n",
              "  'pixel379',\n",
              "  'pixel380',\n",
              "  'pixel381',\n",
              "  'pixel382',\n",
              "  'pixel383',\n",
              "  'pixel384',\n",
              "  'pixel385',\n",
              "  'pixel386',\n",
              "  'pixel387',\n",
              "  'pixel388',\n",
              "  'pixel389',\n",
              "  'pixel390',\n",
              "  'pixel391',\n",
              "  'pixel392',\n",
              "  'pixel393',\n",
              "  'pixel394',\n",
              "  'pixel395',\n",
              "  'pixel396',\n",
              "  'pixel397',\n",
              "  'pixel398',\n",
              "  'pixel399',\n",
              "  'pixel400',\n",
              "  'pixel401',\n",
              "  'pixel402',\n",
              "  'pixel403',\n",
              "  'pixel404',\n",
              "  'pixel405',\n",
              "  'pixel406',\n",
              "  'pixel407',\n",
              "  'pixel408',\n",
              "  'pixel409',\n",
              "  'pixel410',\n",
              "  'pixel411',\n",
              "  'pixel412',\n",
              "  'pixel413',\n",
              "  'pixel414',\n",
              "  'pixel415',\n",
              "  'pixel416',\n",
              "  'pixel417',\n",
              "  'pixel418',\n",
              "  'pixel419',\n",
              "  'pixel420',\n",
              "  'pixel421',\n",
              "  'pixel422',\n",
              "  'pixel423',\n",
              "  'pixel424',\n",
              "  'pixel425',\n",
              "  'pixel426',\n",
              "  'pixel427',\n",
              "  'pixel428',\n",
              "  'pixel429',\n",
              "  'pixel430',\n",
              "  'pixel431',\n",
              "  'pixel432',\n",
              "  'pixel433',\n",
              "  'pixel434',\n",
              "  'pixel435',\n",
              "  'pixel436',\n",
              "  'pixel437',\n",
              "  'pixel438',\n",
              "  'pixel439',\n",
              "  'pixel440',\n",
              "  'pixel441',\n",
              "  'pixel442',\n",
              "  'pixel443',\n",
              "  'pixel444',\n",
              "  'pixel445',\n",
              "  'pixel446',\n",
              "  'pixel447',\n",
              "  'pixel448',\n",
              "  'pixel449',\n",
              "  'pixel450',\n",
              "  'pixel451',\n",
              "  'pixel452',\n",
              "  'pixel453',\n",
              "  'pixel454',\n",
              "  'pixel455',\n",
              "  'pixel456',\n",
              "  'pixel457',\n",
              "  'pixel458',\n",
              "  'pixel459',\n",
              "  'pixel460',\n",
              "  'pixel461',\n",
              "  'pixel462',\n",
              "  'pixel463',\n",
              "  'pixel464',\n",
              "  'pixel465',\n",
              "  'pixel466',\n",
              "  'pixel467',\n",
              "  'pixel468',\n",
              "  'pixel469',\n",
              "  'pixel470',\n",
              "  'pixel471',\n",
              "  'pixel472',\n",
              "  'pixel473',\n",
              "  'pixel474',\n",
              "  'pixel475',\n",
              "  'pixel476',\n",
              "  'pixel477',\n",
              "  'pixel478',\n",
              "  'pixel479',\n",
              "  'pixel480',\n",
              "  'pixel481',\n",
              "  'pixel482',\n",
              "  'pixel483',\n",
              "  'pixel484',\n",
              "  'pixel485',\n",
              "  'pixel486',\n",
              "  'pixel487',\n",
              "  'pixel488',\n",
              "  'pixel489',\n",
              "  'pixel490',\n",
              "  'pixel491',\n",
              "  'pixel492',\n",
              "  'pixel493',\n",
              "  'pixel494',\n",
              "  'pixel495',\n",
              "  'pixel496',\n",
              "  'pixel497',\n",
              "  'pixel498',\n",
              "  'pixel499',\n",
              "  'pixel500',\n",
              "  'pixel501',\n",
              "  'pixel502',\n",
              "  'pixel503',\n",
              "  'pixel504',\n",
              "  'pixel505',\n",
              "  'pixel506',\n",
              "  'pixel507',\n",
              "  'pixel508',\n",
              "  'pixel509',\n",
              "  'pixel510',\n",
              "  'pixel511',\n",
              "  'pixel512',\n",
              "  'pixel513',\n",
              "  'pixel514',\n",
              "  'pixel515',\n",
              "  'pixel516',\n",
              "  'pixel517',\n",
              "  'pixel518',\n",
              "  'pixel519',\n",
              "  'pixel520',\n",
              "  'pixel521',\n",
              "  'pixel522',\n",
              "  'pixel523',\n",
              "  'pixel524',\n",
              "  'pixel525',\n",
              "  'pixel526',\n",
              "  'pixel527',\n",
              "  'pixel528',\n",
              "  'pixel529',\n",
              "  'pixel530',\n",
              "  'pixel531',\n",
              "  'pixel532',\n",
              "  'pixel533',\n",
              "  'pixel534',\n",
              "  'pixel535',\n",
              "  'pixel536',\n",
              "  'pixel537',\n",
              "  'pixel538',\n",
              "  'pixel539',\n",
              "  'pixel540',\n",
              "  'pixel541',\n",
              "  'pixel542',\n",
              "  'pixel543',\n",
              "  'pixel544',\n",
              "  'pixel545',\n",
              "  'pixel546',\n",
              "  'pixel547',\n",
              "  'pixel548',\n",
              "  'pixel549',\n",
              "  'pixel550',\n",
              "  'pixel551',\n",
              "  'pixel552',\n",
              "  'pixel553',\n",
              "  'pixel554',\n",
              "  'pixel555',\n",
              "  'pixel556',\n",
              "  'pixel557',\n",
              "  'pixel558',\n",
              "  'pixel559',\n",
              "  'pixel560',\n",
              "  'pixel561',\n",
              "  'pixel562',\n",
              "  'pixel563',\n",
              "  'pixel564',\n",
              "  'pixel565',\n",
              "  'pixel566',\n",
              "  'pixel567',\n",
              "  'pixel568',\n",
              "  'pixel569',\n",
              "  'pixel570',\n",
              "  'pixel571',\n",
              "  'pixel572',\n",
              "  'pixel573',\n",
              "  'pixel574',\n",
              "  'pixel575',\n",
              "  'pixel576',\n",
              "  'pixel577',\n",
              "  'pixel578',\n",
              "  'pixel579',\n",
              "  'pixel580',\n",
              "  'pixel581',\n",
              "  'pixel582',\n",
              "  'pixel583',\n",
              "  'pixel584',\n",
              "  'pixel585',\n",
              "  'pixel586',\n",
              "  'pixel587',\n",
              "  'pixel588',\n",
              "  'pixel589',\n",
              "  'pixel590',\n",
              "  'pixel591',\n",
              "  'pixel592',\n",
              "  'pixel593',\n",
              "  'pixel594',\n",
              "  'pixel595',\n",
              "  'pixel596',\n",
              "  'pixel597',\n",
              "  'pixel598',\n",
              "  'pixel599',\n",
              "  'pixel600',\n",
              "  'pixel601',\n",
              "  'pixel602',\n",
              "  'pixel603',\n",
              "  'pixel604',\n",
              "  'pixel605',\n",
              "  'pixel606',\n",
              "  'pixel607',\n",
              "  'pixel608',\n",
              "  'pixel609',\n",
              "  'pixel610',\n",
              "  'pixel611',\n",
              "  'pixel612',\n",
              "  'pixel613',\n",
              "  'pixel614',\n",
              "  'pixel615',\n",
              "  'pixel616',\n",
              "  'pixel617',\n",
              "  'pixel618',\n",
              "  'pixel619',\n",
              "  'pixel620',\n",
              "  'pixel621',\n",
              "  'pixel622',\n",
              "  'pixel623',\n",
              "  'pixel624',\n",
              "  'pixel625',\n",
              "  'pixel626',\n",
              "  'pixel627',\n",
              "  'pixel628',\n",
              "  'pixel629',\n",
              "  'pixel630',\n",
              "  'pixel631',\n",
              "  'pixel632',\n",
              "  'pixel633',\n",
              "  'pixel634',\n",
              "  'pixel635',\n",
              "  'pixel636',\n",
              "  'pixel637',\n",
              "  'pixel638',\n",
              "  'pixel639',\n",
              "  'pixel640',\n",
              "  'pixel641',\n",
              "  'pixel642',\n",
              "  'pixel643',\n",
              "  'pixel644',\n",
              "  'pixel645',\n",
              "  'pixel646',\n",
              "  'pixel647',\n",
              "  'pixel648',\n",
              "  'pixel649',\n",
              "  'pixel650',\n",
              "  'pixel651',\n",
              "  'pixel652',\n",
              "  'pixel653',\n",
              "  'pixel654',\n",
              "  'pixel655',\n",
              "  'pixel656',\n",
              "  'pixel657',\n",
              "  'pixel658',\n",
              "  'pixel659',\n",
              "  'pixel660',\n",
              "  'pixel661',\n",
              "  'pixel662',\n",
              "  'pixel663',\n",
              "  'pixel664',\n",
              "  'pixel665',\n",
              "  'pixel666',\n",
              "  'pixel667',\n",
              "  'pixel668',\n",
              "  'pixel669',\n",
              "  'pixel670',\n",
              "  'pixel671',\n",
              "  'pixel672',\n",
              "  'pixel673',\n",
              "  'pixel674',\n",
              "  'pixel675',\n",
              "  'pixel676',\n",
              "  'pixel677',\n",
              "  'pixel678',\n",
              "  'pixel679',\n",
              "  'pixel680',\n",
              "  'pixel681',\n",
              "  'pixel682',\n",
              "  'pixel683',\n",
              "  'pixel684',\n",
              "  'pixel685',\n",
              "  'pixel686',\n",
              "  'pixel687',\n",
              "  'pixel688',\n",
              "  'pixel689',\n",
              "  'pixel690',\n",
              "  'pixel691',\n",
              "  'pixel692',\n",
              "  'pixel693',\n",
              "  'pixel694',\n",
              "  'pixel695',\n",
              "  'pixel696',\n",
              "  'pixel697',\n",
              "  'pixel698',\n",
              "  'pixel699',\n",
              "  'pixel700',\n",
              "  'pixel701',\n",
              "  'pixel702',\n",
              "  'pixel703',\n",
              "  'pixel704',\n",
              "  'pixel705',\n",
              "  'pixel706',\n",
              "  'pixel707',\n",
              "  'pixel708',\n",
              "  'pixel709',\n",
              "  'pixel710',\n",
              "  'pixel711',\n",
              "  'pixel712',\n",
              "  'pixel713',\n",
              "  'pixel714',\n",
              "  'pixel715',\n",
              "  'pixel716',\n",
              "  'pixel717',\n",
              "  'pixel718',\n",
              "  'pixel719',\n",
              "  'pixel720',\n",
              "  'pixel721',\n",
              "  'pixel722',\n",
              "  'pixel723',\n",
              "  'pixel724',\n",
              "  'pixel725',\n",
              "  'pixel726',\n",
              "  'pixel727',\n",
              "  'pixel728',\n",
              "  'pixel729',\n",
              "  'pixel730',\n",
              "  'pixel731',\n",
              "  'pixel732',\n",
              "  'pixel733',\n",
              "  'pixel734',\n",
              "  'pixel735',\n",
              "  'pixel736',\n",
              "  'pixel737',\n",
              "  'pixel738',\n",
              "  'pixel739',\n",
              "  'pixel740',\n",
              "  'pixel741',\n",
              "  'pixel742',\n",
              "  'pixel743',\n",
              "  'pixel744',\n",
              "  'pixel745',\n",
              "  'pixel746',\n",
              "  'pixel747',\n",
              "  'pixel748',\n",
              "  'pixel749',\n",
              "  'pixel750',\n",
              "  'pixel751',\n",
              "  'pixel752',\n",
              "  'pixel753',\n",
              "  'pixel754',\n",
              "  'pixel755',\n",
              "  'pixel756',\n",
              "  'pixel757',\n",
              "  'pixel758',\n",
              "  'pixel759',\n",
              "  'pixel760',\n",
              "  'pixel761',\n",
              "  'pixel762',\n",
              "  'pixel763',\n",
              "  'pixel764',\n",
              "  'pixel765',\n",
              "  'pixel766',\n",
              "  'pixel767',\n",
              "  'pixel768',\n",
              "  'pixel769',\n",
              "  'pixel770',\n",
              "  'pixel771',\n",
              "  'pixel772',\n",
              "  'pixel773',\n",
              "  'pixel774',\n",
              "  'pixel775',\n",
              "  'pixel776',\n",
              "  'pixel777',\n",
              "  'pixel778',\n",
              "  'pixel779',\n",
              "  'pixel780',\n",
              "  'pixel781',\n",
              "  'pixel782',\n",
              "  'pixel783',\n",
              "  'pixel784'], 'target_names': ['class'], 'DESCR': \"**Author**: Yann LeCun, Corinna Cortes, Christopher J.C. Burges  \\n**Source**: [MNIST Website](http://yann.lecun.com/exdb/mnist/) - Date unknown  \\n**Please cite**:  \\n\\nThe MNIST database of handwritten digits with 784 features, raw data available at: http://yann.lecun.com/exdb/mnist/. It can be split in a training set of the first 60,000 examples, and a test set of 10,000 examples  \\n\\nIt is a subset of a larger set available from NIST. The digits have been size-normalized and centered in a fixed-size image. It is a good database for people who want to try learning techniques and pattern recognition methods on real-world data while spending minimal efforts on preprocessing and formatting. The original black and white (bilevel) images from NIST were size normalized to fit in a 20x20 pixel box while preserving their aspect ratio. The resulting images contain grey levels as a result of the anti-aliasing technique used by the normalization algorithm. the images were centered in a 28x28 image by computing the center of mass of the pixels, and translating the image so as to position this point at the center of the 28x28 field.  \\n\\nWith some classification methods (particularly template-based methods, such as SVM and K-nearest neighbors), the error rate improves when the digits are centered by bounding box rather than center of mass. If you do this kind of pre-processing, you should report it in your publications. The MNIST database was constructed from NIST's NIST originally designated SD-3 as their training set and SD-1 as their test set. However, SD-3 is much cleaner and easier to recognize than SD-1. The reason for this can be found on the fact that SD-3 was collected among Census Bureau employees, while SD-1 was collected among high-school students. Drawing sensible conclusions from learning experiments requires that the result be independent of the choice of training set and test among the complete set of samples. Therefore it was necessary to build a new database by mixing NIST's datasets.  \\n\\nThe MNIST training set is composed of 30,000 patterns from SD-3 and 30,000 patterns from SD-1. Our test set was composed of 5,000 patterns from SD-3 and 5,000 patterns from SD-1. The 60,000 pattern training set contained examples from approximately 250 writers. We made sure that the sets of writers of the training set and test set were disjoint. SD-1 contains 58,527 digit images written by 500 different writers. In contrast to SD-3, where blocks of data from each writer appeared in sequence, the data in SD-1 is scrambled. Writer identities for SD-1 is available and we used this information to unscramble the writers. We then split SD-1 in two: characters written by the first 250 writers went into our new training set. The remaining 250 writers were placed in our test set. Thus we had two sets with nearly 30,000 examples each. The new training set was completed with enough examples from SD-3, starting at pattern # 0, to make a full set of 60,000 training patterns. Similarly, the new test set was completed with SD-3 examples starting at pattern # 35,000 to make a full set with 60,000 test patterns. Only a subset of 10,000 test images (5,000 from SD-1 and 5,000 from SD-3) is available on this site. The full 60,000 sample training set is available.\\n\\nDownloaded from openml.org.\", 'details': {'id': '554',\n",
              "  'name': 'mnist_784',\n",
              "  'version': '1',\n",
              "  'description_version': '1',\n",
              "  'format': 'ARFF',\n",
              "  'creator': ['Yann LeCun', 'Corinna Cortes', 'Christopher J.C. Burges'],\n",
              "  'upload_date': '2014-09-29T03:28:38',\n",
              "  'language': 'English',\n",
              "  'licence': 'Public',\n",
              "  'url': 'https://api.openml.org/data/v1/download/52667/mnist_784.arff',\n",
              "  'parquet_url': 'http://openml1.win.tue.nl/dataset554/dataset_554.pq',\n",
              "  'file_id': '52667',\n",
              "  'default_target_attribute': 'class',\n",
              "  'tag': ['AzurePilot',\n",
              "   'OpenML-CC18',\n",
              "   'OpenML100',\n",
              "   'study_1',\n",
              "   'study_123',\n",
              "   'study_41',\n",
              "   'study_99',\n",
              "   'vision'],\n",
              "  'visibility': 'public',\n",
              "  'minio_url': 'http://openml1.win.tue.nl/dataset554/dataset_554.pq',\n",
              "  'status': 'active',\n",
              "  'processing_date': '2020-11-20 20:12:09',\n",
              "  'md5_checksum': '0298d579eb1b86163de7723944c7e495'}, 'url': 'https://www.openml.org/d/554'}"
            ]
          },
          "metadata": {},
          "execution_count": 71
        }
      ],
      "source": [
        "mnist"
      ]
    },
    {
      "cell_type": "markdown",
      "metadata": {
        "id": "sTu_q-U_s-wE"
      },
      "source": [
        "Dataset"
      ]
    },
    {
      "cell_type": "code",
      "execution_count": null,
      "metadata": {
        "id": "4xolHJrvfK38",
        "colab": {
          "base_uri": "https://localhost:8080/"
        },
        "outputId": "11591b58-92b4-494f-928a-c87ffaf1732c"
      },
      "outputs": [
        {
          "output_type": "stream",
          "name": "stdout",
          "text": [
            "Shape of input :  (70000, 784) Shape of target :  (70000,)\n"
          ]
        }
      ],
      "source": [
        "X, y = fetch_openml('mnist_784', version=1, return_X_y=True, as_frame=False)\n",
        "print(\"Shape of input : \", X.shape, \"Shape of target : \", y.shape)"
      ]
    },
    {
      "cell_type": "code",
      "execution_count": null,
      "metadata": {
        "colab": {
          "base_uri": "https://localhost:8080/"
        },
        "id": "baGlcLTrKGVg",
        "outputId": "d99cce9a-6acf-4068-e952-a05241dd131f"
      },
      "outputs": [
        {
          "output_type": "execute_result",
          "data": {
            "text/plain": [
              "(70000, 784)"
            ]
          },
          "metadata": {},
          "execution_count": 73
        }
      ],
      "source": [
        "X.shape"
      ]
    },
    {
      "cell_type": "code",
      "execution_count": null,
      "metadata": {
        "colab": {
          "base_uri": "https://localhost:8080/"
        },
        "id": "ZAVMp4XyKJTM",
        "outputId": "84815d1f-9937-4ee7-d7ba-1b9dbe149edf"
      },
      "outputs": [
        {
          "output_type": "execute_result",
          "data": {
            "text/plain": [
              "(70000,)"
            ]
          },
          "metadata": {},
          "execution_count": 74
        }
      ],
      "source": [
        "y.shape"
      ]
    },
    {
      "cell_type": "markdown",
      "metadata": {
        "id": "hIaPJWcatB4R"
      },
      "source": [
        "Visualize the dataset"
      ]
    },
    {
      "cell_type": "code",
      "execution_count": null,
      "metadata": {
        "colab": {
          "base_uri": "https://localhost:8080/",
          "height": 167
        },
        "id": "Le0wdnTaIE3m",
        "outputId": "4d0b12fa-943d-4f97-fd8f-49a3c5e53ed9"
      },
      "outputs": [
        {
          "output_type": "display_data",
          "data": {
            "text/plain": [
              "<Figure size 432x288 with 3 Axes>"
            ],
            "image/png": "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\n"
          },
          "metadata": {
            "needs_background": "light"
          }
        }
      ],
      "source": [
        "from matplotlib import pyplot as plt\n",
        "import numpy as np\n",
        "\n",
        "plt.figure()\n",
        "for idx, image in enumerate(X[:3]):\n",
        "    plt.subplot(1, 3, idx + 1)\n",
        "    plt.imshow(np.reshape(image, (28,28)), cmap=plt.cm.gray)\n",
        "    plt.title('Training: ' + y[idx], fontsize = 20)"
      ]
    },
    {
      "cell_type": "markdown",
      "metadata": {
        "id": "pBHOZoYFtE8r"
      },
      "source": [
        "Data Splitting\n"
      ]
    },
    {
      "cell_type": "code",
      "execution_count": null,
      "metadata": {
        "id": "39bChDRAcewc",
        "colab": {
          "base_uri": "https://localhost:8080/"
        },
        "outputId": "735ec206-edf8-4d8a-fc4c-7ec189ca2964"
      },
      "outputs": [
        {
          "output_type": "stream",
          "name": "stdout",
          "text": [
            "training samples shape =  (60000, 784)\n",
            "testing samples shape =  (10000, 784)\n"
          ]
        }
      ],
      "source": [
        "from sklearn.model_selection import train_test_split\n",
        "y = [int(i) for i in y]\n",
        "\n",
        "X_train, X_test, y_train, y_test = train_test_split(X, y, test_size=1/7,random_state=0)\n",
        "print(\"training samples shape = \", X_train.shape)\n",
        "print(\"testing samples shape = \", X_test.shape)"
      ]
    },
    {
      "cell_type": "code",
      "execution_count": null,
      "metadata": {
        "colab": {
          "base_uri": "https://localhost:8080/",
          "height": 336
        },
        "id": "lAFSEBylINfw",
        "outputId": "2ec87ff1-69b0-4a63-a588-6105fb723e9c"
      },
      "outputs": [
        {
          "output_type": "display_data",
          "data": {
            "text/plain": [
              "<Figure size 720x360 with 2 Axes>"
            ],
            "image/png": "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\n"
          },
          "metadata": {
            "needs_background": "light"
          }
        }
      ],
      "source": [
        "plt.figure(figsize=(10,5))\n",
        "plt.subplot(1,2,1)\n",
        "plt.hist(y_train, bins=20, rwidth=0.9, color='#607c8e');\n",
        "plt.title('Frequency of different classes - Training Set');\n",
        "\n",
        "\n",
        "plt.subplot(1,2,2)\n",
        "plt.hist(y_test, bins=20, rwidth=0.9, color='#607c8e');\n",
        "plt.title('Frequency of different classes - Test set');"
      ]
    },
    {
      "cell_type": "markdown",
      "metadata": {
        "id": "gce0hXLaSiT5"
      },
      "source": [
        "# **Model Building**"
      ]
    },
    {
      "cell_type": "code",
      "execution_count": null,
      "metadata": {
        "colab": {
          "base_uri": "https://localhost:8080/"
        },
        "id": "LLID_caJSmmh",
        "outputId": "5de14dab-c3a5-427b-bc26-93c01792a1ad"
      },
      "outputs": [
        {
          "output_type": "stream",
          "name": "stderr",
          "text": [
            "[Parallel(n_jobs=5)]: Using backend ThreadingBackend with 5 concurrent workers.\n"
          ]
        },
        {
          "output_type": "stream",
          "name": "stdout",
          "text": [
            "convergence after 48 epochs took 270 seconds\n"
          ]
        },
        {
          "output_type": "stream",
          "name": "stderr",
          "text": [
            "[Parallel(n_jobs=5)]: Done   1 out of   1 | elapsed:  4.5min finished\n"
          ]
        },
        {
          "output_type": "execute_result",
          "data": {
            "text/plain": [
              "LogisticRegression(C=50, max_iter=1000, n_jobs=5, penalty='l1', solver='saga',\n",
              "                   tol=0.01, verbose=2)"
            ]
          },
          "metadata": {},
          "execution_count": 79
        }
      ],
      "source": [
        "from sklearn.linear_model import LogisticRegression\n",
        "\n",
        "model = LogisticRegression(fit_intercept=True,\n",
        "                        multi_class='auto',\n",
        "                        penalty='l1', #lasso regression\n",
        "                        solver='saga',\n",
        "                        max_iter=1000,\n",
        "                        C=50,\n",
        "                        verbose=2, # output progress\n",
        "                        n_jobs=5, # parallelize over 5 processes\n",
        "                        tol=0.01\n",
        "                         )\n",
        "\n",
        "model\n",
        "model.fit(X_train, y_train)"
      ]
    },
    {
      "cell_type": "markdown",
      "metadata": {
        "id": "dbByP15ySr64"
      },
      "source": [
        "# **Model Evaluation**"
      ]
    },
    {
      "cell_type": "code",
      "execution_count": null,
      "metadata": {
        "colab": {
          "base_uri": "https://localhost:8080/",
          "height": 741
        },
        "id": "78eTMIaHSvdw",
        "outputId": "0f644771-0721-4d11-f8f6-3af00d612d76"
      },
      "outputs": [
        {
          "output_type": "stream",
          "name": "stdout",
          "text": [
            "Training Accuracy =  93.752\n",
            "Testing Accuracy =  91.95\n"
          ]
        },
        {
          "output_type": "execute_result",
          "data": {
            "text/plain": [
              "Text(0.5, 145.31999999999996, 'Predicted label')"
            ]
          },
          "metadata": {},
          "execution_count": 80
        },
        {
          "output_type": "display_data",
          "data": {
            "text/plain": [
              "<Figure size 864x864 with 2 Axes>"
            ],
            "image/png": "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\n"
          },
          "metadata": {
            "needs_background": "light"
          }
        }
      ],
      "source": [
        "print(\"Training Accuracy = \", np.around(model.score(X_train,   y_train)*100,3))\n",
        "print(\"Testing Accuracy = \", np.around(model.score(X_test, y_test)*100, 3))\n",
        "\n",
        "from sklearn import metrics\n",
        "pred_y_test = model.predict(X_test)\n",
        "\n",
        "cm = metrics.confusion_matrix(y_true=y_test, y_pred = pred_y_test, labels = model.classes_)\n",
        "\n",
        "import seaborn as sns\n",
        "plt.figure(figsize=(12,12))\n",
        "\n",
        "sns.heatmap(cm, annot=True, linewidths=.5, square = True, cmap = 'Blues_r', fmt='0.4g');\n",
        "\n",
        "plt.ylabel('Actual label')\n",
        "plt.xlabel('Predicted label')"
      ]
    },
    {
      "cell_type": "code",
      "execution_count": null,
      "metadata": {
        "colab": {
          "base_uri": "https://localhost:8080/"
        },
        "id": "2neyGqQFS4oZ",
        "outputId": "f3d9d949-c7de-4f05-acb1-00cad68757c5"
      },
      "outputs": [
        {
          "output_type": "stream",
          "name": "stdout",
          "text": [
            "Ten Indexes are :  [4, 5, 18, 61, 78, 82, 129, 134, 141, 161]\n"
          ]
        }
      ],
      "source": [
        "index = 0\n",
        "misclassified_images = []\n",
        "for label, predict in zip(y_test, pred_y_test):\n",
        "    if label != predict: \n",
        "        misclassified_images.append(index)\n",
        "    index +=1\n",
        "    \n",
        "    if len(misclassified_images) == 10:\n",
        "        break\n",
        "print(\"Ten Indexes are : \",misclassified_images)"
      ]
    },
    {
      "cell_type": "code",
      "execution_count": null,
      "metadata": {
        "colab": {
          "base_uri": "https://localhost:8080/",
          "height": 355
        },
        "id": "Rqn70BdGTDPo",
        "outputId": "03e3340f-3ebc-447d-ad00-7e5773d18747"
      },
      "outputs": [
        {
          "output_type": "display_data",
          "data": {
            "text/plain": [
              "<Figure size 720x720 with 10 Axes>"
            ],
            "image/png": "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\n"
          },
          "metadata": {}
        }
      ],
      "source": [
        "plt.figure(figsize=(10,10))\n",
        "plt.suptitle('Misclassifications');\n",
        "for plot_index, bad_index in enumerate(misclassified_images):\n",
        "  p = plt.subplot(4,5, plot_index+1) \n",
        "    \n",
        "  p.imshow(X_test[bad_index].reshape(28,28), cmap=plt.cm.gray,\n",
        "            interpolation='bilinear')\n",
        "  p.set_xticks(()); p.set_yticks(()) \n",
        "    \n",
        "  p.set_title(f'Pred: {pred_y_test[bad_index]}, Actual: {y_test[bad_index]}');"
      ]
    },
    {
      "cell_type": "code",
      "execution_count": null,
      "metadata": {
        "colab": {
          "base_uri": "https://localhost:8080/"
        },
        "id": "IwUfmwVrboQ2",
        "outputId": "8f436fca-11a5-4acb-bdb6-2a1434ef85e9"
      },
      "outputs": [
        {
          "output_type": "stream",
          "name": "stdout",
          "text": [
            "Ten Indexes are :  [0, 1, 2, 3, 6, 7, 8, 9, 10, 11]\n"
          ]
        }
      ],
      "source": [
        "index = 0\n",
        "successfull_images = []\n",
        "for label, predict in zip(y_test, pred_y_test):\n",
        "    if label == predict: \n",
        "        successfull_images.append(index)\n",
        "    index +=1\n",
        "    \n",
        "    if len(successfull_images) == 10:\n",
        "        break\n",
        "print(\"Ten Indexes are : \",successfull_images)"
      ]
    },
    {
      "cell_type": "code",
      "execution_count": null,
      "metadata": {
        "colab": {
          "base_uri": "https://localhost:8080/",
          "height": 355
        },
        "id": "wu_4J-V5b6SE",
        "outputId": "0fc6fefe-69de-45dd-9ede-0a987938cb7f"
      },
      "outputs": [
        {
          "output_type": "display_data",
          "data": {
            "text/plain": [
              "<Figure size 720x720 with 10 Axes>"
            ],
            "image/png": "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\n"
          },
          "metadata": {}
        }
      ],
      "source": [
        "plt.figure(figsize=(10,10))\n",
        "plt.suptitle('Successful');\n",
        "for plot_index, good_index in enumerate(successfull_images):\n",
        "  p = plt.subplot(4,5, plot_index+1) \n",
        "    \n",
        "  p.imshow(X_test[good_index].reshape(28,28), cmap=plt.cm.gray,\n",
        "            interpolation='bilinear')\n",
        "  p.set_xticks(()); p.set_yticks(()) \n",
        "    \n",
        "  p.set_title(f'Pred: {pred_y_test[good_index]}, Actual: {y_test[good_index]}');"
      ]
    },
    {
      "cell_type": "markdown",
      "metadata": {
        "id": "YA_LYymprnSf"
      },
      "source": [
        "## **SVM**"
      ]
    },
    {
      "cell_type": "markdown",
      "metadata": {
        "id": "a-mNiIwb31na"
      },
      "source": [
        "Linear model:"
      ]
    },
    {
      "cell_type": "code",
      "execution_count": null,
      "metadata": {
        "id": "7fzJKm84kPh1"
      },
      "outputs": [],
      "source": [
        "from sklearn import metrics\n",
        "from sklearn.metrics import confusion_matrix\n",
        "from sklearn.svm import SVC"
      ]
    },
    {
      "cell_type": "code",
      "execution_count": null,
      "metadata": {
        "id": "eqW7pW__3oV-"
      },
      "outputs": [],
      "source": [
        "# linear model\n",
        "\n",
        "# model_linear = SVC(kernel='linear')\n",
        "# model_linear.fit(X_train, y_train)\n",
        "\n",
        "# predict\n",
        "# y_pred = model_linear.predict(X_test)"
      ]
    },
    {
      "cell_type": "code",
      "execution_count": null,
      "metadata": {
        "id": "TOvJPBv_3pXk"
      },
      "outputs": [],
      "source": [
        "# confusion matrix and accuracy, precision, recall\n",
        "\n",
        "# accuracy\n",
        "# print(\"accuracy:\", metrics.accuracy_score(y_true=y_test, y_pred=y_pred), \"\\n\")\n",
        "\n",
        "# cm\n",
        "# print(metrics.confusion_matrix(y_true=y_test, y_pred=y_pred))"
      ]
    },
    {
      "cell_type": "code",
      "execution_count": null,
      "metadata": {
        "id": "SaEoHug03t2j"
      },
      "outputs": [],
      "source": [
        "#precision, recall and f1-score\n",
        "# scores=metrics.classification_report(y_test, y_pred, labels=[0, 1, 2, 3, 4, 5, 6, 7, 8, 9])\n",
        "# print(scores)"
      ]
    },
    {
      "cell_type": "markdown",
      "metadata": {
        "id": "hToaAtsZ4Rz5"
      },
      "source": [
        "Let's look at a non-linear model with randomly chosen hyperparameters."
      ]
    },
    {
      "cell_type": "markdown",
      "metadata": {
        "id": "9iA47yS0332q"
      },
      "source": [
        "Non- linear model:\n",
        "\n",
        "Poly kernel"
      ]
    },
    {
      "cell_type": "code",
      "execution_count": null,
      "metadata": {
        "id": "9XZTQHvL1HCU"
      },
      "outputs": [],
      "source": [
        "# non-linear model\n",
        "# using poly kernel, C=1(default), default value of gamma i.e. scale\n",
        "\n",
        "# model\n",
        "non_linear_model_poly = SVC(kernel='poly')\n",
        "\n",
        "# fit\n",
        "non_linear_model_poly.fit(X_train, y_train)\n",
        "\n",
        "# predict\n",
        "y_pred = non_linear_model_poly.predict(X_test)"
      ]
    },
    {
      "cell_type": "code",
      "execution_count": null,
      "metadata": {
        "colab": {
          "base_uri": "https://localhost:8080/"
        },
        "id": "QyIQJwtN3ZZE",
        "outputId": "ee9460bb-ad74-412b-c48d-1ffb4c084dd8"
      },
      "outputs": [
        {
          "output_type": "stream",
          "name": "stdout",
          "text": [
            "accuracy: 0.975 \n",
            "\n",
            "[[ 982    0    4    1    0    4    4    1    0    0]\n",
            " [   0 1133    3    0    1    0    1    2    1    0]\n",
            " [   5    2 1016    1    3    0    3    6    3    1]\n",
            " [   1    1   10  972    0    7    0    8   11    3]\n",
            " [   1    2    3    0  943    1    0    3    2    7]\n",
            " [   0    1    2    6    0  841    8    1    2    2]\n",
            " [   4    0    0    0    3    5  975    0    2    0]\n",
            " [   1    7    8    0    7    0    0 1030    0   11]\n",
            " [   0    6    6    6    2    4    3    0  929    7]\n",
            " [   3    1    1    3   13    7    1    9    2  929]]\n"
          ]
        }
      ],
      "source": [
        "# confusion matrix and accuracy, precision, recall\n",
        "\n",
        "# accuracy\n",
        "print(\"accuracy:\", metrics.accuracy_score(y_true=y_test, y_pred=y_pred), \"\\n\")\n",
        "\n",
        "# cm \n",
        "print(metrics.confusion_matrix(y_true=y_test, y_pred=y_pred))\n",
        "# y_true: Ground truth (correct) target values. \n",
        "# y_pred: Estimated targets as returned by a classifier."
      ]
    },
    {
      "cell_type": "code",
      "execution_count": null,
      "metadata": {
        "colab": {
          "base_uri": "https://localhost:8080/"
        },
        "id": "tJuGIRIY3dlp",
        "outputId": "3817645a-6ec8-4c95-e634-fb5cdfd394c5"
      },
      "outputs": [
        {
          "output_type": "stream",
          "name": "stdout",
          "text": [
            "              precision    recall  f1-score   support\n",
            "\n",
            "           0       0.98      0.99      0.99       996\n",
            "           1       0.98      0.99      0.99      1141\n",
            "           2       0.96      0.98      0.97      1040\n",
            "           3       0.98      0.96      0.97      1013\n",
            "           4       0.97      0.98      0.98       962\n",
            "           5       0.97      0.97      0.97       863\n",
            "           6       0.98      0.99      0.98       989\n",
            "           7       0.97      0.97      0.97      1064\n",
            "           8       0.98      0.96      0.97       963\n",
            "           9       0.97      0.96      0.96       969\n",
            "\n",
            "    accuracy                           0.97     10000\n",
            "   macro avg       0.97      0.97      0.97     10000\n",
            "weighted avg       0.98      0.97      0.97     10000\n",
            "\n"
          ]
        }
      ],
      "source": [
        "#precision, recall and f1-score\n",
        "scores=metrics.classification_report(y_test, y_pred, labels=[0, 1, 2, 3, 4, 5, 6, 7, 8, 9])\n",
        "print(scores)"
      ]
    },
    {
      "cell_type": "markdown",
      "metadata": {
        "id": "CS_xiy904DlJ"
      },
      "source": [
        "As we clearly see that the non-linear rbf model gives approx. 97.5% accuracy. And most of the precision is above 95%."
      ]
    },
    {
      "cell_type": "markdown",
      "metadata": {
        "id": "XBK_Xvu97_mg"
      },
      "source": [
        "## **KNN**"
      ]
    },
    {
      "cell_type": "code",
      "execution_count": null,
      "metadata": {
        "id": "GNpq4JGaiiZf"
      },
      "outputs": [],
      "source": [
        "from sklearn.neighbors import KNeighborsClassifier\n",
        "from sklearn.metrics import confusion_matrix, accuracy_score\n",
        "#Create KNeighborsClassifier Object"
      ]
    },
    {
      "cell_type": "code",
      "execution_count": null,
      "metadata": {
        "colab": {
          "base_uri": "https://localhost:8080/"
        },
        "id": "V4CSk7XPkAY3",
        "outputId": "1b354847-dbf2-4935-e53a-84be5da1789d"
      },
      "outputs": [
        {
          "output_type": "stream",
          "name": "stdout",
          "text": [
            "Begin KNN with k= 1\n",
            "Accuracy:  0.9716\n",
            "---------------\n",
            "\n",
            "Begin KNN with k= 2\n",
            "Accuracy:  0.9679\n",
            "---------------\n",
            "\n",
            "Begin KNN with k= 3\n",
            "Accuracy:  0.9741\n",
            "---------------\n",
            "\n",
            "Begin KNN with k= 4\n",
            "Accuracy:  0.9718\n",
            "---------------\n",
            "\n",
            "Begin KNN with k= 5\n",
            "Accuracy:  0.9727\n",
            "---------------\n",
            "\n",
            "Begin KNN with k= 6\n",
            "Accuracy:  0.9719\n",
            "---------------\n",
            "\n",
            "Begin KNN with k= 7\n",
            "Accuracy:  0.9725\n",
            "---------------\n",
            "\n",
            "Begin KNN with k= 8\n",
            "Accuracy:  0.9718\n",
            "---------------\n",
            "\n"
          ]
        }
      ],
      "source": [
        "score = []\n",
        "for k in range(1, 9):\n",
        "  print('Begin KNN with k=',k)\n",
        "  classifier = KNeighborsClassifier(n_neighbors=k)\n",
        "  classifier = classifier.fit(X_train.reshape(X_train.shape[0], 28*28), y_train)\n",
        "  pred = classifier.predict(X_test.reshape(X_test.shape[0], 28*28))\n",
        "  accuracy = accuracy_score(y_test, pred)\n",
        "  score.append(accuracy)\n",
        "  print(\"Accuracy: \",accuracy)\n",
        "  #print(\"Confusion Matrix:\\n\", confusion_matrix(y_test, pred))\n",
        "  print(\"---------------\\n\")"
      ]
    },
    {
      "cell_type": "code",
      "execution_count": null,
      "metadata": {
        "colab": {
          "base_uri": "https://localhost:8080/",
          "height": 295
        },
        "id": "qH4yuFPClW6J",
        "outputId": "0ddfa73b-f640-4602-b63f-8acc35f908ab"
      },
      "outputs": [
        {
          "output_type": "display_data",
          "data": {
            "text/plain": [
              "<Figure size 432x288 with 1 Axes>"
            ],
            "image/png": "iVBORw0KGgoAAAANSUhEUgAAAY4AAAEWCAYAAABxMXBSAAAABHNCSVQICAgIfAhkiAAAAAlwSFlzAAALEgAACxIB0t1+/AAAADh0RVh0U29mdHdhcmUAbWF0cGxvdGxpYiB2ZXJzaW9uMy4yLjIsIGh0dHA6Ly9tYXRwbG90bGliLm9yZy+WH4yJAAAgAElEQVR4nOzdeXxU1dnA8d+ThBACCfuWBYKyoywRUdxAEHdBwVpt3ZfaVvu2Wqxa37pQrW212tr61tZi1bbuiuK+ILjiAhn2fZ0kbAESCAmQ7Xn/uDd0jFlmwtzcSfJ8P598mLnLuc8MM/Pce84954iqYowxxoQrzu8AjDHGNC+WOIwxxkTEEocxxpiIWOIwxhgTEUscxhhjImKJwxhjTEQscRhE5DER+VW0tz1cInKliHzaFMdqLBF5W0Su8KDcLBFREUmIdtmNISJPisi9Ph1bROSfIlIoIl95UH4fEdknIvFhbFvv/4uI3C0i/452jLHGEkeUicgmEdkvIsUiUiQin4vID0UkrPdaRMaLSJ7XcYZS1R+q6q+jvW0kmuKHUkSGishsEdnj/v/MFZETItj/Wz8KqnqWqj4V/WgbjGWTiOwQkfYhy64VkXlNHUsTOAmYBGSo6piaK90TDBWRX9RYnici4xsqXFWDqtpBVSujFnELZ4nDG+epagrQF/gtcCswsykOHCtnqLFGRI4EPgOWAv2ANGAW8J6IjPUztsMQD/zU7yAiFc6ZfQ19gU2qWlLPNruBX4hISuMjiy2NeJ+ajCUOD6nqHlWdDXwXuEJEjgIQkbYi8qCIBEVku1v90849e3wbSHMvnfeJSJqIxInIbSKyXkR2icgLItLFLav6TP0aEQkCH7pnYJ+JyMPuVc8GETnBXZ7rnqkeql4JrYaovuIRkZ+7220VkasauW1XEXldRPaKyNcicm89VU8fu/8Wua97bEg5D7rVFBtF5KyQ5R1FZKZ73Hy3/Lq+bHcD81X1DlXdrarFqvoI8C/gdzXeyx+IyBa33OnuujOBXwLfdeNb7C6fJyLXuo8jfd/PEZGA+/7kisjddcRelweA6SLSqeaK2q7gDidWVzcReV+cq7WPRKRvSNmD3XW7RWS1iFwUsu5JEfmriLwlIiXAqbXEmybO1eBuEVknIte5y68B/gGMdd/3e+p4L1YC84Gba1sZ5ncowX3eT0Q+dl/nByLyqHy7+un74nx/d4rIHTXWJYnI8+7+OSIyIiSOIe7/Q5GILBeRyfW9TyJytoiscMvKr/48+k5V7S+Kf8Am4LRalgeBH7mPHwZmA12AFOB14H533Xggr8a+PwW+ADKAtsDfgGfddVmAAk8D7YF2wJVABXAVzlnpve7xH3X3Px0oBjq4ZTwJ3Bty/ApgBtAGOBsoBTo3Ytvn3L9kYCiQC3xax/tW/ToSQpZdCZQD17mv40fAFkDc9bPc96I90AP4Cri+jvK3AVfVsvxUoNJ936pjeNYt82igoPr/Eyf5/LvG/vOAa0PijeR9H+8eIw4YDmwHzq/r/ajtcwa8EvL/cS0wr57383BifdJ9foq7/k/V/5fue5XrlpUAjAJ2AkND9t0DnOi+1qRaXs/HwP8BScBI932fEBJrrZ+b0PXufoVAF3d5HjA+gu9Qgvt8PvAgkIhTTba3+v89ZNvHcT4zI4CDwJCQz0g5cCHOd2I6sNF93AZYh3MCkghMcN/TQXW9T8BW4GR3fWcg2+/fOFW1xBH1N7TuxPEFcAcgQAlwZMi6scBG9/F4vp04VgITQ573dj+cCSEf5CNC1l8JrA15frS7Tc+QZbuAke7jJ/lmMtjPN39wdgDHR7Itzo9RefWXwl13L5EnjnUhz5PdbXoBPd0vbLuQ9ZcAc+sovwI4s5blg90y00NiGByy/vfATPfx3TScOMJ+32uJ5Y/Aw3W9H7V9zoCjcH5suhN54oj0M/JcyLoOOAk3E+eK+pMa8f0NuCtk36fr+c5kumWlhCy7H3gyJNYGE4f7+AXgd+7j0MQRzncoAejjflaSQ7b9N99OHBkh678CLg75jHwRsi4O98ff/dsGxIWsfxa4u673CSeZXw+k1vX6/fiz+vCmk45TD9sd5wdwoYhUrxOcH9q69AVmiUhVyLJKnB/Park19tke8ng/gKrWXNahjuPtUtWKkOeljdi2O84XMTSumjGGY1v1A1Utdd+zDjhXa22ArSHvY1w9x9iJ82NRU2+gCudMtUctcW7G+VENV9jvu4gch9MGdhTOGWhb4MUIjoWqLhORN4DbcH4cIxHpZ+TQ+6Kq+0RkN05bUV/gOBEpCtk2Aaca8Fv71iIN2K2qxSHLNgOjw3kRNdwJfCUiD9VYHs53KDSW0pBluTjJLdS2kMc1vx+h71OVODe7pFWvU9XQGDbj/DZ8a1/XNOB/gd+KyBLgNlWdj8+sjaMJiMixOB+OT3F+wPYDw1S1k/vXUVWrP3i1DVecC5wVsn0nVU1S1fyQbWrbz08FOGduGSHLan75QkUafy7OFUe3kPckVVWH1bH9B8B3all+EU7bR+gPRWicfXCqxxoTY0OewamyzFTVjsBjOCcRkboLpzov9AeouiE5OWRZr8YEGeLQ+yIi1cl7C87/xUc1Pp8dVPVHIfvW995tAbrINxu2+wD5dWxfJ1VdhVN9V7PdIZzvEDhXB11EJPR9q+9zW5vQ9ykO5zuwxf3LlG/eYVnzdX7jfVLVr1V1Cs5Jzas4V1S+s8ThIRFJFZFzcer5/62qS92zjceBh0Wkh7tduoic4e62HegqIh1DinoMuK+6MVJEuovIlKZ7JZFT59bGV4C7RSRZRAYDl9ezSwHOmf8RYZa/FXgP+IP7PseJyJEiMq6OXe4BThCR+0Ski4ikiMhP3JhurbHtr9yYh+HU2z/vLt8OZEmYt1aHIQXn7PaAiIwBvteYQlR1nRvj/4QsK8D5QbpUROJF5GrgyMOM92wROUlEEoFf41TJ5AJvAANF5DIRaeP+HSsiQ8KMPxf4HLhfRJJEZDhwDU4VUWPcg/P/FnrTQFjfIVXdDCzA+dwminOTxnkRHv8YEZnqNrb/DOcE5wvgS5yrk1+479F4t+znaivEPf73RaSjqpbjtLVU1bZtU7PE4Y3XRaQY5yznDuAhnA9ytVtxGsm+EJG9OGfDg+DQGdOzwAb3zos0nIbI2Ti3jhbjfAiPa6oXcxhuBDriXNb/C+d1HaxtQ/eM/z7gM/d1Hx9G+ZfjVPGswKlqeonaq6NQ1bU4DZ0jcNoHtuJUA5yhqp/V2PwjnP+fOcCDqvqeu7y6GmmXiOSEEV9DfgzMcP9P7+TwziZn4DRSh7oOuAWnrWIYzo/z4XgG5+pmN3AMcCmAW8V0OnAxzln1Npw71dpGUPYlOO0HW3BuerhLVT9oTJCquhHn8xb6fkTyHfo+TrvjLpx2ueep43Nbh9dw2n0KgcuAqaparqplOIniLJyah/8DLne/83W5DNjk/k780I3Nd9V3pxjjORH5HdBLVa/wO5baiEgW7h0wNdptTCsmIs8Dq1T1Lr9jiRV2xWE8I869/cPFMQan+mGW33EZUx+3mu1It/rzTGAKTvuCcdldVcZLKTjVU2k47QN/wLmMNyaW9cJpn+uKc0vvj1Q14G9IscWqqowxxkTEqqqMMcZEpFVUVXXr1k2zsrL8DsMYY5qVhQsX7lTV7jWXt4rEkZWVxYIFC/wOwxhjmhUR2VzbcquqMsYYExFLHMYYYyJiicMYY0xELHEYY4yJiCUOY4wxEbHEYYwxJiKWOIwxxkTEEofxxcLNu/lq426/wzDGNIKniUNEzhSR1SKyTkRuq2V9XxGZIyJLRGSeiGS4y08VkUUhfwdE5Pwa+z4iIvu8jN94545Zy7jmya8pKI5kmgNjTCzwLHGISDzwKM6kJUOBS0RkaI3NHsSZnH04zkQ09wOo6lxVHamqI4EJOLNmvRdS9migs1exG28VHyhn9fZiig9W8Lt36pvDxhgTi7y84hgDrFPVDe7MV8/hjGsfaijwoft4bi3rAS4E3q6eE9pNSA8Av/AkauO5JXl7UIWRmZ14aWEeOcFCv0MyxkTAy8SRjjN1arU8d1moxcBU9/EFQIqIdK2xzcU4czpUuxGY7c45XScR+YGILBCRBQUFBREHb7wTcBPFXy/NpmdqW+56bTmVVTa8vzHNhd+N49OBcSISAMYB+UBl9UoR6Q0cDbzrPk8DvgP8uaGCVfXvqjpaVUd37/6twR2NjwLBIvr36EDvju345dlDWJq/h+e/zm14R2NMTPAyceQDmSHPM9xlh6jqFlWdqqqjgDvcZUUhm1wEzFLVcvf5KKA/sE5ENgHJIrLOo/iNB1SVQG4R2X06ATB5RBpj+nXh9++uorCkzOfojDHh8DJxfA0MEJF+IpKIU+U0O3QDEekmItUx3A48UaOMSwipplLVN1W1l6pmqWoWUKqq/T17BSbqNu8qZXdJGaP6OPc2iAj3TB5G8YEK/vD+ap+jM8aEw7PEoaoVOO0R7wIrgRdUdbmIzBCRye5m44HVIrIG6AncV72/iGThXLF85FWMpukFcp32jVHuFQfAkN6pXHZ8X575Msiy/D1+hWaMCZOnbRyq+paqDlTVI1X1PnfZnao62338kqoOcLe5VlUPhuy7SVXTVbWqnvI7eBm/ib6czUV0aJvAgB4p31h+06SBdE5O5K7Zy1G1hnJjYpnfjeOmlQnkFjIisyPxcfKN5R3bteHWMwezcHMhswL5dextjIkFljhMk9lfVsnKrcWMyqy97+aFx2QwIrMTv3lrFcUHymvdxhjjP0scpsksySuiskrJ7tup1vVxccKMycPYVXKQR+asbeLojDHhssRhmkwg17nTemQdVxwAIzI7cfGxmfzzs02s3V7cVKEZYyJgicM0mUCwkKyuyXRpn1jvdtNPH0RyYjx3v24N5cbEIkscpkmoKjnBokP9N+rTtUNbpp8xiM/W7eLtZduaIDpjTCQscZgmkV+0n4Lig4d6jDfke2P6MKR3Kve+sYLSsgqPozPGRMISh2kSgaDTvhHOFQdAQnwcM6YMY8ueA/x13novQzPGRMgSh2kSOcFCktrEMahXSsMbu47N6sL5I9P420cb2LSzxMPojDGRsMRhmkQgWMTwjE60iY/sI3f72UNoEy/8+o0VHkVmjImUJQ7juYMVlazYsvcb41OFq2dqEj89bQBzVu1gzsrtHkRnjImUJQ7jueVb9lJWWVVnj/GGXHlCP47s3p4Zb6zgQHllwzsYYzxlicN4LmezMyJuuHdU1ZSYEMfdk4exeVcpMz/dGM3QjDGNYInDeC6QW0R6p3b0SE1qdBknD+jOmcN68ecP15JftD+K0RljImWJw3huUbCoUe0bNf3vuUNQhd+8uTIKURljGssSh/HU9r0HyC/aT3aY/Tfqk9E5mRtO7c+bS7fy2bqdUYjOGNMYljiMpwLBb8/4dzh+cMoR9OmSzN2zl1NeWeccX8YYD1niMJ4KBItIjI9jaFpqVMpLahPPnecOZe2OfTz1+aaolGmMiYwlDuOpnGAhw9JTaZsQH7UyJw7pwfhB3fnjB2vZUXwgauUaY8JjicN4pryyiiV5e6LSvhFKRLjrvGGUVVTx27dXRbVsY0zDLHEYz6zaWszBiqqotW+E6tetPdee3I9XcvJZuHl31Ms3xtTNEofxTM6hhvHoXnFUu3FCf3p3TOLO15ZTWWUTPhnTVCxxGM8EgoX0TG1LWsfGd/yrT3JiAnecM4TlW/by7FdBT45hjPk2TxOHiJwpIqtFZJ2I3FbL+r4iMkdElojIPBHJcJefKiKLQv4OiMj57rqZIrLY3eclEeng5WswjRfILWJUZmdExLNjnHN0b8Ye0ZUH31tNYUmZZ8cxxvyXZ4lDROKBR4GzgKHAJSIytMZmDwJPq+pwYAZwP4CqzlXVkao6EpgAlALvufvcpKoj3H2CwI1evQbTeDv3HWTzrlJP2jdCiQh3Tx5G8YEKHnhvtafHMsY4vLziGAOsU9UNqloGPAdMqbHNUOBD9/HcWtYDXAi8raqlAKq6F0Cc09h2gFVux6BF7ox/2X29ad8INahXCleMzeLZr4Isy9/j+fGMae28TBzpQG7I8zx3WajFwFT38QVAioh0rbHNxcCzoQtE5J/ANmAw8OfaDi4iPxCRBSKyoKCgoHGvwDRaILeQhDjhqLSOTXK8n00aQNf2idz52jKqrKHcGE/53Tg+HRgnIgFgHJAPHJpwQUR6A0cD74bupKpXAWnASuC7tRWsqn9X1dGqOrp79+4ehW/qkrO5iCG9U2mXGL2Of/VJTWrDbWcNISdYxCuB/CY5pjGtlZeJIx/IDHme4S47RFW3qOpUVR0F3OEuKwrZ5CJglqqW1yxcVStxqr+mRTtwc3gqq5TFeUWNnn+jsaaOSmdUn0789u2V7D3wrY+MMSZKvEwcXwMDRKSfiCTiVDnNDt1ARLqJSHUMtwNP1CjjEkKqqcTRv/oxMBmwrsMxZs32YkrLKj3rv1GXuDhhxuSj2FVSxh/fX9ukxzamNfEscahqBc4dT+/iVCm9oKrLRWSGiEx2NxsPrBaRNUBP4L7q/UUkC+eK5aOQYgV4SkSWAkuB3jh3Y5kYEnAbxr2+o6o2R2d05JIxfXhq/ibWbC9u8uMb0xokeFm4qr4FvFVj2Z0hj18CXqpj303UaExX1SrgxKgHaqIqJ1hIl/aJ9OmS7Mvxbzl9EG8t3cpdry3nmeuO87QfiTGtkd+N46YFCgQLye7Tybcf7M7tE5l++iDmb9jFm0u3+hKDMS2ZJQ4TVXtKy1lfUNLk7Rs1XTKmD8PSUrnvzZWUHKzwNRZjWhpLHCaqArnuwIaZTd++ESo+Trhn8jC27jnAo3PX+RqLMS2NJQ4TVYFgEXECw31OHACjs7owNTudf3yykY07S/wOp0lsKdrP9f9awI3P5JC7u9TvcEwLZYnDRFUgt4iBPVPo0NbT+y7CdttZg0lMiOOe15ej2nJ7lKsqz3wZ5PSHP+bjNTuZs3IHpz30EQ+9v4b9ZZUNF2BMBCxxmKipqlICwULf2zdC9UhJ4menDWDe6gLmrNzhdzieyN1dyqUzv+SXs5YyPKMj7910Ch9OH8cZw3rxyJy1nPbQR7y1dGuLTpymaVniMFGzYec+ig9UNHmP8YZccUIWA3p0YMYbKzhQ3nLOvquqlKfnb+KMP37M4tw93HfBUfzn2uPI7JJM747teOSSUbxw/VhS27Xhx//J4XuPf8nqbda3xRw+SxwmanIOdfyLnSsOgDbxcdw9eRjB3aU8/vEGv8OJik07S7jk8S+487XlHNO3M+/edArfP67vt26BHtOvC2/85CTuPf8oVm7by9mPfMLds5ezp9SGZDGNZ4nDRE0gWEhqUgJHdGvvdyjfcmL/bpxzdG8enbeOvMLm22hcWaXM/HQjZ/7pY1Zs3cvvpw3n6avHkN6pXZ37xMcJlx7fl3nTx/O9MX14ev4mxj84l2e+DNqUu6ZRLHGYqAkEixjVpzNxcbHZU/uX5wxBEO57c6XfoTTK+oJ9XPS3+fz6jRWccGQ33r9pHBcdmxl2R8tOyYn8+vyjeOMnJzOgZwq/nLWUKY9+yoJNuz2OvGU4UF7J7MVb+GhNQatvL4qNW19Ms7fvYAWrtxdz5lG9/A6lTumd2nHjhP488O5qPllbwMkDmsdw+5VVyj8+2cBD768hqU08D100ggtGpTe6Z/7QtFSe/8HxvLFkK795ayUXPjafC0alc9tZg+mZ6s388M1ZQfFB/v3FZv7z5WZ27nOmJx6Z2Ymfnz6Qk/p3a5VD2ljiMFGxOLcI1dhr36jp2pP78cKCXO6evZy3f3oKiQmxfdG9dnsx019awuLcIk4f2pN7zz+KHlH4cRcRzhuRxsQhPfi/uev5+8cbeHf5Nn4yYQBXn5RF24SmmUcllq3cupcnPt3Ia4u2UFZZxYTBPbjqxCzyC/fzyJy1XDbzK8b068LPJw3kuCNqzj/XsklruOQaPXq0LliwwO8wWrS/fLiWB99bw+I7T6djchu/w6nXh6u2c/WTC7jj7CFcd8oRfodTq/LKKv7+8Qb+9MFa2reN554pR3He8N6end1u3lXCvW+u5P0V28nqmsyd5w1lwuCenhwrllVVKXNX72Dmpxv5fP0u2rWJ58JjMrjqxCyO6N7h0HYHKyp57qtcHp27jh3FBzl5QDdunjQw5k+cIiUiC1V19LeWW+Iw0XDNk1+zeXcpH9w8zu9QwnLNk1/zxYZdzJ0+Pipn8NG0cutebnlpMcvy93LO0b25Z8owunVo2yTH/mhNAfe8vpwNBSVMGNyDX507lH4xeLNDtJUcrODlnDz++dkmNu4soXfHJK44IYuLj82kU3JinfsdKK/k319s5v/mrWd3SRkTB/fgpkkDOSq9aaZM9polDkscnlFVjrn3AyYO7sED3xnhdzhh2byrhEkPfcw5w3vz8HdH+h0OAGUVVTw6dx2Pzl1Hp+Q2/HrKUZx1dG9f4nh6/ib++MFaDlZUcs1JR3DjhP4xMxpANOUX7efpzzfx7FdB9h6oYGRmJ645qR9nHtWLNvHhV2OWHKzgyc838fePN7BnfzlnDuvFTZMGMqhXiofRe6+uxNHyPgmmyW3eVcrukrJmdZnet2t7rh93BH/+cB3fO64Px2Z18TWeZfl7mP7iYlZtK+b8kWncdd4wOrev+0zXS4kJcVx78hFMHpnG799ZzWMfreeVnDxuP3sw549sfKN8LMkJFjLz0428s2wbAGce1YurT+zHMX0b9xlu3zaBG07tz2Vj+zLzk43M/HQj767YxnnD0/jZaQO+Uc3VEtgVhzlsswJ53PT8Yt752ckM7pXqdzhh219WycQ/zKNjciJv/OQk4n24jfhgRSWPzFnLYx9toGv7RO674GgmDY2ttoVAsJC7Zy9ncd4ejunbmXsmD2uWVTEVlVW8vWwbMz/dyKLcIlKSEvjemD5cfkJWvf1gGqOwpIy/f7KBJz/bxMGKSqZmZ/DTiQPI9Glys8ayqipLHJ6587VlvLwwjyV3n+HLj+/heGvpVn78nxx+PWUYl43NatJjL8ot4pYXF7N2xz4uPCaDX50zNGZvLKiqUl7KyeP376xiV0kZFx/bh+mnD6RrE7W9HI49peU8+3WQpz/fxJY9B8jqmsxVJ/bjwmMyaO9x9dvOfQd5bN56/vXFZiqrlIuOzeTGU/uTFuVE5RVLHJY4PHPunz8hNakNz1x3vN+hRExVuXTmlyzN28Pc6eOb5IfwQHklD7+/hsc/2UDP1CR+M/VoTh3Uw/PjRsPeA+X86YO1PPX5JpIT47l50kAuPb4vCRG0BzSVDQX7+Odnm3hpYR77yys54ciuXH1iPyYM7tHknVS373XmhXn2qyCC8L3j+vDj8UfG3I0ZNVnisMThif1llRx197v8aNyRTD9jkN/hNMra7cWc9adP+M7oDO6fOtzTYy3cvJtbXlzChp0lXDImk9vPHkJqUmxeZdRn7fZi7nl9BZ+u28mgnincdd5QTujfze+wUFU+X7+LJz7dyJxVO0iMj2PyyDSuPrEfQ9P8r0bNKyzlLx+u48WFebSJFy4fm8X1pxwRs1duljgscXjiq427uehv85l5xWgmDomtuvlI3PvGCmZ+tpHXbjiR4RnRH913f1klD7y7mn9+vpG0ju343bThnDTA/x/aw6GqvLdiO79+YwV5hfs5++he/PLsIWR0bvp6/APllcxetIUnPtvIqm3FdG2fyKXH9+XS4/vSPSX2fpQ37SzhkTlreXVRPu3axHPVif247uQjYq6q0hKHJQ5PPPbRen779ioW/u9pMXvWFI7iA+Wc+uBHZHRuxys/OiGqVRlfbNjFrS8vYfOuUi47vi+3njW4Rd3aeqC8ksc/3sCj85wpen80rj/XjzuCpDbe9z6vORzI4F4pXH1SPyaPSGuS4x+udTuKefiDtby5ZCspSQlcd/IRXHViFikxchVqicMShyeu/9cCVm8rZt4tp/odymF7JSePm19YzO8vHM5FozMPu7ySgxX87p1VPD1/M326JPO7acMZe2TLHZoiv2g/v3lrJW8u2Up6p3b86twhnDGslye3767YspcnPtvIbHc4kImDe3DNSf0Ye2TXZnm78Mqte3n4/TW8t2I7nZLb8MNxR3L52L4kJ/p7guFL4hCRM4E/AfHAP1T1tzXW9wWeALoDu4FLVTVPRE4FHg7ZdDBwsaq+KiL/AUYD5cBXwPWqWu/kApY4vKGqjPnNHE7q3y1mOtEdDlXlO4/NZ+POEj6cPp6O7Rp/1vfZup3c+vIS8ov2c+UJWdxyxiDffwSayvz1u7jn9eWs2lbMif27ctd5wxjY8/A7wlVVKR+ucoYDmb/BGQ7kO6MzuPKErBbTT2JJXhEPvb+GeasL6NYhkR+N78/3j+vj29VTkycOEYkH1gCTgDzga+ASVV0Rss2LwBuq+pSITACuUtXLapTTBVgHZKhqqYicDbztrn4G+FhV/1pfLJY4vJFXWMpJv5vLjCnDuLyJb2X1yvItezjvz59y+dgs7p48LOL9iw+U85u3VvHsV0GO6Nae3184nNE+dy70Q0VlFc98FeQP761h38EKLh/bl5+dNrBRybjkYAUvLczjn59tZNOuUtIODQfSJ+baBKJl4ebd/OG9NXy+fhe9UpO4YUJ/vjs6s8kH5fSj5/gYYJ2qbnADeA6YAqwI2WYocLP7eC7wai3lXAi8raqlAKr6VvUKEfkKyIh+6CYcgeoZ/zKbT4/xhgxL68j3juvDv77YzMVjMiPq0Dhv9Q5uf2Up2/ce4AenHMHNkwY2i3p2LyTEx3H52CzOHZ7Gg++t5snPNzF70RZuOWMQ3xmdGVZ/n/yi/TzlDgdSfKCCUX06Mf2MQZwxLLLhQJqjY/p24Znrjufz9Tt56L01/OrVZfzto/X8z4QBTM1O9/32Zy+Png7khjzPc5eFWgxMdR9fAKSISM1K4IuBZ2sWLiJtgMuAd2o7uIj8QEQWiMiCgoKCRoRvGhIIFpHUJo7BvZv3eDw1TT99EKlJCdz12vKwJuzZU1rO9BcXc+U/v6ZD2wRe/tEJ/PLsIa02aYTq0j6R31xwNK/feLdMrj0AACAASURBVBL9urXntleWcv6jn7Fwc2Gd+yzcXMgN/8nhlN/PZeanGxk3sDuv/PgEZv34RM4dntbik0aoE47sxos/HMtTV4+ha/tEfvHyEiY9/DGvBvJ9nb3Ry6qqC4EzVfVa9/llwHGqemPINmnAX4B+wMfANOAoVS1y1/cGlgBpNdsxRORxoERVf9ZQLFZV5Y3zH/2MxPg4XvjhWL9Dibpnvgzyy1lLeeSSUUwekVbndh+s2M4vZy1lV0kZPxx3BP8zcYDNZVEHVWX24i385q2VbN97kKnZ6dx25mB6pCZR7g4H8oQ7HEhqUgKXHNeHy8dGfziQ5kpV+WDlDh56fw0rt+5lQI8O3DRpIGcO6+VZh0Y/qqrygdBbUzLcZYeo6hbcKw4R6QBMq04arouAWbUkjbtwGtSv9yBuE4aDFZWs2LKXq07M8jsUT3z32Eye/SrIfW+uYOLgHt8amqKwpIx7Xl/Oq4u2MLhXCjOvOJajM5rf+E1NSUSYMjKd04b05C9z1zHzk428u2wbF2SnM2flDrbuOUC/bu2ZMWUY07K9Hw6kuRERJg3tycTBPXh72TYe/mANP/5PDkN6p3LzpIGcNqRHk91R5uU139fAABHpJyKJOFVOs0M3EJFuIlIdw+04d1iFuoQa1VQici1wBk5De5UnkZsGLd+yl7LKqmY1Im4k4uOEe6YMY/veg/z5w3XfWPfOsq1Mevhj3liylZ9OHMDsG0+ypBGB9m0TuPXMwbx70ykcf0RX/v1FkH7d2jPzitHMuXkcl4/NsqRRj7g44ZzhvXn3Z6fw8HdHsL+sguueXsD5j37WZPOhe/a/o6oVInIj8C7O7bhPqOpyEZkBLFDV2cB44H4RUZyqqhuq9xeRLJwrlo9qFP0YsBmY72bXV1R1hlevw9Qux62jHtUn+r2sY0V2n85ceEwGMz/dwEWjM+jYrg13zl7Om0u2MiwtlaevHhMTw1g0V/26tWfmlcdSWlbRam5Vjqb4OOGCURmcNzyNV3Ly+dOctVzxxFccm9WZmycN8rTPkHUANI1ywzM5LAoW8dltE/wOxVMFxQeZ8OA8+nRNZuueAxQfKOenEwdw/bgjW1UjrYl9ZRVVPL8gl798uJbtew9ywpFd+fnpAzmmb+NvB6+rjcM++aZRFgWLWvTVRrXuKW25adJAlm/ZS2bndrz5Pydz44QBljRMzElMiOOy4/vy0S2n8qtzh7JmezHT/jqfQLDuO9gay64PTcS27z1AftF+rj6pn9+hNImrTsxiRGYnRmR09P3+eWMaktQmnmtO6sclYzJ5c8lWRmZG/wTPEoeJWPUZTGu44gDnbpbGTilqjF+SExP4ThTGXKuNnT6ZiAWCRSTGxzHMGoaNaZUscZiIBYJFDEtPtY5uxrRSljga0BruOotEeWUVS/KLWtT4VMaYyDSYOETkvJBOeq3K3bOXc9Pzi/wOI6as2lrMgfKqVtO+YYz5tnASwneBtSLyexEZ7HVAsSQ+Tnhz6VaKSsv8DiVmBHKdhvFsayw2ptVqMHGo6qXAKGA98KSIzHdHnm1ZQ6LWYmp2OuWVyuuLt/gdSszI2VxIj5S2pHVM8jsUY4xPwqqCUtW9wEvAc0BvnCHQc0TkJx7G5rthaR0Z3CuFl3PyG964lQjkOh3/muP0nMaY6AinjWOyiMwC5gFtgDGqehYwAvi5t+H5b1p2Botyi1hfsM/vUHy3a99BNu8qJbuFDmxojAlPOFcc04CHVfVoVX1AVXcAuDPyXeNpdDFgysg04gReycnzOxTfHZrxzxKHMa1aOInjbuCr6ici0s4duRZVneNJVDGkR2oSpwzszqycfKp8nHErFgRyC0mIE45OtyHEjWnNwkkcLwKh815UustajanZGWzZc4AvNu7yOxRfBYJFDOmdSrtE6/hnTGsWTuJIUNVD96O6jxO9Cyn2nD60JyltE3h5YettJK+sUhbnto4RcY0x9QsncRSIyOTqJyIyBdjpXUixJ6lNPOcM783by7ZSWlbhdzi+WLO9mJKySkscxpiwEscPgV+KSFBEcoFbaYVzfU/NzqC0rJJ3l2/zOxRfVDeM2x1VxphwOgCuV9XjgaHAEFU9QVXXNbRfSzO6b2cyu7RrtdVVgWAhXdon0qdLst+hGGN8FtZ8HCJyDjAMSKru+NXa5vmOixOmjsrgkQ/XsnXPfnp3bOd3SE0qJ1jIqEzr+GeMCa8D4GM441X9BBDgO0Bfj+OKSVOz01GFWYHWddWxp7Sc9QUl1r5hjAHCa+M4QVUvBwpV9R5gLDDQ27BiU9+u7Tk2qzOv5OS3quHWF+VZ+4Yx5r/CSRwH3H9LRSQNKMcZr6pVmpqdwbod+1iav8fvUJpMzuZCRGC4B3MXG2Oan3ASx+si0gl4AMgBNgHPeBlULDv76N4kJsTx8sLWMwRJILeIQT1T6NDWpqg3xjSQONwJnOaoapGqvozTtjFYVe8Mp3AROVNEVovIOhG5rZb1fUVkjogsEZF5IpLhLj9VRBaF/B0QkfPddTe65amIdIv4FR+mju3acPrQnsxevIWyiqqGd2jmqqqURcFCG5/KGHNIvYlDVauAR0OeH1TVsOpoRCTe3fcsnFt5LxGRoTU2exB4WlWHAzOA+93jzFXVkao6EpgAlALvuft8BpwGbA4nDi9My86gsLSceat3+BVCk9mwcx97D1RYw7gx5pBwqqrmiMg0ifw+zDHAOlXd4A5T8hwwpcY2Q4EP3cdza1kPcCHwtjsaL6oaUNVNEcYSVScP6Ea3Dm15uRWMmJtzqOOfJQ5jjCOcxHE9zqCGB0Vkr4gUi8jeMPZLB3JDnue5y0ItBqa6jy8AUkSka41tLgaeDeN43+DOUrhARBYUFBREunu9EuLjOH9kGh+u2kFhScueVjYQLCI1KYEjunXwOxRjTIwIp+d4iqrGqWqiqqa6z1OjdPzpwDgRCQDjgHyc0XcBEJHewNHAu5EWrKp/V9XRqjq6e/fuUQr3v6ZmZ1BeqbyxpGVPKxsIFjKyT2fi4qzjnzHG0eBtMiJySm3LVfXjBnbNBzJDnme4y0LL2IJ7xSEiHYBpqloUsslFwCxVLW8ozqY2NC2Vwb1SeCknn8vGZvkdjif2Haxg9fZizhjWy+9QjDExJJz7K28JeZyE03axEKfRuj5fAwNEpB9OwrgY+F7oBu5dUbvdRvjbgSdqlHGJuzwmXXhMBve+uZJ1O/bRv0fLq8pZkluEKmT3tTuqjDH/FU5V1Xkhf5OAo4DCMParAG7EqWZaCbygqstFZEbIMO3jgdUisgboCdxXvb87y2Am8FFouSLyPyKSh3MFs0RE/tHgq/TIZHda2VmBltlInhN0/ptHZljDuDHmvxrToysPGBLOhqr6FvBWjWV3hjx+CXipjn038e3GdFT1EeCR8MP1To+U/04r+/NJg1pcO0AgWMSR3dvTMbmN36EYY2JIOG0cfwaqB2aKA0bi9CA3OH06fvJsgC827OKE/k3eH9Ezqkogt4gJg3v4HYoxJsaEc8WxIORxBfCsqn7mUTzNzqShPUlJSuDlnPwWlTg27ypld0mZDWxojPmWcBLHS8ABVa0Ep0e4iCRXd8hr7ZLaxHPu8N68tmgLM6YMo30LGc8pkOu0b1iPcWNMTWH1HAdCZy1qB3zgTTjNU0ucVjYQLKJ9YjwDe6b4HYoxJsaEkziSVHVf9RP3sc0fGmJ038706ZLcooYgCQSLGJHZifgW1uBvjDl84SSOEhHJrn4iIscA+70LqfkREaZmp/P5+l1sKWr+b83+skpWbt1r1VTGmFqFkzh+BrwoIp+IyKfA8zj9M0yIqaMyUIVXFzX/aWWX5u+hokoZlWkN48aYb2uwJVdVvxaRwcAgd9HqWBwCxG99uiZzbFZnXl6Yx4/GHUnkgwnHjkDQGsaNMXVr8IpDRG4A2qvqMlVdBnQQkR97H1rzMy07g/UFJSzJa97TyuYEC+nbNZmuHdr6HYoxJgaFU1V1XejAg6paCFznXUjN19nDnWllX2nGjeSqSk6wiFE2v7gxpg7hJI740Emc3Jn9Er0LqflKTWr+08pu2XOAguKDNrChMaZO4SSOd4DnRWSiiEzEmVTpbW/Dar6mHeNMKzu3mU4rm7PZbd+whnFjTB3CSRy34kzv+kP3bynf7BBoQpzc35lWtrlWVwWCRbRNiGNwb+v4Z4ypXTjDqlcBXwKbcObimIAzTLqpRXOfVjaQW8jwjI60iQ/nnMIY0xrV+esgIgNF5C4RWQX8GQgCqOqpqvqXpgqwOZp2jDOt7OvNbFrZgxWVLM/fawMbGmPqVd9p5Sqcq4tzVfUkVf0zIfOBm7oN6Z3KkN6pvJzTvDoDLt+yl7LKKuu/YYypV32JYyqwFZgrIo+7DePNt1dbE5uWnc7i3CLW7djX8MYxIhB07roeZVccxph61Jk4VPVVVb0YGAzMxRl6pIeI/FVETm+qAJurySPTiI+TZtVInhMsJL1TO3qmJvkdijEmhoXTOF6iqs+o6nk483wHcO60MvXokZLEKQO6MSuQT1WVNrxDDFgULGKkVVMZYxoQ0a0zqlqoqn9X1YleBdSSTDsmg617DjB/wy6/Q2nQ9r0HyC/abz3GjTENsnsuPXTakOppZWO/uqp6YEPrMW6MaYglDg9VTyv7zrJtlBys8DucegWCRSTGxzEsLdXvUIwxMc4Sh8emudPKvrMstqeVDQSLGJqWStuEeL9DMcbEOE8Th4icKSKrRWSdiNxWy/q+IjJHRJaIyDwRyXCXnyoii0L+DojI+e66fiLypVvm8yIS0wMuHuNOK/tKIHarq8orq1iSX2Qd/4wxYfEscbij6D4KnAUMBS4RkaE1NnsQeFpVhwMzgPsBVHWuqo5U1ZE4nRBLgffcfX4HPKyq/YFC4BqvXkM0NIdpZVdtLeZAuXX8M8aEx8srjjHAOlXdoKplwHPAlBrbDMUZQBGcviI11wNcCLytqqXu8O4TgJfcdU8B50c98iirnlZ2ViA2e5IHcm3GP2NM+LxMHOlAbsjzPHdZqMU4PdQBLgBSRKRrjW0uxhnKHaArUKSq1S3NtZUJgIj8QEQWiMiCgoKCRr6E6OjTNZkxWV14JScP1djr0xEIFtE9pS3pnWzQY2NMw/xuHJ8OjBORADAOyCdkPCwR6Q0cDbwbacFuf5PRqjq6e/fu0Yq30aZmp7O+oITFMTitbE6wkOw+nZr1POnGmKbjZeLIBzJDnme4yw5R1S2qOlVVRwF3uMuKQja5CJilquXu811AJxFJqKvMWHX28N60jcFpZXftO8jmXaU2PpUxJmxeJo6vgQHuXVCJOFVOs0M3EJFuIlIdw+3AEzXKuIT/VlOhTj3PXJx2D4ArgNc8iD3qUpPacPqwXjE3reyiXHdgQ+sxbowJk2eJw22HuBGnmmkl8IKqLheRGSIy2d1sPLBaRNYAPYH7qvcXkSycK5aPahR9K3CziKzDafOY6dVriLZp2ekUlZbz4arYmVY2J1hIfJwwPMMShzEmPAkNb9J4qvoW8FaNZXeGPH6J/94hVXPfTdTS8K2qG3Du2Gp2Turfje4pzrSyZx7Vy+9wAKdhfEjvFNolWsc/Y0x4/G4cb1Wqp5Wdu3oHu2NgWtnKKmVxbhGjMq19wxgTPkscTezQtLKL/Z9Wds32YkrKKsnua9VUxpjwWeJoYoN7pTK0d2pM3F11aMY/u+IwxkTAEocPpmanszhvD+t2FPsaRyBYSJf2ifTtmuxrHMaY5sUShw+mjEwnPk54OcffLig5wUJGZVrHP2NMZCxx+KB7SlvGDezOq4F8Kn2aVnZPaTnrC0psfCpjTMQscfhkana6M63sen+mlV2U57ZvWI9xY0yELHH4pHpaWb8ayQPBQkRgeEZHX45vjGm+LHH4xJlWNo23fZpWNidYxKCeKaQktWnyYxtjmjdLHD6alp3O/vJK3m7iaWWrqpRFwUJr3zDGNIolDh8d07czfbsmN3l11YadJew9UGH9N4wxjWKJw0ciwtRRGczfsIv8JpxWNifozPhnPcaNMY1hicNnU7PTUYVXm3Ba2UCwiJSkBI7o1qHJjmmMaTkscfgss0syY/p14eUmnFY2ECxkZGYn4uKs458xJnKWOGLAtOx0NjTRtLL7DlawZnsx2dZ/wxjTSJY4YsDZRzvTyr680PtG8iW5RVQpdkeVMabRLHHEgJSkNpwxrBevL9nCwYpKT48VyLURcY0xh8cSR4yY6k4rO3dVgafHydlcyJHd29Mx2Tr+GWMaxxJHjDipfzd6pLTlZQ/7dKgqgdwiG5/KGHNYLHHEiIT4OM4flc7cVd5NKxvcXcrukjJr3zDGHBZLHDFkanY6FVXeTStb3fHP2jeMMYfDEkcMGdwrlWFpqZ5VVwWCRSQnxjOoV4on5RtjWgdLHDFmanYGS/L2sHZ79KeVDQSLGJHRiXjr+GeMOQyeJg4ROVNEVovIOhG5rZb1fUVkjogsEZF5IpIRsq6PiLwnIitFZIWIZLnLJ4hIjogsE5GnRCTBy9fQ1CaPSPNkWtn9ZZWs3LrX2jeMMYfNs8QhIvHAo8BZwFDgEhEZWmOzB4GnVXU4MAO4P2Td08ADqjoEGAPsEJE44CngYlU9CtgMXOHVa/BD95S2jPdgWtml+XuoqFLrMW6MOWxeXnGMAdap6gZVLQOeA6bU2GYo8KH7eG71ejfBJKjq+wCquk9VS4GuQJmqrnH3eR+Y5uFr8MXU7Ay27Y3utLIBt2F8pF1xGGMOk5eJIx3IDXme5y4LtRiY6j6+AEgRka7AQKBIRF4RkYCIPOBewewEEkRktLvPhUBmbQcXkR+IyAIRWVBQ4G2numibOKQHqUkJUW0kDwSL6NMlmW4d2katTGNM6+R34/h0YJyIBIBxQD5QCSQAJ7vrjwWOAK5UZ/jYi4GHReQroNjd/ltU9e+qOlpVR3fv3t37VxJFSW3iOXdEGu8s28a+KEwrq6rkBAvJtqsNY0wUeJk48vnm1UCGu+wQVd2iqlNVdRRwh7usCOfqZJFbzVUBvApku+vnq+rJqjoG+BhYQwtUPa3sO1GYVnbLngPsKD5oPcaNMVHhZeL4GhggIv1EJBHnSmF26AYi0s1t8Aa4HXgiZN9OIlJ9qTABWOHu08P9ty1wK/CYh6/BN9l9OpPVNTkqI+ZWt2/YHVXGmGjwLHG4Vwo3Au8CK4EXVHW5iMwQkcnuZuOB1SKyBugJ3OfuW4lTTTVHRJYCAjzu7nOLiKwElgCvq2p143qLIiJMzXamlc0rLD2ssnI2F9E2IY4hvVOjFJ0xpjWTppp1zk+jR4/WBQsW+B1GxHJ3l3Ly7+dyyxmDuOHU/o0u54L/+4yEOOHFH54QxeiMMS2diCxU1dE1l/vdOG7qkdklmeP6deHlhY2fVvZgRSXL8/da+4YxJmosccS4adkZbNhZwiJ3AqZILd+yl7LKKkZlWvuGMSY6LHHEuLOO7kVSmzheaeQQJIGgk3Cy+9oVhzEmOixxxLjqaWVnL27ctLKBYCFpHZPomZrkQXTGmNbIEkczMDU7gz37y5m7akfE+waCNuOfMSa6LHE0A/+dVjay6qrtew+QX7Tf+m8YY6LKEkczEB8nXOBOK7tr38Gw96tu37ArDmNMNFniaCamZmdEPK1sIFhIm3hhWJp1/DPGRI8ljmZiUK8Ud1rZ8KurAsEihqV1JKlNvIeRGWNaG0sczci07AyW5u9hTRjTypZXVrEkv8jaN4wxUWeJoxmZPDKNhDgJq0/H6m3FHCivsvYNY0zUWeJoRrp1aMv4Qd2ZFchrcFrZHHdEXJuDwxgTbZY4mpmp2Rls33uQz9fvrHe7QLCI7iltSe/UrokiM8a0FpY4mpkJg51pZRuqrgoECxmV2QkRaaLIjDGthSWOZiapTTznNTCt7K59B9m0q9TaN4wxnrDE0QxNzc5gf3klby/dWuv66pF0rX3DGOMFSxzNUHafTvTr1r7O6qpAsIj4OOHojI5NHJkxpjWwxNEMiQhTR6XXOa1sTrCQwb1SSE5M8CE6Y0xLZ4mjmTp/VDoArwa+edVRWaUszi0i29o3jDEescTRTFVPK/tKTv43ppVdu6OYkrJK6zFujPGMJY5mbNoxzrSygZBpZXM224i4xhhvWeJoxs46qnpa2bxDywLBQjontyGra7KPkRljWjJLHM1Y9bSyry/eemha2UCuM+OfdfwzxnjF08QhImeKyGoRWScit9Wyvq+IzBGRJSIyT0QyQtb1EZH3RGSliKwQkSx3+UQRyRGRRSLyqYj09/I1xLpp7rSyH67cwZ7Sctbt2MeoTGvfMMZ4x7PEISLxwKPAWcBQ4BIRGVpjsweBp1V1ODADuD9k3dPAA6o6BBgDVE+4/Vfg+6o6EngG+F+vXkNzcGLItLKL8tyOf32tfcMY4x0vrzjGAOtUdYOqlgHPAVNqbDMU+NB9PLd6vZtgElT1fQBV3aeq1R0WFKie0q4jEP6UeC1Q9bSy81bvYM7K7YjAcOv4Z4zxkJeJIx3IDXme5y4LtRiY6j6+AEgRka7AQKBIRF4RkYCIPOBewQBcC7wlInnAZcBvazu4iPxARBaIyIKCgoIovaTYVD2t7H++DDKwRwopSW38DskY04L53Tg+HRgnIgFgHJAPVAIJwMnu+mOBI4Ar3X1uAs5W1Qzgn8BDtRWsqn9X1dGqOrp79+6evgi/DeqVwlHpqVRWqfXfMMZ4zsvEkQ9khjzPcJcdoqpbVHWqqo4C7nCXFeFcnSxyq7kqgFeBbBHpDoxQ1S/dIp4HTvDwNTQb07Kd+wqsx7gxxmteDmb0NTBARPrhJIyLge+FbiAi3YDdqloF3A48EbJvJxHprqoFwARgAVAIdBSRgaq6BpgErPTwNTQbFx6TQe7u/ZwxrJffoRhjWjjPEoeqVojIjcC7QDzwhKouF5EZwAJVnQ2MB+4XEQU+Bm5w960UkenAHHE6JCwEHnfLvA54WUSqcBLJ1V69huYkJakNd55X86Y1Y4yJPgkd56ilGj16tC5YsMDvMIwxplkRkYWqOrrmcr8bx40xxjQzljiMMcZExBKHMcaYiFjiMMYYExFLHMYYYyJiicMYY0xELHEYY4yJSKvoxyEiBcDmRu7eDdgZxXC81pzitVi905zibU6xQvOK93Bj7auq3xrsr1UkjsMhIgtq6wATq5pTvBard5pTvM0pVmhe8XoVq1VVGWOMiYglDmOMMRGxxNGwv/sdQISaU7wWq3eaU7zNKVZoXvF6Equ1cRhjjImIXXEYY4yJiCUOY4wxEbHEUQcReUJEdojIMr9jaYiIZIrIXBFZISLLReSnfsdUHxFJEpGvRGSxG+89fsfUEBGJF5GAiLzhdywNEZFNIrJURBaJSExPRCMinUTkJRFZJSIrRWSs3zHVRUQGue9p9d9eEfmZ33HVRURucr9fy0TkWRFJilrZ1sZROxE5BdgHPK2qR/kdT31EpDfQW1VzRCQFZ8bE81V1hc+h1cqd1bG9qu4TkTbAp8BPVfULn0Ork4jcDIwGUlX1XL/jqY+IbAJGq2rMd1ITkaeAT1T1HyKSCCSrapHfcTVEROJxpsQ+TlUb27nYMyKSjvO9Gqqq+0XkBeAtVX0yGuXbFUcdVPVjYLffcYRDVbeqao77uBhnHvZ0f6Oqmzr2uU/buH8xewYjIhnAOcA//I6lJRGRjsApwEwAVS1rDknDNRFYH4tJI0QC0E5EEoBkYEu0CrbE0cKISBYwCvjS30jq51b9LAJ2AO+raizH+0fgF0CV34GESYH3RGShiPzA72Dq0Q8oAP7pVgP+Q0Ta+x1UmC4GnvU7iLqoaj7wIBAEtgJ7VPW9aJVviaMFEZEOwMvAz1R1r9/x1EdVK1V1JJABjBGRmKwOFJFzgR2qutDvWCJwkqpmA2cBN7jVrrEoAcgG/qqqo4AS4DZ/Q2qYW6U2GXjR71jqIiKdgSk4yTkNaC8il0arfEscLYTbVvAy8B9VfcXveMLlVk3MBc70O5Y6nAhMdtsNngMmiMi//Q2pfu7ZJqq6A5gFjPE3ojrlAXkhV5sv4SSSWHcWkKOq2/0OpB6nARtVtUBVy4FXgBOiVbgljhbAbWyeCaxU1Yf8jqchItJdRDq5j9sBk4BV/kZVO1W9XVUzVDULp3riQ1WN2plbtIlIe/cGCdxqn9OBmLwzUFW3AbkiMshdNBGIyRs6ariEGK6mcgWB40Uk2f19mIjT9hkVljjqICLPAvOBQSKSJyLX+B1TPU4ELsM5G66+VfBsv4OqR29grogsAb7GaeOI+dtcm4mewKcishj4CnhTVd/xOab6/AT4j/tZGAn8xud46uUm40k4Z/Axy72KewnIAZbi/NZHbfgRux3XGGNMROyKwxhjTEQscRhjjImIJQ5jjDERscRhjDEmIpY4jDHGRMQSh4kpIrIv5PHZIrJGRPpGsP+TIpIvIm3d593cznvRiG18U4yO6/Zz+dIdhuPkGuvmhY54KyKjRWReA+WlichLYRx3Xx3LnxSRC8MM37QCljhMTBKRicAjwFmNGEiuErg6+lEdHndE1XBMBJaq6ihV/aSW9T1E5Kxwj6uqW1TVlx9+d4A908JY4jAxxx1b6XHgXFVd34gi/gjcVPNHq+YVg4j8RUSudB9vEpH7q+ewEJFsEXlXRNaLyA9DikkVkTdFZLWIPCYice7+p4vIfBHJEZEX3XHDqsv9nYjkAN+pEU+WiHwoIktEZI6I9BGRkcDvgSluLO1qeX0PAHfUXOgOHPmAiHztlnl9yHGWuY+TReQFceZumeVe2YwOKeM+ceZJ+UJEeoYUf5r7vqxxx++qnlfln+LM/REQkVPd5VeKyGwR+RCYIyK9ReRj9/Usq3kVZZofSxwm1rQFXsWZT6Sxw5AEceYiuCzS/dyBFz8BngQuBI4HQieaGoPT23kocCQwVUS6Af8LnOYOLrgAjYJpjQAAA01JREFUuDlkn12qmq2qz9U43p+Bp1R1OPAf4BFVXQTcCTyvqiNVdX8tcc4Hyqp/qENcgzMK6rHAscB1ItKvxjY/BgpVdSjwK+CYkHXtgS9UdQTwMXBdyLos97WfAzwmzqRAN+CMkn80zjAcT8l/JwvKBi5U1XHA94B33fd2BLColtdkmhFLHCbWlAOf4/wIHo77gVuI7DM+2/13KfClqharagFwsHpsLeArVd2gqpU44xWdhJNchgKfiTNU/BVAaLvM83UcbyzwjPv4X25Z4boXJ1mFOh243I3hS6ArMKDGNifhDNaIqi4DloSsKwOqr8gW4iSLai+oapWqrgU2AIPdsv7tlrUK2AwMdLd/X1Wr57P5GrhKRP6/vTt2bSqK4jj+/QlFdPBPEGpLhUBBHFwEERx0dFGHgCg4qNDNLk4O+h9IHXRwcxQcBEEcBEUQakEr6CLqJAVBUDFWcxzOTZs0adKXxYT+PpAhj7z7zoPwDvfexznXgNnSM8bGmBOHjZomcJostX611w/KEtKSpE0bK5UH3FIZq+UPnf/5ja00G20xNNqON8kS4NDdcCoAkQ/KA+VTi4j2xPdjsziHFRFPgF1k0moRMNcWx2TFHgyrsV6D6C/r9wy977uftXsuTdGOkB3z7ko6WyEmG0FOHDZyIuInuSRS71VcMiKOlwfjhQFD3QCutH3/CNQk7SwziGNDhHdI0mTZ2zhDLom9AA5Lmoa1CrUz/QYpnpMVdwHq5BJZFdfJBlMtj4BLyhL7SJpRd2OkZ5RkKqkGzG7xWqck7ZA0BewD3pV4661rAXvL8Q7lrbgvEXGb7KI4DqXTrQ+/8WAjKSK+SjoBPJW0EhEPBp7UPcZy2ZQ+WL5/VvZefgN8AF4NEdpL4CYwTfYRuR8RzbLJfq/1GjC5jPR+wFhzZPe7ebIT3vkqgUTEQ0krbYfukMtLi5JUxjy54bQFci/iLVnKfhn4toXLfSKr7e4BLkbEL0kLwC1Jr8nZ3LmIaOSlOxwF5iWtAt8BzzjGnKvjmm0j5ZXgifLgnwIeA/sj4vd/Ds3GiGccZtvLbrIXygS5J3LZScOq8ozDzMwq8ea4mZlV4sRhZmaVOHGYmVklThxmZlaJE4eZmVXyD0POt3/tbZaSAAAAAElFTkSuQmCC\n"
          },
          "metadata": {
            "needs_background": "light"
          }
        }
      ],
      "source": [
        "plt.plot(range(1,9), score)\n",
        "plt.title('Determining the Optimal Number of Neighbors')\n",
        "plt.xlabel('K - Number of Neighbors')\n",
        "plt.ylabel('Accuracy')\n",
        "plt.show()"
      ]
    },
    {
      "cell_type": "markdown",
      "metadata": {
        "id": "niaC7mj-w1aY"
      },
      "source": [
        "Values of K, and performance\n",
        "\n",
        "K = 1, accuracy = 97.16\n",
        "\n",
        "k = 2, accuracy = 96.79\n",
        "\n",
        "k = 3, accuracy = 97.41\n",
        "\n",
        "k = 4, accuracy = 97.18\n",
        "\n",
        "k = 5, accuracy = 97.27\n",
        "\n",
        "k = 6, accuracy = 97.19\n",
        "\n",
        "k = 7, accuracy = 97.25\n",
        "\n",
        "k = 8, accuracy = 97.18"
      ]
    },
    {
      "cell_type": "code",
      "execution_count": null,
      "metadata": {
        "id": "WmxKCA49liLw"
      },
      "outputs": [],
      "source": [
        "classifier = KNeighborsClassifier(n_neighbors=3)\n",
        "classifier = classifier.fit(X.reshape(X.shape[0], 28*28), y)"
      ]
    },
    {
      "cell_type": "markdown",
      "metadata": {
        "id": "7gnAnFGTl4Y5"
      },
      "source": [
        "Testing the KNN Model"
      ]
    },
    {
      "cell_type": "code",
      "execution_count": null,
      "metadata": {
        "id": "g5p63Df3lzCx"
      },
      "outputs": [],
      "source": [
        "y_pred = classifier.predict(X_test.reshape(X_test.shape[0], 28*28))"
      ]
    },
    {
      "cell_type": "code",
      "execution_count": null,
      "metadata": {
        "colab": {
          "base_uri": "https://localhost:8080/"
        },
        "id": "XnyTvraUl-SB",
        "outputId": "6de8fe15-2170-437d-9149-fc899ed9a8ea"
      },
      "outputs": [
        {
          "output_type": "stream",
          "name": "stdout",
          "text": [
            "[[ 995    0    0    0    0    0    1    0    0    0]\n",
            " [   0 1139    2    0    0    0    0    0    0    0]\n",
            " [   3    2 1025    0    1    0    0    6    2    1]\n",
            " [   0    1    6  995    0    4    0    5    2    0]\n",
            " [   0    2    0    0  953    0    0    2    0    5]\n",
            " [   1    0    2    2    0  849    8    0    0    1]\n",
            " [   2    1    0    0    2    2  982    0    0    0]\n",
            " [   0    4    2    0    1    0    0 1053    0    4]\n",
            " [   0    9    2    7    2    3    0    0  935    5]\n",
            " [   1    1    0    3    3    0    1    6    1  953]]\n",
            "0.9879\n"
          ]
        }
      ],
      "source": [
        "print(confusion_matrix(y_test, y_pred))\n",
        "print(accuracy_score(y_test, y_pred))"
      ]
    },
    {
      "cell_type": "code",
      "execution_count": null,
      "metadata": {
        "colab": {
          "base_uri": "https://localhost:8080/"
        },
        "id": "9PwKRaTImFyB",
        "outputId": "0ff5b163-4ff7-415f-b276-93f29f1c9f47"
      },
      "outputs": [
        {
          "output_type": "stream",
          "name": "stdout",
          "text": [
            "              precision    recall  f1-score   support\n",
            "\n",
            "           0       1.00      0.99      1.00      1002\n",
            "           1       1.00      0.98      0.99      1159\n",
            "           2       0.99      0.99      0.99      1039\n",
            "           3       0.98      0.99      0.99      1007\n",
            "           4       0.99      0.99      0.99       962\n",
            "           5       0.98      0.99      0.99       858\n",
            "           6       0.99      0.99      0.99       992\n",
            "           7       0.99      0.98      0.99      1072\n",
            "           8       0.97      0.99      0.98       940\n",
            "           9       0.98      0.98      0.98       969\n",
            "\n",
            "    accuracy                           0.99     10000\n",
            "   macro avg       0.99      0.99      0.99     10000\n",
            "weighted avg       0.99      0.99      0.99     10000\n",
            "\n"
          ]
        }
      ],
      "source": [
        "from sklearn.metrics import classification_report\n",
        "print(classification_report(y_pred, y_test))"
      ]
    },
    {
      "cell_type": "markdown",
      "metadata": {
        "id": "eNtY9ohDmacr"
      },
      "source": [
        "KNN Model with 3 neighbors performed really well with 98.79 % accuracy."
      ]
    },
    {
      "cell_type": "markdown",
      "metadata": {
        "id": "j5J3mDn71KWH"
      },
      "source": [
        "## **PCA**"
      ]
    },
    {
      "cell_type": "code",
      "execution_count": null,
      "metadata": {
        "id": "H16IkhF61d83"
      },
    {
      "cell_type": "code",
      "execution_count": null,
      "metadata": {
        "id": "k-Zl6VLs1bQA",
        "colab": {
          "base_uri": "https://localhost:8080/"
        },
        "outputId": "fd792e63-31c8-4d77-9135-0cbe5702202d"
      },
      "outputs": [
        {
          "output_type": "stream",
          "name": "stdout",
          "text": [
            "   label  pixel0  pixel1  pixel2  pixel3  pixel4  pixel5  pixel6  pixel7  \\\n",
            "0      1       0       0       0       0       0       0       0       0   \n",
            "1      0       0       0       0       0       0       0       0       0   \n",
            "2      1       0       0       0       0       0       0       0       0   \n",
            "3      4       0       0       0       0       0       0       0       0   \n",
            "4      0       0       0       0       0       0       0       0       0   \n",
            "\n",
            "   pixel8  ...  pixel774  pixel775  pixel776  pixel777  pixel778  pixel779  \\\n",
            "0       0  ...         0         0         0         0         0         0   \n",
            "1       0  ...         0         0         0         0         0         0   \n",
            "2       0  ...         0         0         0         0         0         0   \n",
            "3       0  ...         0         0         0         0         0         0   \n",
            "4       0  ...         0         0         0         0         0         0   \n",
            "\n",
            "   pixel780  pixel781  pixel782  pixel783  \n",
            "0         0         0         0         0  \n",
            "1         0         0         0         0  \n",
            "2         0         0         0         0  \n",
            "3         0         0         0         0  \n",
            "4         0         0         0         0  \n",
            "\n",
            "[5 rows x 785 columns]\n"
          ]
        }
      ],
      "source": [
        "# d0 = pd.read_csv('/content/train.csv')\n",
        "d0 = pd.read_csv('/content/drive/MyDrive/3Machine learning/ML Mini Project/PDA/digit-recognizer/train.csv')\n",
        "print(d0.head(5)) # print first five rows of d0.\n"
      ]
    },
    {
      "cell_type": "code",
      "execution_count": null,
      "metadata": {
        "id": "lClapMCQ2S1T"
      },
      "outputs": [],
      "source": [
        "# save the labels into a variable l.\n",
        "l = d0['label']\n",
        "\n",
        "# Drop the label feature and store the pixel data in d.\n",
        "d = d0.drop(\"label\",axis=1)"
      ]
    },
    {
      "cell_type": "code",
      "execution_count": null,
      "metadata": {
        "colab": {
          "base_uri": "https://localhost:8080/"
        },
        "id": "QA4LetlN1rbI",
        "outputId": "42f6a233-8c2d-4d90-eae6-d527e67018a6"
      },
      "outputs": [
        {
          "output_type": "stream",
          "name": "stdout",
          "text": [
            "the shape of sample data =  (42000, 784)\n"
          ]
        }
      ],
      "source": [
        "labels = l\n",
        "data = d\n",
        "\n",
        "print(\"the shape of sample data = \", data.shape)"
      ]
    },
    {
      "cell_type": "code",
      "execution_count": null,
      "metadata": {
        "colab": {
          "base_uri": "https://localhost:8080/"
        },
        "id": "jkgvcfoP1vH0",
        "outputId": "513263b9-c011-4baa-cdf2-1bb6c0fc1e18"
      },
      "outputs": [
        {
          "output_type": "stream",
          "name": "stdout",
          "text": [
            "(42000, 784)\n"
          ]
        }
      ],
      "source": [
        "from sklearn.preprocessing import StandardScaler\n",
        "standardized_data = StandardScaler().fit_transform(data)\n",
        "print(standardized_data.shape)"
      ]
    },
    {
      "cell_type": "code",
      "execution_count": null,
      "metadata": {
        "colab": {
          "base_uri": "https://localhost:8080/"
        },
        "id": "ay_GoUfT2Chg",
        "outputId": "d395b8e6-90fb-4b36-dae5-ae2d9c43f204"
      },
      "outputs": [
        {
          "output_type": "stream",
          "name": "stdout",
          "text": [
            "The shape of variance matrix =  (784, 784)\n"
          ]
        }
      ],
      "source": [
        "#find the co-variance matrix which is : A^T * A\n",
        "sample_data = standardized_data\n",
        "\n",
        "# matrix multiplication using numpy\n",
        "covar_matrix = np.matmul(sample_data.T , sample_data)\n",
        "\n",
        "print ( \"The shape of variance matrix = \", covar_matrix.shape)"
      ]
    },
    {
      "cell_type": "code",
      "execution_count": null,
      "metadata": {
        "colab": {
          "base_uri": "https://localhost:8080/"
        },
        "id": "9I5XMBl62zTx",
        "outputId": "fa6ad080-b7c3-4930-a599-36aa049cf401"
      },
      "outputs": [
        {
          "output_type": "execute_result",
          "data": {
            "text/plain": [
              "False"
            ]
          },
          "metadata": {},
          "execution_count": 31
        }
      ],
      "source": [
        "xx = np.random.random((5,5))\n",
        "yy = np.zeros((5,5) ) \n",
        "np.isnan(xx).any()\n",
        "np.isnan(yy).any()\n",
        "\n",
        "np.isinf(xx).any()\n",
        "np.isinf(yy).any()"
      ]
    },
    {
      "cell_type": "code",
      "execution_count": null,
      "metadata": {
        "id": "A1YAw8t33G_b"
      },
      "outputs": [],
      "source": [
        "xx = np.nan_to_num(xx)\n",
        "yy = np.nan_to_num(yy)"
      ]
    },
    {
      "cell_type": "code",
      "execution_count": null,
      "metadata": {
        "colab": {
          "base_uri": "https://localhost:8080/"
        },
        "id": "IFXrAD5v2GLA",
        "outputId": "b0f5ef43-4276-43df-f328-cc87a5dfe456"
      },
      "outputs": [
        {
          "output_type": "stream",
          "name": "stdout",
          "text": [
            "Shape of eigen vectors =  (784, 2)\n",
            "Updated shape of eigen vectors =  (2, 784)\n"
          ]
        }
      ],
      "source": [
        "from scipy.linalg import eigh \n",
        "\n",
        "values, vectors = eigh(covar_matrix, eigvals=(782,783))\n",
        "print(\"Shape of eigen vectors = \",vectors.shape)\n",
        "vectors = vectors.T\n",
        "print(\"Updated shape of eigen vectors = \",vectors.shape)\n"
      ]
    },
    {
      "cell_type": "code",
      "execution_count": null,
      "metadata": {
        "id": "VOiU3BgK2KiI",
        "colab": {
          "base_uri": "https://localhost:8080/"
        },
        "outputId": "e97b757b-593b-4315-f093-5c81dec1beca"
      },
      "outputs": [
        {
          "output_type": "stream",
          "name": "stdout",
          "text": [
            "vectors: (2, 784) n std_data: (784, 42000) n final_data: (2, 42000)\n"
          ]
        }
      ],
      "source": [
        "final_df = np.matmul(vectors, standardized_data.T)\n",
        "print(\"vectors:\", vectors.shape, \"n\", \"std_data:\", standardized_data.T.shape, \"n\", \"final_data:\", final_df.shape)"
      ]
    },
    {
      "cell_type": "code",
      "execution_count": null,
      "metadata": {
        "colab": {
          "base_uri": "https://localhost:8080/",
          "height": 424
        },
        "id": "ih-RJqcusvMo",
        "outputId": "ca26ccab-73a8-42e7-cb74-8fe50732d093"
      },
      "outputs": [
        {
          "output_type": "execute_result",
          "data": {
            "text/plain": [
              "          pca_1      pca_2  label\n",
              "0     -5.226445  -5.140478    1.0\n",
              "1      6.032996  19.292332    0.0\n",
              "2     -1.705813  -7.644503    1.0\n",
              "3      5.836139  -0.474207    4.0\n",
              "4      6.024818  26.559574    0.0\n",
              "...         ...        ...    ...\n",
              "41995 -1.350366  13.678849    0.0\n",
              "41996 -1.187360  -8.869582    1.0\n",
              "41997  7.076277   0.495391    7.0\n",
              "41998 -4.344513   2.307240    6.0\n",
              "41999  1.559121  -4.807670    9.0\n",
              "\n",
              "[42000 rows x 3 columns]"
            ],
            "text/html": [
              "\n",
              "  <div id=\"df-2f191394-326b-49dd-81dc-ebd3db171c66\">\n",
              "    <div class=\"colab-df-container\">\n",
              "      <div>\n",
              "<style scoped>\n",
              "    .dataframe tbody tr th:only-of-type {\n",
              "        vertical-align: middle;\n",
              "    }\n",
              "\n",
              "    .dataframe tbody tr th {\n",
              "        vertical-align: top;\n",
              "    }\n",
              "\n",
              "    .dataframe thead th {\n",
              "        text-align: right;\n",
              "    }\n",
              "</style>\n",
              "<table border=\"1\" class=\"dataframe\">\n",
              "  <thead>\n",
              "    <tr style=\"text-align: right;\">\n",
              "      <th></th>\n",
              "      <th>pca_1</th>\n",
              "      <th>pca_2</th>\n",
              "      <th>label</th>\n",
              "    </tr>\n",
              "  </thead>\n",
              "  <tbody>\n",
              "    <tr>\n",
              "      <th>0</th>\n",
              "      <td>-5.226445</td>\n",
              "      <td>-5.140478</td>\n",
              "      <td>1.0</td>\n",
              "    </tr>\n",
              "    <tr>\n",
              "      <th>1</th>\n",
              "      <td>6.032996</td>\n",
              "      <td>19.292332</td>\n",
              "      <td>0.0</td>\n",
              "    </tr>\n",
              "    <tr>\n",
              "      <th>2</th>\n",
              "      <td>-1.705813</td>\n",
              "      <td>-7.644503</td>\n",
              "      <td>1.0</td>\n",
              "    </tr>\n",
              "    <tr>\n",
              "      <th>3</th>\n",
              "      <td>5.836139</td>\n",
              "      <td>-0.474207</td>\n",
              "      <td>4.0</td>\n",
              "    </tr>\n",
              "    <tr>\n",
              "      <th>4</th>\n",
              "      <td>6.024818</td>\n",
              "      <td>26.559574</td>\n",
              "      <td>0.0</td>\n",
              "    </tr>\n",
              "    <tr>\n",
              "      <th>...</th>\n",
              "      <td>...</td>\n",
              "      <td>...</td>\n",
              "      <td>...</td>\n",
              "    </tr>\n",
              "    <tr>\n",
              "      <th>41995</th>\n",
              "      <td>-1.350366</td>\n",
              "      <td>13.678849</td>\n",
              "      <td>0.0</td>\n",
              "    </tr>\n",
              "    <tr>\n",
              "      <th>41996</th>\n",
              "      <td>-1.187360</td>\n",
              "      <td>-8.869582</td>\n",
              "      <td>1.0</td>\n",
              "    </tr>\n",
              "    <tr>\n",
              "      <th>41997</th>\n",
              "      <td>7.076277</td>\n",
              "      <td>0.495391</td>\n",
              "      <td>7.0</td>\n",
              "    </tr>\n",
              "    <tr>\n",
              "      <th>41998</th>\n",
              "      <td>-4.344513</td>\n",
              "      <td>2.307240</td>\n",
              "      <td>6.0</td>\n",
              "    </tr>\n",
              "    <tr>\n",
              "      <th>41999</th>\n",
              "      <td>1.559121</td>\n",
              "      <td>-4.807670</td>\n",
              "      <td>9.0</td>\n",
              "    </tr>\n",
              "  </tbody>\n",
              "</table>\n",
              "<p>42000 rows × 3 columns</p>\n",
              "</div>\n",
              "      <button class=\"colab-df-convert\" onclick=\"convertToInteractive('df-2f191394-326b-49dd-81dc-ebd3db171c66')\"\n",
              "              title=\"Convert this dataframe to an interactive table.\"\n",
              "              style=\"display:none;\">\n",
              "        \n",
              "  <svg xmlns=\"http://www.w3.org/2000/svg\" height=\"24px\"viewBox=\"0 0 24 24\"\n",
              "       width=\"24px\">\n",
              "    <path d=\"M0 0h24v24H0V0z\" fill=\"none\"/>\n",
              "    <path d=\"M18.56 5.44l.94 2.06.94-2.06 2.06-.94-2.06-.94-.94-2.06-.94 2.06-2.06.94zm-11 1L8.5 8.5l.94-2.06 2.06-.94-2.06-.94L8.5 2.5l-.94 2.06-2.06.94zm10 10l.94 2.06.94-2.06 2.06-.94-2.06-.94-.94-2.06-.94 2.06-2.06.94z\"/><path d=\"M17.41 7.96l-1.37-1.37c-.4-.4-.92-.59-1.43-.59-.52 0-1.04.2-1.43.59L10.3 9.45l-7.72 7.72c-.78.78-.78 2.05 0 2.83L4 21.41c.39.39.9.59 1.41.59.51 0 1.02-.2 1.41-.59l7.78-7.78 2.81-2.81c.8-.78.8-2.07 0-2.86zM5.41 20L4 18.59l7.72-7.72 1.47 1.35L5.41 20z\"/>\n",
              "  </svg>\n",
              "      </button>\n",
              "      \n",
              "  <style>\n",
              "    .colab-df-container {\n",
              "      display:flex;\n",
              "      flex-wrap:wrap;\n",
              "      gap: 12px;\n",
              "    }\n",
              "\n",
              "    .colab-df-convert {\n",
              "      background-color: #E8F0FE;\n",
              "      border: none;\n",
              "      border-radius: 50%;\n",
              "      cursor: pointer;\n",
              "      display: none;\n",
              "      fill: #1967D2;\n",
              "      height: 32px;\n",
              "      padding: 0 0 0 0;\n",
              "      width: 32px;\n",
              "    }\n",
              "\n",
              "    .colab-df-convert:hover {\n",
              "      background-color: #E2EBFA;\n",
              "      box-shadow: 0px 1px 2px rgba(60, 64, 67, 0.3), 0px 1px 3px 1px rgba(60, 64, 67, 0.15);\n",
              "      fill: #174EA6;\n",
              "    }\n",
              "\n",
              "    [theme=dark] .colab-df-convert {\n",
              "      background-color: #3B4455;\n",
              "      fill: #D2E3FC;\n",
              "    }\n",
              "\n",
              "    [theme=dark] .colab-df-convert:hover {\n",
              "      background-color: #434B5C;\n",
              "      box-shadow: 0px 1px 3px 1px rgba(0, 0, 0, 0.15);\n",
              "      filter: drop-shadow(0px 1px 2px rgba(0, 0, 0, 0.3));\n",
              "      fill: #FFFFFF;\n",
              "    }\n",
              "  </style>\n",
              "\n",
              "      <script>\n",
              "        const buttonEl =\n",
              "          document.querySelector('#df-2f191394-326b-49dd-81dc-ebd3db171c66 button.colab-df-convert');\n",
              "        buttonEl.style.display =\n",
              "          google.colab.kernel.accessAllowed ? 'block' : 'none';\n",
              "\n",
              "        async function convertToInteractive(key) {\n",
              "          const element = document.querySelector('#df-2f191394-326b-49dd-81dc-ebd3db171c66');\n",
              "          const dataTable =\n",
              "            await google.colab.kernel.invokeFunction('convertToInteractive',\n",
              "                                                     [key], {});\n",
              "          if (!dataTable) return;\n",
              "\n",
              "          const docLinkHtml = 'Like what you see? Visit the ' +\n",
              "            '<a target=\"_blank\" href=https://colab.research.google.com/notebooks/data_table.ipynb>data table notebook</a>'\n",
              "            + ' to learn more about interactive tables.';\n",
              "          element.innerHTML = '';\n",
              "          dataTable['output_type'] = 'display_data';\n",
              "          await google.colab.output.renderOutput(dataTable, element);\n",
              "          const docLink = document.createElement('div');\n",
              "          docLink.innerHTML = docLinkHtml;\n",
              "          element.appendChild(docLink);\n",
              "        }\n",
              "      </script>\n",
              "    </div>\n",
              "  </div>\n",
              "  "
            ]
          },
          "metadata": {},
          "execution_count": 35
        }
      ],
      "source": [
        "final_dfT = np.vstack((final_df, labels)).T\n",
        "dataFrame = pd.DataFrame(final_dfT, columns = ['pca_1', 'pca_2', 'label'])\n",
        "dataFrame"
      ]
    },
    {
      "cell_type": "code",
      "execution_count": null,
      "metadata": {
        "colab": {
          "base_uri": "https://localhost:8080/",
          "height": 496
        },
        "id": "YLofHspgwxfe",
        "outputId": "63cce3b1-f6e0-4fdc-f5a0-ff7057aee4e0"
      },
      "outputs": [
        {
          "output_type": "stream",
          "name": "stderr",
          "text": [
            "/usr/local/lib/python3.7/dist-packages/seaborn/axisgrid.py:337: UserWarning: The `size` parameter has been renamed to `height`; please update your code.\n",
            "  warnings.warn(msg, UserWarning)\n"
          ]
        },
        {
          "output_type": "display_data",
          "data": {
            "text/plain": [
              "<Figure size 483.875x432 with 1 Axes>"
            ],
            "image/png": "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\n"
          },
          "metadata": {
            "needs_background": "light"
          }
        }
      ],
      "source": [
        "# plotting the 2d data points with seaborn\n",
        "import seaborn as sn\n",
        "sn.FacetGrid(dataFrame, hue=\"label\", size=6).map(plt.scatter, 'pca_1', 'pca_2').add_legend()\n",
        "plt.show()"
      ]
    },
    {
      "cell_type": "code",
      "execution_count": null,
      "metadata": {
        "id": "zb6cwQ6hxmuO"
      },
      "outputs": [],
      "source": [
        "# initializing the pca\n",
        "from sklearn import decomposition\n",
        "pca = decomposition.PCA()\n",
        "# PCA for dimensionality redcution (non-visualization)\n",
        "pca.n_components = 784\n",
        "pca_data = pca.fit_transform(sample_data)\n",
        "percentage_var_explained = pca.explained_variance_ / np.sum(pca.explained_variance_);\n",
        "cum_var_explained = np.cumsum(percentage_var_explained)"
      ]
    },
    {
      "cell_type": "code",
      "execution_count": null,
      "metadata": {
        "colab": {
          "base_uri": "https://localhost:8080/",
          "height": 280
        },
        "id": "FwD-a5DnxsAO",
        "outputId": "606d3f1f-8590-46d8-8e33-a0ea50515517"
      },
      "outputs": [
        {
          "output_type": "display_data",
          "data": {
            "text/plain": [
              "<Figure size 432x288 with 1 Axes>"
            ],
            "image/png": "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\n"
          },
          "metadata": {
            "needs_background": "light"
          }
        }
      ],
      "source": [
        "# Plot the PCA spectrum\n",
        "plt.figure(1, figsize=(6, 4))\n",
        "plt.clf()\n",
        "plt.plot(cum_var_explained, linewidth=2)\n",
        "plt.axis('tight')\n",
        "plt.grid()\n",
        "plt.xlabel('n_components')\n",
        "plt.ylabel('Cumulative_explained_variance')\n",
        "plt.show()"
      ]
    },
    {
      "cell_type": "code",
      "execution_count": null,
      "metadata": {
        "id": "yp-e4swUftZA"
      },
      "outputs": [],
      "source": [
        "from sklearn.decomposition import PCA"
      ]
    },
    {
      "cell_type": "code",
      "execution_count": null,
      "metadata": {
        "colab": {
          "base_uri": "https://localhost:8080/"
        },
        "id": "zlzneA9gfyF4",
        "outputId": "e5ea6751-0633-46e6-8496-b0e743ee12a9"
      },
      "outputs": [
        {
          "output_type": "execute_result",
          "data": {
            "text/plain": [
              "PCA(n_components=300)"
            ]
          },
          "metadata": {},
          "execution_count": 40
        }
      ],
      "source": [
        "pca = PCA(n_components=300)\n",
        "pca.fit(data)"
      ]
    },
    {
      "cell_type": "code",
      "execution_count": null,
      "metadata": {
        "id": "Y-XT6kpA5eOZ"
      },
      "outputs": [],
      "source": [
        "pca_data = pca.fit_transform(sample_data)\n",
        "percentage_var_explained = pca.explained_variance_ / np.sum(pca.explained_variance_);\n",
        "cum_var_explained = np.cumsum(percentage_var_explained)"
      ]
    },
    {
      "cell_type": "code",
      "execution_count": null,
      "metadata": {
        "colab": {
          "base_uri": "https://localhost:8080/"
        },
        "id": "xZmE0UckgRL-",
        "outputId": "d3d66e84-eb84-4bd4-e79d-cf413932d910"
      },
      "outputs": [
        {
          "output_type": "stream",
          "name": "stdout",
          "text": [
            "[0.05747953 0.04111691 0.03782867 0.02939862 0.02556439 0.02229844\n",
            " 0.01952552 0.01771605 0.0156266  0.01424956 0.01361009 0.01222541\n",
            " 0.01135736 0.0111309  0.01050311 0.01012326 0.00951303 0.00934514\n",
            " 0.00907259 0.00885327 0.00838907 0.00812027 0.00775161 0.00752312\n",
            " 0.0072769  0.00698756 0.00690455 0.00664924 0.00630675 0.00616301\n",
            " 0.00610922 0.00597037 0.00577284 0.00573682 0.00564822 0.00546322\n",
            " 0.0053943  0.00524361 0.00504843 0.0048853  0.00482244 0.00475901\n",
            " 0.00460008 0.00457629 0.00449584 0.00446722 0.00443837 0.00436837\n",
            " 0.00432713 0.00427027 0.00419269 0.0041218  0.00402461 0.00399434\n",
            " 0.00394891 0.00390805 0.00379899 0.00372454 0.00368413 0.00365723\n",
            " 0.00353278 0.00351088 0.00345414 0.00341394 0.00337784 0.00336477\n",
            " 0.0033171  0.00329725 0.00320016 0.00316776 0.00312695 0.00311861\n",
            " 0.00308212 0.00303276 0.00301509 0.0029714  0.00294849 0.00293629\n",
            " 0.00287848 0.00286906 0.00283171 0.00282885 0.00281701 0.00279215\n",
            " 0.00276842 0.00276316 0.00273923 0.0027181  0.00268141 0.00265443\n",
            " 0.00262072 0.00260164 0.00258196 0.00254877 0.00253504 0.00252401\n",
            " 0.00250074 0.00245803 0.0024436  0.00241387 0.00237652 0.00236249\n",
            " 0.00232332 0.00230243 0.00229497 0.00226463 0.00224959 0.00223669\n",
            " 0.00220712 0.00220195 0.00216809 0.00214697 0.00211182 0.00209887\n",
            " 0.00204876 0.00204033 0.0020202  0.00200271 0.00197007 0.0019573\n",
            " 0.00194417 0.00191763 0.0019035  0.00190067 0.00189562 0.00185527\n",
            " 0.00184308 0.00182621 0.00179744 0.00179348 0.00177791 0.00176182\n",
            " 0.00173887 0.00173432 0.00171976 0.00168541 0.00167956 0.00166384\n",
            " 0.00163969 0.00163196 0.00161625 0.00160841 0.00159692 0.00158521\n",
            " 0.00156465 0.0015577  0.00154227 0.00153112 0.00152726 0.00150129\n",
            " 0.00149343 0.00147825 0.00147604 0.00147329 0.00145473 0.00144851\n",
            " 0.00143414 0.00142482 0.00141805 0.0014136  0.00141322 0.0014106\n",
            " 0.00140884 0.00140481 0.0014001  0.00139141 0.00138447 0.00137318\n",
            " 0.00136412 0.00134726 0.00134414 0.00133252 0.00131781 0.00131218\n",
            " 0.0013002  0.00129862 0.0012817  0.00127955 0.00127517 0.00126768\n",
            " 0.00126104 0.00124315 0.00124182 0.00123431 0.00121793 0.00120023\n",
            " 0.00118732 0.00117442 0.00116609 0.00115707 0.00114801 0.00114622\n",
            " 0.00113443 0.0011081  0.00109621 0.00108907 0.00107789 0.00107059\n",
            " 0.00106331 0.00105606 0.00104877 0.00104376 0.0010206  0.00101027\n",
            " 0.00100726 0.00099131 0.00098652 0.0009716  0.00096868 0.00096244\n",
            " 0.00095254 0.00094253 0.00093681 0.00092766 0.00091442 0.00090994\n",
            " 0.00090169 0.0008975  0.00088494 0.00088185 0.00086591 0.00086179\n",
            " 0.00085731 0.00085259 0.00083989 0.00083343 0.00082448 0.00081987\n",
            " 0.00080695 0.00080235 0.0007986  0.00079049 0.00078434 0.00077008\n",
            " 0.00075473 0.00074992 0.00073982 0.00073469 0.00073304 0.00072525\n",
            " 0.00072426 0.00071363 0.00070316 0.00069387 0.00069237 0.00069053\n",
            " 0.00068617 0.00067928 0.00066694 0.00066336 0.00065828 0.00064822\n",
            " 0.0006369  0.00062344 0.00062228 0.00061686 0.00060832 0.00060296\n",
            " 0.00060046 0.0005984  0.00059079 0.0005848  0.00058115 0.00057695\n",
            " 0.00057217 0.00056607 0.00056265 0.00055879 0.00055207 0.00054546\n",
            " 0.00054144 0.00053889 0.00053748 0.00052895 0.00051575 0.00051297\n",
            " 0.00050862 0.00050531 0.00049727 0.0004925  0.00048937 0.00048634\n",
            " 0.00048462 0.00047747 0.00047501 0.00046512 0.00046269 0.00045253\n",
            " 0.00045194 0.00043897 0.00043729 0.00043559 0.00043324 0.00042556\n",
            " 0.00042095 0.00041701 0.00040985 0.00040666 0.00040112 0.00039447]\n"
          ]
        }
      ],
      "source": [
        "print(pca.explained_variance_ratio_)"
      ]
    },
    {
      "cell_type": "code",
      "execution_count": null,
      "metadata": {
        "colab": {
          "base_uri": "https://localhost:8080/"
        },
        "id": "pIVX8itYga3N",
        "outputId": "89b1412f-990b-4465-caa3-719772861279"
      },
      "outputs": [
        {
          "output_type": "stream",
          "name": "stdout",
          "text": [
            "[1307.36812368 1105.73615575 1060.60047841  934.98524113  871.88460515\n",
            "  814.28895924  761.97834875  725.813031    681.66900266  650.9414958\n",
            "  636.16789363  602.93840611  581.13901694  575.31602546  558.85627738\n",
            "  548.65762193  531.86406375  527.1500852   519.40590997  513.08959753\n",
            "  499.45712485  491.39023209  480.10603124  472.97722319  465.17309017\n",
            "  455.83118799  453.11545035  444.65907508  433.05603483  428.09269006\n",
            "  426.22036264  421.34896333  414.31998315  413.02564172  409.82367369\n",
            "  403.05611361  400.50597153  394.87215709  387.45347005  381.14215664\n",
            "  378.68200227  376.18332035  369.84845492  368.89085887  365.63404546\n",
            "  364.46841526  363.28962944  360.4133589   358.70812479  356.34355669\n",
            "  353.09194415  350.0942339   345.94173887  344.6385119   342.67311524\n",
            "  340.89554975  336.10512882  332.7955073   330.98533139  329.77474008\n",
            "  324.11539606  323.10905866  320.48740223  318.6172301   316.9281963\n",
            "  316.3142531   314.06565682  313.12472474  308.48001461  306.91436644\n",
            "  304.931294    304.52428632  302.7374286   300.30343291  299.42737331\n",
            "  297.2500851   296.10171326  295.48846455  292.56519455  292.08598196\n",
            "  290.17899301  290.03227934  289.42480778  288.144838    286.91758856\n",
            "  286.64475993  285.40116031  284.29826178  282.37274332  280.94838792\n",
            "  279.15891479  278.14082971  277.08677815  275.30034252  274.5577937\n",
            "  273.95968944  272.69376699  270.35541897  269.56027827  267.91587504\n",
            "  265.83514674  265.04909892  262.84248511  261.65805852  261.23420717\n",
            "  259.50166495  258.63839298  257.8960239   256.18527478  255.88520861\n",
            "  253.91020539  252.67011645  250.59328291  249.82408295  246.82361342\n",
            "  246.31557985  245.09705462  244.03421137  242.03714349  241.25129156\n",
            "  240.44115391  238.79397884  237.91273438  237.73576729  237.41994395\n",
            "  234.87935076  234.10675352  233.03275275  231.1896733   230.9350586\n",
            "  229.93020711  228.88719501  227.39180466  227.0942275   226.13868155\n",
            "  223.86898881  223.48030381  222.43168128  220.81202424  220.29056388\n",
            "  219.22747847  218.69519077  217.91254607  217.11251858  215.70013589\n",
            "  215.22003293  214.15135197  213.37587887  213.10709194  211.28722088\n",
            "  210.73387114  209.659915    209.50306835  209.30764236  207.9851361\n",
            "  207.54004161  206.50837771  205.83561623  205.34653791  205.02414408\n",
            "  204.99623623  204.80613967  204.67845477  204.38551614  204.04284949\n",
            "  203.40871244  202.90048778  202.07124905  201.40388401  200.15558721\n",
            "  199.92354884  199.05764959  197.95558459  197.53232357  196.62840899\n",
            "  196.50888945  195.22480894  195.06113314  194.72670959  194.15400726\n",
            "  193.64510871  192.26630957  192.16340873  191.58170586  190.30629746\n",
            "  188.91821744  187.89961584  186.87599081  186.21189189  185.49063075\n",
            "  184.7627061   184.61856051  183.666393    181.5222128   180.54594477\n",
            "  179.9572052   179.03123625  178.42378156  177.81620282  177.20872653\n",
            "  176.59600953  176.17423822  174.20869653  173.32432228  173.06593565\n",
            "  171.6902463   171.27536305  169.97507413  169.71925586  169.17223842\n",
            "  168.29996175  167.41259732  166.90416736  166.08671322  164.8976171\n",
            "  164.49342878  163.74563811  163.36515485  162.21765182  161.934671\n",
            "  160.46404369  160.08224165  159.66564369  159.22512496  158.0342709\n",
            "  157.42568789  156.57781603  156.13988731  154.90493997  154.46300484\n",
            "  154.1012772   153.31680145  152.71913708  151.32410955  149.80878563\n",
            "  149.33051826  148.32132248  147.80593531  147.64041644  146.85428771\n",
            "  146.75349286  145.6722543   144.59975569  143.641998    143.48678093\n",
            "  143.29536166  142.84191445  142.12335723  140.82620149  140.44827536\n",
            "  139.90920139  138.83612289  137.61801001  136.15624318  136.03000575\n",
            "  135.43593413  134.49560905  133.90159167  133.62333339  133.39404696\n",
            "  132.54352727  131.86913356  131.45801806  130.98186119  130.43836562\n",
            "  129.74067348  129.3487741   128.90406845  128.12619928  127.35654663\n",
            "  126.88666537  126.58729334  126.42187452  125.41479196  123.83965863\n",
            "  123.50517499  122.98115766  122.58010185  121.60150618  121.01668298\n",
            "  120.63172343  120.25741511  120.04390489  119.15536891  118.84767827\n",
            "  117.60489257  117.29672334  116.0013913   115.92606032  114.2509934\n",
            "  114.03200048  113.81025095  113.50188184  112.49242911  111.88116487\n",
            "  111.35586968  110.39655849  109.96498451  109.21379739  108.30429979]\n"
          ]
        }
      ],
      "source": [
        "print(pca.singular_values_)"
      ]
    },
    {
      "cell_type": "code",
      "source": [
        "from sklearn.pipeline import Pipeline\n",
        "from sklearn.preprocessing import StandardScaler\n",
        "from sklearn.decomposition import PCA\n",
        "from sklearn.neighbors import KNeighborsClassifier\n",
        "\n",
        "_sc = StandardScaler()\n",
        "_pca = PCA(n_components = 0.59)\n",
        "_model = KNeighborsClassifier(n_neighbors=3)\n",
        "knn_model = Pipeline([\n",
        "    ('std_scaler', _sc),\n",
        "    ('pca', _pca),\n",
        "    ('regressor', _model)\n",
        "])"
      ],
      "metadata": {
        "id": "zrKMsm8NAK3T"
      },
      "execution_count": null,
      "outputs": []
    },
    {
      "cell_type": "code",
      "source": [
        "from sklearn.model_selection import train_test_split\n",
        "# perform a split\n",
        "X_train, X_test, y_train, y_test = train_test_split(X, y, test_size=1/7, shuffle=True, random_state=0)\n",
        "# train the model using the PCA components\n",
        "\n",
        "knn_model.fit(X.reshape(X.shape[0], 28*28), y)"
      ],
      "metadata": {
        "colab": {
          "base_uri": "https://localhost:8080/"
        },
        "id": "YNQGMOk-DusP",
        "outputId": "2f429211-3884-423e-8407-a9f4ff6bfad1"
      },
      "execution_count": null,
      "outputs": [
        {
          "output_type": "execute_result",
          "data": {
            "text/plain": [
              "Pipeline(steps=[('std_scaler', StandardScaler()),\n",
              "                ('pca', PCA(n_components=0.59)),\n",
              "                ('regressor', KNeighborsClassifier(n_neighbors=3))])"
            ]
          },
          "metadata": {},
          "execution_count": 94
        }
      ]
    },
    {
      "cell_type": "code",
      "source": [
        "knn_model.score(X_test,y_test)"
      ],
      "metadata": {
        "colab": {
          "base_uri": "https://localhost:8080/"
        },
        "id": "aWxu2S96GBbV",
        "outputId": "a11dc094-f1eb-4706-f7ad-896dba651677"
      },
      "execution_count": null,
      "outputs": [
        {
          "output_type": "execute_result",
          "data": {
            "text/plain": [
              "0.9811"
            ]
          },
          "metadata": {},
          "execution_count": 95
        }
      ]
    },
    {
      "cell_type": "markdown",
      "metadata": {
        "id": "es24bFwuoRta"
      },
      "source": [
        "Logistic Regression Testing Accuracy: 91.93%\n",
        "\n",
        "SVM(Poly Kernel) Testing Accuracy: 97.5%\n",
        "\n",
        "KNN Testing Accuracy: 98.79%\n",
        "\n",
        "After applying PCA on KNN Model we get the Accuracy of 98.11%\n",
        "\n",
        "This is lesser than the actual accuracy, \n",
        "\n",
        "Hence we decided to go further with KNN model with highest accuracy of 98.79%."
      ]
    },
    {
      "cell_type": "markdown",
      "source": [
        "# Deployment our model"
      ],
      "metadata": {
        "id": "LXTqUdtf34Rt"
      }
    },
    {
      "cell_type": "code",
      "execution_count": null,
      "metadata": {
        "id": "_xe3aFzVtj4n"
      },
      "outputs": [],
      "source": [
        "import pickle \n",
        "model = KNeighborsClassifier(n_neighbors=3)\n",
        "model = model.fit(X.reshape(X.shape[0], 28*28), y)\n",
        "\n",
        "# save the model to disk\n",
        "filename = 'finalized_model.sav'\n",
        "pickle.dump(model, open(filename, 'wb'))\n"
      ]
    },
    {
      "cell_type": "code",
      "execution_count": null,
      "metadata": {
        "colab": {
          "base_uri": "https://localhost:8080/"
        },
        "id": "ulDarav34jP0",
        "outputId": "51a6bd4c-a299-4de8-9b39-93627cafeade"
      },
      "outputs": [
        {
          "output_type": "stream",
          "name": "stdout",
          "text": [
            "Drive already mounted at /content/drive; to attempt to forcibly remount, call drive.mount(\"/content/drive\", force_remount=True).\n"
          ]
        }
      ],
      "source": [
        "from google.colab import drive\n",
        "drive.mount(\"/content/drive\")"
      ]
    },
    {
      "cell_type": "code",
      "execution_count": null,
      "metadata": {
        "colab": {
          "base_uri": "https://localhost:8080/"
        },
        "id": "eNSqxrtr6--d",
        "outputId": "29834fa5-4196-40d2-8a8d-c5e840b7f418"
      },
      "outputs": [
        {
          "output_type": "execute_result",
          "data": {
            "text/plain": [
              "['knn_model.gzip']"
            ]
          },
          "metadata": {},
          "execution_count": 101
        }
      ],
      "source": [
        "import joblib\n",
        "joblib.dump(classifier, 'knn_model.gzip', compress=('gzip',3))"
      ]
    },
    {
      "cell_type": "markdown",
      "source": [
        "# GUI\n",
        "You can View our GIU Code with this **[LINK](https://drive.google.com/file/d/1Mnph2LDeeLbn-yNMLdnx6nlAjxDcbZqu/view?usp=sharing)**"
      ],
      "metadata": {
        "id": "SgIP1P3P6msg"
      }
    }
  ],
  "metadata": {
    "accelerator": "GPU",
    "colab": {
      "collapsed_sections": [
        "gce0hXLaSiT5",
        "YA_LYymprnSf",
        "XBK_Xvu97_mg",
        "j5J3mDn71KWH",
        "LXTqUdtf34Rt"
      ],
      "provenance": []
    },
    "gpuClass": "standard",
    "kernelspec": {
      "display_name": "Python 3",
      "name": "python3"
    },
    "language_info": {
      "name": "python"
    }
  },
  "nbformat": 4,
  "nbformat_minor": 0
}
