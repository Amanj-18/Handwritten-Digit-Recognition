{
  "cells": [
    {
      "cell_type": "markdown",
      "metadata": {
        "id": "cm7Ety4HVb6f"
      },
      "source": [
        "### **Handwritten digits Recognition system**"
      ]
    },
    {
      "cell_type": "markdown",
      "metadata": {
        "id": "ENBpiqsKsyvw"
      },
      "source": [
        "# **Importing Libraries**"
      ]
    },
    {
      "cell_type": "code",
      "execution_count": null,
      "metadata": {
        "id": "saeTTc5fJC-D"
      },
      "outputs": [],
      "source": [
        "import numpy as np\n",
        "import matplotlib\n",
        "from matplotlib import pyplot as plt"
      ]
    },
    {
      "cell_type": "code",
      "execution_count": null,
      "metadata": {
        "id": "RLTg5I95JclG"
      },
      "outputs": [],
      "source": [
        "from sklearn.datasets import fetch_openml"
      ]
    },
    {
      "cell_type": "markdown",
      "metadata": {
        "id": "ZlzvHPGqs2eK"
      },
      "source": [
        "Fetching the data from mnist database"
      ]
    },
    {
      "cell_type": "code",
      "execution_count": null,
      "metadata": {
        "id": "6UANqVwJJZbI"
      },
      "outputs": [],
      "source": [
        "mnist = fetch_openml('mnist_784')"
      ]
    },
    {
      "cell_type": "code",
      "execution_count": null,
      "metadata": {
        "colab": {
          "base_uri": "https://localhost:8080/"
        },
        "id": "FlayxrbWJe_p",
        "outputId": "88ea7e33-f296-4c74-b6f6-30edcdc0f825"
      },
      "outputs": [
        {
          "output_type": "execute_result",
          "data": {
            "text/plain": [
              "{'data':        pixel1  pixel2  pixel3  pixel4  pixel5  pixel6  pixel7  pixel8  pixel9  \\\n",
              " 0         0.0     0.0     0.0     0.0     0.0     0.0     0.0     0.0     0.0   \n",
              " 1         0.0     0.0     0.0     0.0     0.0     0.0     0.0     0.0     0.0   \n",
              " 2         0.0     0.0     0.0     0.0     0.0     0.0     0.0     0.0     0.0   \n",
              " 3         0.0     0.0     0.0     0.0     0.0     0.0     0.0     0.0     0.0   \n",
              " 4         0.0     0.0     0.0     0.0     0.0     0.0     0.0     0.0     0.0   \n",
              " ...       ...     ...     ...     ...     ...     ...     ...     ...     ...   \n",
              " 69995     0.0     0.0     0.0     0.0     0.0     0.0     0.0     0.0     0.0   \n",
              " 69996     0.0     0.0     0.0     0.0     0.0     0.0     0.0     0.0     0.0   \n",
              " 69997     0.0     0.0     0.0     0.0     0.0     0.0     0.0     0.0     0.0   \n",
              " 69998     0.0     0.0     0.0     0.0     0.0     0.0     0.0     0.0     0.0   \n",
              " 69999     0.0     0.0     0.0     0.0     0.0     0.0     0.0     0.0     0.0   \n",
              " \n",
              "        pixel10  ...  pixel775  pixel776  pixel777  pixel778  pixel779  \\\n",
              " 0          0.0  ...       0.0       0.0       0.0       0.0       0.0   \n",
              " 1          0.0  ...       0.0       0.0       0.0       0.0       0.0   \n",
              " 2          0.0  ...       0.0       0.0       0.0       0.0       0.0   \n",
              " 3          0.0  ...       0.0       0.0       0.0       0.0       0.0   \n",
              " 4          0.0  ...       0.0       0.0       0.0       0.0       0.0   \n",
              " ...        ...  ...       ...       ...       ...       ...       ...   \n",
              " 69995      0.0  ...       0.0       0.0       0.0       0.0       0.0   \n",
              " 69996      0.0  ...       0.0       0.0       0.0       0.0       0.0   \n",
              " 69997      0.0  ...       0.0       0.0       0.0       0.0       0.0   \n",
              " 69998      0.0  ...       0.0       0.0       0.0       0.0       0.0   \n",
              " 69999      0.0  ...       0.0       0.0       0.0       0.0       0.0   \n",
              " \n",
              "        pixel780  pixel781  pixel782  pixel783  pixel784  \n",
              " 0           0.0       0.0       0.0       0.0       0.0  \n",
              " 1           0.0       0.0       0.0       0.0       0.0  \n",
              " 2           0.0       0.0       0.0       0.0       0.0  \n",
              " 3           0.0       0.0       0.0       0.0       0.0  \n",
              " 4           0.0       0.0       0.0       0.0       0.0  \n",
              " ...         ...       ...       ...       ...       ...  \n",
              " 69995       0.0       0.0       0.0       0.0       0.0  \n",
              " 69996       0.0       0.0       0.0       0.0       0.0  \n",
              " 69997       0.0       0.0       0.0       0.0       0.0  \n",
              " 69998       0.0       0.0       0.0       0.0       0.0  \n",
              " 69999       0.0       0.0       0.0       0.0       0.0  \n",
              " \n",
              " [70000 rows x 784 columns], 'target': 0        5\n",
              " 1        0\n",
              " 2        4\n",
              " 3        1\n",
              " 4        9\n",
              "         ..\n",
              " 69995    2\n",
              " 69996    3\n",
              " 69997    4\n",
              " 69998    5\n",
              " 69999    6\n",
              " Name: class, Length: 70000, dtype: category\n",
              " Categories (10, object): ['0', '1', '2', '3', ..., '6', '7', '8', '9'], 'frame':        pixel1  pixel2  pixel3  pixel4  pixel5  pixel6  pixel7  pixel8  pixel9  \\\n",
              " 0         0.0     0.0     0.0     0.0     0.0     0.0     0.0     0.0     0.0   \n",
              " 1         0.0     0.0     0.0     0.0     0.0     0.0     0.0     0.0     0.0   \n",
              " 2         0.0     0.0     0.0     0.0     0.0     0.0     0.0     0.0     0.0   \n",
              " 3         0.0     0.0     0.0     0.0     0.0     0.0     0.0     0.0     0.0   \n",
              " 4         0.0     0.0     0.0     0.0     0.0     0.0     0.0     0.0     0.0   \n",
              " ...       ...     ...     ...     ...     ...     ...     ...     ...     ...   \n",
              " 69995     0.0     0.0     0.0     0.0     0.0     0.0     0.0     0.0     0.0   \n",
              " 69996     0.0     0.0     0.0     0.0     0.0     0.0     0.0     0.0     0.0   \n",
              " 69997     0.0     0.0     0.0     0.0     0.0     0.0     0.0     0.0     0.0   \n",
              " 69998     0.0     0.0     0.0     0.0     0.0     0.0     0.0     0.0     0.0   \n",
              " 69999     0.0     0.0     0.0     0.0     0.0     0.0     0.0     0.0     0.0   \n",
              " \n",
              "        pixel10  ...  pixel776  pixel777  pixel778  pixel779  pixel780  \\\n",
              " 0          0.0  ...       0.0       0.0       0.0       0.0       0.0   \n",
              " 1          0.0  ...       0.0       0.0       0.0       0.0       0.0   \n",
              " 2          0.0  ...       0.0       0.0       0.0       0.0       0.0   \n",
              " 3          0.0  ...       0.0       0.0       0.0       0.0       0.0   \n",
              " 4          0.0  ...       0.0       0.0       0.0       0.0       0.0   \n",
              " ...        ...  ...       ...       ...       ...       ...       ...   \n",
              " 69995      0.0  ...       0.0       0.0       0.0       0.0       0.0   \n",
              " 69996      0.0  ...       0.0       0.0       0.0       0.0       0.0   \n",
              " 69997      0.0  ...       0.0       0.0       0.0       0.0       0.0   \n",
              " 69998      0.0  ...       0.0       0.0       0.0       0.0       0.0   \n",
              " 69999      0.0  ...       0.0       0.0       0.0       0.0       0.0   \n",
              " \n",
              "        pixel781  pixel782  pixel783  pixel784  class  \n",
              " 0           0.0       0.0       0.0       0.0      5  \n",
              " 1           0.0       0.0       0.0       0.0      0  \n",
              " 2           0.0       0.0       0.0       0.0      4  \n",
              " 3           0.0       0.0       0.0       0.0      1  \n",
              " 4           0.0       0.0       0.0       0.0      9  \n",
              " ...         ...       ...       ...       ...    ...  \n",
              " 69995       0.0       0.0       0.0       0.0      2  \n",
              " 69996       0.0       0.0       0.0       0.0      3  \n",
              " 69997       0.0       0.0       0.0       0.0      4  \n",
              " 69998       0.0       0.0       0.0       0.0      5  \n",
              " 69999       0.0       0.0       0.0       0.0      6  \n",
              " \n",
              " [70000 rows x 785 columns], 'categories': None, 'feature_names': ['pixel1',\n",
              "  'pixel2',\n",
              "  'pixel3',\n",
              "  'pixel4',\n",
              "  'pixel5',\n",
              "  'pixel6',\n",
              "  'pixel7',\n",
              "  'pixel8',\n",
              "  'pixel9',\n",
              "  'pixel10',\n",
              "  'pixel11',\n",
              "  'pixel12',\n",
              "  'pixel13',\n",
              "  'pixel14',\n",
              "  'pixel15',\n",
              "  'pixel16',\n",
              "  'pixel17',\n",
              "  'pixel18',\n",
              "  'pixel19',\n",
              "  'pixel20',\n",
              "  'pixel21',\n",
              "  'pixel22',\n",
              "  'pixel23',\n",
              "  'pixel24',\n",
              "  'pixel25',\n",
              "  'pixel26',\n",
              "  'pixel27',\n",
              "  'pixel28',\n",
              "  'pixel29',\n",
              "  'pixel30',\n",
              "  'pixel31',\n",
              "  'pixel32',\n",
              "  'pixel33',\n",
              "  'pixel34',\n",
              "  'pixel35',\n",
              "  'pixel36',\n",
              "  'pixel37',\n",
              "  'pixel38',\n",
              "  'pixel39',\n",
              "  'pixel40',\n",
              "  'pixel41',\n",
              "  'pixel42',\n",
              "  'pixel43',\n",
              "  'pixel44',\n",
              "  'pixel45',\n",
              "  'pixel46',\n",
              "  'pixel47',\n",
              "  'pixel48',\n",
              "  'pixel49',\n",
              "  'pixel50',\n",
              "  'pixel51',\n",
              "  'pixel52',\n",
              "  'pixel53',\n",
              "  'pixel54',\n",
              "  'pixel55',\n",
              "  'pixel56',\n",
              "  'pixel57',\n",
              "  'pixel58',\n",
              "  'pixel59',\n",
              "  'pixel60',\n",
              "  'pixel61',\n",
              "  'pixel62',\n",
              "  'pixel63',\n",
              "  'pixel64',\n",
              "  'pixel65',\n",
              "  'pixel66',\n",
              "  'pixel67',\n",
              "  'pixel68',\n",
              "  'pixel69',\n",
              "  'pixel70',\n",
              "  'pixel71',\n",
              "  'pixel72',\n",
              "  'pixel73',\n",
              "  'pixel74',\n",
              "  'pixel75',\n",
              "  'pixel76',\n",
              "  'pixel77',\n",
              "  'pixel78',\n",
              "  'pixel79',\n",
              "  'pixel80',\n",
              "  'pixel81',\n",
              "  'pixel82',\n",
              "  'pixel83',\n",
              "  'pixel84',\n",
              "  'pixel85',\n",
              "  'pixel86',\n",
              "  'pixel87',\n",
              "  'pixel88',\n",
              "  'pixel89',\n",
              "  'pixel90',\n",
              "  'pixel91',\n",
              "  'pixel92',\n",
              "  'pixel93',\n",
              "  'pixel94',\n",
              "  'pixel95',\n",
              "  'pixel96',\n",
              "  'pixel97',\n",
              "  'pixel98',\n",
              "  'pixel99',\n",
              "  'pixel100',\n",
              "  'pixel101',\n",
              "  'pixel102',\n",
              "  'pixel103',\n",
              "  'pixel104',\n",
              "  'pixel105',\n",
              "  'pixel106',\n",
              "  'pixel107',\n",
              "  'pixel108',\n",
              "  'pixel109',\n",
              "  'pixel110',\n",
              "  'pixel111',\n",
              "  'pixel112',\n",
              "  'pixel113',\n",
              "  'pixel114',\n",
              "  'pixel115',\n",
              "  'pixel116',\n",
              "  'pixel117',\n",
              "  'pixel118',\n",
              "  'pixel119',\n",
              "  'pixel120',\n",
              "  'pixel121',\n",
              "  'pixel122',\n",
              "  'pixel123',\n",
              "  'pixel124',\n",
              "  'pixel125',\n",
              "  'pixel126',\n",
              "  'pixel127',\n",
              "  'pixel128',\n",
              "  'pixel129',\n",
              "  'pixel130',\n",
              "  'pixel131',\n",
              "  'pixel132',\n",
              "  'pixel133',\n",
              "  'pixel134',\n",
              "  'pixel135',\n",
              "  'pixel136',\n",
              "  'pixel137',\n",
              "  'pixel138',\n",
              "  'pixel139',\n",
              "  'pixel140',\n",
              "  'pixel141',\n",
              "  'pixel142',\n",
              "  'pixel143',\n",
              "  'pixel144',\n",
              "  'pixel145',\n",
              "  'pixel146',\n",
              "  'pixel147',\n",
              "  'pixel148',\n",
              "  'pixel149',\n",
              "  'pixel150',\n",
              "  'pixel151',\n",
              "  'pixel152',\n",
              "  'pixel153',\n",
              "  'pixel154',\n",
              "  'pixel155',\n",
              "  'pixel156',\n",
              "  'pixel157',\n",
              "  'pixel158',\n",
              "  'pixel159',\n",
              "  'pixel160',\n",
              "  'pixel161',\n",
              "  'pixel162',\n",
              "  'pixel163',\n",
              "  'pixel164',\n",
              "  'pixel165',\n",
              "  'pixel166',\n",
              "  'pixel167',\n",
              "  'pixel168',\n",
              "  'pixel169',\n",
              "  'pixel170',\n",
              "  'pixel171',\n",
              "  'pixel172',\n",
              "  'pixel173',\n",
              "  'pixel174',\n",
              "  'pixel175',\n",
              "  'pixel176',\n",
              "  'pixel177',\n",
              "  'pixel178',\n",
              "  'pixel179',\n",
              "  'pixel180',\n",
              "  'pixel181',\n",
              "  'pixel182',\n",
              "  'pixel183',\n",
              "  'pixel184',\n",
              "  'pixel185',\n",
              "  'pixel186',\n",
              "  'pixel187',\n",
              "  'pixel188',\n",
              "  'pixel189',\n",
              "  'pixel190',\n",
              "  'pixel191',\n",
              "  'pixel192',\n",
              "  'pixel193',\n",
              "  'pixel194',\n",
              "  'pixel195',\n",
              "  'pixel196',\n",
              "  'pixel197',\n",
              "  'pixel198',\n",
              "  'pixel199',\n",
              "  'pixel200',\n",
              "  'pixel201',\n",
              "  'pixel202',\n",
              "  'pixel203',\n",
              "  'pixel204',\n",
              "  'pixel205',\n",
              "  'pixel206',\n",
              "  'pixel207',\n",
              "  'pixel208',\n",
              "  'pixel209',\n",
              "  'pixel210',\n",
              "  'pixel211',\n",
              "  'pixel212',\n",
              "  'pixel213',\n",
              "  'pixel214',\n",
              "  'pixel215',\n",
              "  'pixel216',\n",
              "  'pixel217',\n",
              "  'pixel218',\n",
              "  'pixel219',\n",
              "  'pixel220',\n",
              "  'pixel221',\n",
              "  'pixel222',\n",
              "  'pixel223',\n",
              "  'pixel224',\n",
              "  'pixel225',\n",
              "  'pixel226',\n",
              "  'pixel227',\n",
              "  'pixel228',\n",
              "  'pixel229',\n",
              "  'pixel230',\n",
              "  'pixel231',\n",
              "  'pixel232',\n",
              "  'pixel233',\n",
              "  'pixel234',\n",
              "  'pixel235',\n",
              "  'pixel236',\n",
              "  'pixel237',\n",
              "  'pixel238',\n",
              "  'pixel239',\n",
              "  'pixel240',\n",
              "  'pixel241',\n",
              "  'pixel242',\n",
              "  'pixel243',\n",
              "  'pixel244',\n",
              "  'pixel245',\n",
              "  'pixel246',\n",
              "  'pixel247',\n",
              "  'pixel248',\n",
              "  'pixel249',\n",
              "  'pixel250',\n",
              "  'pixel251',\n",
              "  'pixel252',\n",
              "  'pixel253',\n",
              "  'pixel254',\n",
              "  'pixel255',\n",
              "  'pixel256',\n",
              "  'pixel257',\n",
              "  'pixel258',\n",
              "  'pixel259',\n",
              "  'pixel260',\n",
              "  'pixel261',\n",
              "  'pixel262',\n",
              "  'pixel263',\n",
              "  'pixel264',\n",
              "  'pixel265',\n",
              "  'pixel266',\n",
              "  'pixel267',\n",
              "  'pixel268',\n",
              "  'pixel269',\n",
              "  'pixel270',\n",
              "  'pixel271',\n",
              "  'pixel272',\n",
              "  'pixel273',\n",
              "  'pixel274',\n",
              "  'pixel275',\n",
              "  'pixel276',\n",
              "  'pixel277',\n",
              "  'pixel278',\n",
              "  'pixel279',\n",
              "  'pixel280',\n",
              "  'pixel281',\n",
              "  'pixel282',\n",
              "  'pixel283',\n",
              "  'pixel284',\n",
              "  'pixel285',\n",
              "  'pixel286',\n",
              "  'pixel287',\n",
              "  'pixel288',\n",
              "  'pixel289',\n",
              "  'pixel290',\n",
              "  'pixel291',\n",
              "  'pixel292',\n",
              "  'pixel293',\n",
              "  'pixel294',\n",
              "  'pixel295',\n",
              "  'pixel296',\n",
              "  'pixel297',\n",
              "  'pixel298',\n",
              "  'pixel299',\n",
              "  'pixel300',\n",
              "  'pixel301',\n",
              "  'pixel302',\n",
              "  'pixel303',\n",
              "  'pixel304',\n",
              "  'pixel305',\n",
              "  'pixel306',\n",
              "  'pixel307',\n",
              "  'pixel308',\n",
              "  'pixel309',\n",
              "  'pixel310',\n",
              "  'pixel311',\n",
              "  'pixel312',\n",
              "  'pixel313',\n",
              "  'pixel314',\n",
              "  'pixel315',\n",
              "  'pixel316',\n",
              "  'pixel317',\n",
              "  'pixel318',\n",
              "  'pixel319',\n",
              "  'pixel320',\n",
              "  'pixel321',\n",
              "  'pixel322',\n",
              "  'pixel323',\n",
              "  'pixel324',\n",
              "  'pixel325',\n",
              "  'pixel326',\n",
              "  'pixel327',\n",
              "  'pixel328',\n",
              "  'pixel329',\n",
              "  'pixel330',\n",
              "  'pixel331',\n",
              "  'pixel332',\n",
              "  'pixel333',\n",
              "  'pixel334',\n",
              "  'pixel335',\n",
              "  'pixel336',\n",
              "  'pixel337',\n",
              "  'pixel338',\n",
              "  'pixel339',\n",
              "  'pixel340',\n",
              "  'pixel341',\n",
              "  'pixel342',\n",
              "  'pixel343',\n",
              "  'pixel344',\n",
              "  'pixel345',\n",
              "  'pixel346',\n",
              "  'pixel347',\n",
              "  'pixel348',\n",
              "  'pixel349',\n",
              "  'pixel350',\n",
              "  'pixel351',\n",
              "  'pixel352',\n",
              "  'pixel353',\n",
              "  'pixel354',\n",
              "  'pixel355',\n",
              "  'pixel356',\n",
              "  'pixel357',\n",
              "  'pixel358',\n",
              "  'pixel359',\n",
              "  'pixel360',\n",
              "  'pixel361',\n",
              "  'pixel362',\n",
              "  'pixel363',\n",
              "  'pixel364',\n",
              "  'pixel365',\n",
              "  'pixel366',\n",
              "  'pixel367',\n",
              "  'pixel368',\n",
              "  'pixel369',\n",
              "  'pixel370',\n",
              "  'pixel371',\n",
              "  'pixel372',\n",
              "  'pixel373',\n",
              "  'pixel374',\n",
              "  'pixel375',\n",
              "  'pixel376',\n",
              "  'pixel377',\n",
              "  'pixel378',\n",
              "  'pixel379',\n",
              "  'pixel380',\n",
              "  'pixel381',\n",
              "  'pixel382',\n",
              "  'pixel383',\n",
              "  'pixel384',\n",
              "  'pixel385',\n",
              "  'pixel386',\n",
              "  'pixel387',\n",
              "  'pixel388',\n",
              "  'pixel389',\n",
              "  'pixel390',\n",
              "  'pixel391',\n",
              "  'pixel392',\n",
              "  'pixel393',\n",
              "  'pixel394',\n",
              "  'pixel395',\n",
              "  'pixel396',\n",
              "  'pixel397',\n",
              "  'pixel398',\n",
              "  'pixel399',\n",
              "  'pixel400',\n",
              "  'pixel401',\n",
              "  'pixel402',\n",
              "  'pixel403',\n",
              "  'pixel404',\n",
              "  'pixel405',\n",
              "  'pixel406',\n",
              "  'pixel407',\n",
              "  'pixel408',\n",
              "  'pixel409',\n",
              "  'pixel410',\n",
              "  'pixel411',\n",
              "  'pixel412',\n",
              "  'pixel413',\n",
              "  'pixel414',\n",
              "  'pixel415',\n",
              "  'pixel416',\n",
              "  'pixel417',\n",
              "  'pixel418',\n",
              "  'pixel419',\n",
              "  'pixel420',\n",
              "  'pixel421',\n",
              "  'pixel422',\n",
              "  'pixel423',\n",
              "  'pixel424',\n",
              "  'pixel425',\n",
              "  'pixel426',\n",
              "  'pixel427',\n",
              "  'pixel428',\n",
              "  'pixel429',\n",
              "  'pixel430',\n",
              "  'pixel431',\n",
              "  'pixel432',\n",
              "  'pixel433',\n",
              "  'pixel434',\n",
              "  'pixel435',\n",
              "  'pixel436',\n",
              "  'pixel437',\n",
              "  'pixel438',\n",
              "  'pixel439',\n",
              "  'pixel440',\n",
              "  'pixel441',\n",
              "  'pixel442',\n",
              "  'pixel443',\n",
              "  'pixel444',\n",
              "  'pixel445',\n",
              "  'pixel446',\n",
              "  'pixel447',\n",
              "  'pixel448',\n",
              "  'pixel449',\n",
              "  'pixel450',\n",
              "  'pixel451',\n",
              "  'pixel452',\n",
              "  'pixel453',\n",
              "  'pixel454',\n",
              "  'pixel455',\n",
              "  'pixel456',\n",
              "  'pixel457',\n",
              "  'pixel458',\n",
              "  'pixel459',\n",
              "  'pixel460',\n",
              "  'pixel461',\n",
              "  'pixel462',\n",
              "  'pixel463',\n",
              "  'pixel464',\n",
              "  'pixel465',\n",
              "  'pixel466',\n",
              "  'pixel467',\n",
              "  'pixel468',\n",
              "  'pixel469',\n",
              "  'pixel470',\n",
              "  'pixel471',\n",
              "  'pixel472',\n",
              "  'pixel473',\n",
              "  'pixel474',\n",
              "  'pixel475',\n",
              "  'pixel476',\n",
              "  'pixel477',\n",
              "  'pixel478',\n",
              "  'pixel479',\n",
              "  'pixel480',\n",
              "  'pixel481',\n",
              "  'pixel482',\n",
              "  'pixel483',\n",
              "  'pixel484',\n",
              "  'pixel485',\n",
              "  'pixel486',\n",
              "  'pixel487',\n",
              "  'pixel488',\n",
              "  'pixel489',\n",
              "  'pixel490',\n",
              "  'pixel491',\n",
              "  'pixel492',\n",
              "  'pixel493',\n",
              "  'pixel494',\n",
              "  'pixel495',\n",
              "  'pixel496',\n",
              "  'pixel497',\n",
              "  'pixel498',\n",
              "  'pixel499',\n",
              "  'pixel500',\n",
              "  'pixel501',\n",
              "  'pixel502',\n",
              "  'pixel503',\n",
              "  'pixel504',\n",
              "  'pixel505',\n",
              "  'pixel506',\n",
              "  'pixel507',\n",
              "  'pixel508',\n",
              "  'pixel509',\n",
              "  'pixel510',\n",
              "  'pixel511',\n",
              "  'pixel512',\n",
              "  'pixel513',\n",
              "  'pixel514',\n",
              "  'pixel515',\n",
              "  'pixel516',\n",
              "  'pixel517',\n",
              "  'pixel518',\n",
              "  'pixel519',\n",
              "  'pixel520',\n",
              "  'pixel521',\n",
              "  'pixel522',\n",
              "  'pixel523',\n",
              "  'pixel524',\n",
              "  'pixel525',\n",
              "  'pixel526',\n",
              "  'pixel527',\n",
              "  'pixel528',\n",
              "  'pixel529',\n",
              "  'pixel530',\n",
              "  'pixel531',\n",
              "  'pixel532',\n",
              "  'pixel533',\n",
              "  'pixel534',\n",
              "  'pixel535',\n",
              "  'pixel536',\n",
              "  'pixel537',\n",
              "  'pixel538',\n",
              "  'pixel539',\n",
              "  'pixel540',\n",
              "  'pixel541',\n",
              "  'pixel542',\n",
              "  'pixel543',\n",
              "  'pixel544',\n",
              "  'pixel545',\n",
              "  'pixel546',\n",
              "  'pixel547',\n",
              "  'pixel548',\n",
              "  'pixel549',\n",
              "  'pixel550',\n",
              "  'pixel551',\n",
              "  'pixel552',\n",
              "  'pixel553',\n",
              "  'pixel554',\n",
              "  'pixel555',\n",
              "  'pixel556',\n",
              "  'pixel557',\n",
              "  'pixel558',\n",
              "  'pixel559',\n",
              "  'pixel560',\n",
              "  'pixel561',\n",
              "  'pixel562',\n",
              "  'pixel563',\n",
              "  'pixel564',\n",
              "  'pixel565',\n",
              "  'pixel566',\n",
              "  'pixel567',\n",
              "  'pixel568',\n",
              "  'pixel569',\n",
              "  'pixel570',\n",
              "  'pixel571',\n",
              "  'pixel572',\n",
              "  'pixel573',\n",
              "  'pixel574',\n",
              "  'pixel575',\n",
              "  'pixel576',\n",
              "  'pixel577',\n",
              "  'pixel578',\n",
              "  'pixel579',\n",
              "  'pixel580',\n",
              "  'pixel581',\n",
              "  'pixel582',\n",
              "  'pixel583',\n",
              "  'pixel584',\n",
              "  'pixel585',\n",
              "  'pixel586',\n",
              "  'pixel587',\n",
              "  'pixel588',\n",
              "  'pixel589',\n",
              "  'pixel590',\n",
              "  'pixel591',\n",
              "  'pixel592',\n",
              "  'pixel593',\n",
              "  'pixel594',\n",
              "  'pixel595',\n",
              "  'pixel596',\n",
              "  'pixel597',\n",
              "  'pixel598',\n",
              "  'pixel599',\n",
              "  'pixel600',\n",
              "  'pixel601',\n",
              "  'pixel602',\n",
              "  'pixel603',\n",
              "  'pixel604',\n",
              "  'pixel605',\n",
              "  'pixel606',\n",
              "  'pixel607',\n",
              "  'pixel608',\n",
              "  'pixel609',\n",
              "  'pixel610',\n",
              "  'pixel611',\n",
              "  'pixel612',\n",
              "  'pixel613',\n",
              "  'pixel614',\n",
              "  'pixel615',\n",
              "  'pixel616',\n",
              "  'pixel617',\n",
              "  'pixel618',\n",
              "  'pixel619',\n",
              "  'pixel620',\n",
              "  'pixel621',\n",
              "  'pixel622',\n",
              "  'pixel623',\n",
              "  'pixel624',\n",
              "  'pixel625',\n",
              "  'pixel626',\n",
              "  'pixel627',\n",
              "  'pixel628',\n",
              "  'pixel629',\n",
              "  'pixel630',\n",
              "  'pixel631',\n",
              "  'pixel632',\n",
              "  'pixel633',\n",
              "  'pixel634',\n",
              "  'pixel635',\n",
              "  'pixel636',\n",
              "  'pixel637',\n",
              "  'pixel638',\n",
              "  'pixel639',\n",
              "  'pixel640',\n",
              "  'pixel641',\n",
              "  'pixel642',\n",
              "  'pixel643',\n",
              "  'pixel644',\n",
              "  'pixel645',\n",
              "  'pixel646',\n",
              "  'pixel647',\n",
              "  'pixel648',\n",
              "  'pixel649',\n",
              "  'pixel650',\n",
              "  'pixel651',\n",
              "  'pixel652',\n",
              "  'pixel653',\n",
              "  'pixel654',\n",
              "  'pixel655',\n",
              "  'pixel656',\n",
              "  'pixel657',\n",
              "  'pixel658',\n",
              "  'pixel659',\n",
              "  'pixel660',\n",
              "  'pixel661',\n",
              "  'pixel662',\n",
              "  'pixel663',\n",
              "  'pixel664',\n",
              "  'pixel665',\n",
              "  'pixel666',\n",
              "  'pixel667',\n",
              "  'pixel668',\n",
              "  'pixel669',\n",
              "  'pixel670',\n",
              "  'pixel671',\n",
              "  'pixel672',\n",
              "  'pixel673',\n",
              "  'pixel674',\n",
              "  'pixel675',\n",
              "  'pixel676',\n",
              "  'pixel677',\n",
              "  'pixel678',\n",
              "  'pixel679',\n",
              "  'pixel680',\n",
              "  'pixel681',\n",
              "  'pixel682',\n",
              "  'pixel683',\n",
              "  'pixel684',\n",
              "  'pixel685',\n",
              "  'pixel686',\n",
              "  'pixel687',\n",
              "  'pixel688',\n",
              "  'pixel689',\n",
              "  'pixel690',\n",
              "  'pixel691',\n",
              "  'pixel692',\n",
              "  'pixel693',\n",
              "  'pixel694',\n",
              "  'pixel695',\n",
              "  'pixel696',\n",
              "  'pixel697',\n",
              "  'pixel698',\n",
              "  'pixel699',\n",
              "  'pixel700',\n",
              "  'pixel701',\n",
              "  'pixel702',\n",
              "  'pixel703',\n",
              "  'pixel704',\n",
              "  'pixel705',\n",
              "  'pixel706',\n",
              "  'pixel707',\n",
              "  'pixel708',\n",
              "  'pixel709',\n",
              "  'pixel710',\n",
              "  'pixel711',\n",
              "  'pixel712',\n",
              "  'pixel713',\n",
              "  'pixel714',\n",
              "  'pixel715',\n",
              "  'pixel716',\n",
              "  'pixel717',\n",
              "  'pixel718',\n",
              "  'pixel719',\n",
              "  'pixel720',\n",
              "  'pixel721',\n",
              "  'pixel722',\n",
              "  'pixel723',\n",
              "  'pixel724',\n",
              "  'pixel725',\n",
              "  'pixel726',\n",
              "  'pixel727',\n",
              "  'pixel728',\n",
              "  'pixel729',\n",
              "  'pixel730',\n",
              "  'pixel731',\n",
              "  'pixel732',\n",
              "  'pixel733',\n",
              "  'pixel734',\n",
              "  'pixel735',\n",
              "  'pixel736',\n",
              "  'pixel737',\n",
              "  'pixel738',\n",
              "  'pixel739',\n",
              "  'pixel740',\n",
              "  'pixel741',\n",
              "  'pixel742',\n",
              "  'pixel743',\n",
              "  'pixel744',\n",
              "  'pixel745',\n",
              "  'pixel746',\n",
              "  'pixel747',\n",
              "  'pixel748',\n",
              "  'pixel749',\n",
              "  'pixel750',\n",
              "  'pixel751',\n",
              "  'pixel752',\n",
              "  'pixel753',\n",
              "  'pixel754',\n",
              "  'pixel755',\n",
              "  'pixel756',\n",
              "  'pixel757',\n",
              "  'pixel758',\n",
              "  'pixel759',\n",
              "  'pixel760',\n",
              "  'pixel761',\n",
              "  'pixel762',\n",
              "  'pixel763',\n",
              "  'pixel764',\n",
              "  'pixel765',\n",
              "  'pixel766',\n",
              "  'pixel767',\n",
              "  'pixel768',\n",
              "  'pixel769',\n",
              "  'pixel770',\n",
              "  'pixel771',\n",
              "  'pixel772',\n",
              "  'pixel773',\n",
              "  'pixel774',\n",
              "  'pixel775',\n",
              "  'pixel776',\n",
              "  'pixel777',\n",
              "  'pixel778',\n",
              "  'pixel779',\n",
              "  'pixel780',\n",
              "  'pixel781',\n",
              "  'pixel782',\n",
              "  'pixel783',\n",
              "  'pixel784'], 'target_names': ['class'], 'DESCR': \"**Author**: Yann LeCun, Corinna Cortes, Christopher J.C. Burges  \\n**Source**: [MNIST Website](http://yann.lecun.com/exdb/mnist/) - Date unknown  \\n**Please cite**:  \\n\\nThe MNIST database of handwritten digits with 784 features, raw data available at: http://yann.lecun.com/exdb/mnist/. It can be split in a training set of the first 60,000 examples, and a test set of 10,000 examples  \\n\\nIt is a subset of a larger set available from NIST. The digits have been size-normalized and centered in a fixed-size image. It is a good database for people who want to try learning techniques and pattern recognition methods on real-world data while spending minimal efforts on preprocessing and formatting. The original black and white (bilevel) images from NIST were size normalized to fit in a 20x20 pixel box while preserving their aspect ratio. The resulting images contain grey levels as a result of the anti-aliasing technique used by the normalization algorithm. the images were centered in a 28x28 image by computing the center of mass of the pixels, and translating the image so as to position this point at the center of the 28x28 field.  \\n\\nWith some classification methods (particularly template-based methods, such as SVM and K-nearest neighbors), the error rate improves when the digits are centered by bounding box rather than center of mass. If you do this kind of pre-processing, you should report it in your publications. The MNIST database was constructed from NIST's NIST originally designated SD-3 as their training set and SD-1 as their test set. However, SD-3 is much cleaner and easier to recognize than SD-1. The reason for this can be found on the fact that SD-3 was collected among Census Bureau employees, while SD-1 was collected among high-school students. Drawing sensible conclusions from learning experiments requires that the result be independent of the choice of training set and test among the complete set of samples. Therefore it was necessary to build a new database by mixing NIST's datasets.  \\n\\nThe MNIST training set is composed of 30,000 patterns from SD-3 and 30,000 patterns from SD-1. Our test set was composed of 5,000 patterns from SD-3 and 5,000 patterns from SD-1. The 60,000 pattern training set contained examples from approximately 250 writers. We made sure that the sets of writers of the training set and test set were disjoint. SD-1 contains 58,527 digit images written by 500 different writers. In contrast to SD-3, where blocks of data from each writer appeared in sequence, the data in SD-1 is scrambled. Writer identities for SD-1 is available and we used this information to unscramble the writers. We then split SD-1 in two: characters written by the first 250 writers went into our new training set. The remaining 250 writers were placed in our test set. Thus we had two sets with nearly 30,000 examples each. The new training set was completed with enough examples from SD-3, starting at pattern # 0, to make a full set of 60,000 training patterns. Similarly, the new test set was completed with SD-3 examples starting at pattern # 35,000 to make a full set with 60,000 test patterns. Only a subset of 10,000 test images (5,000 from SD-1 and 5,000 from SD-3) is available on this site. The full 60,000 sample training set is available.\\n\\nDownloaded from openml.org.\", 'details': {'id': '554',\n",
              "  'name': 'mnist_784',\n",
              "  'version': '1',\n",
              "  'description_version': '1',\n",
              "  'format': 'ARFF',\n",
              "  'creator': ['Yann LeCun', 'Corinna Cortes', 'Christopher J.C. Burges'],\n",
              "  'upload_date': '2014-09-29T03:28:38',\n",
              "  'language': 'English',\n",
              "  'licence': 'Public',\n",
              "  'url': 'https://api.openml.org/data/v1/download/52667/mnist_784.arff',\n",
              "  'parquet_url': 'http://openml1.win.tue.nl/dataset554/dataset_554.pq',\n",
              "  'file_id': '52667',\n",
              "  'default_target_attribute': 'class',\n",
              "  'tag': ['AzurePilot',\n",
              "   'OpenML-CC18',\n",
              "   'OpenML100',\n",
              "   'study_1',\n",
              "   'study_123',\n",
              "   'study_41',\n",
              "   'study_99',\n",
              "   'vision'],\n",
              "  'visibility': 'public',\n",
              "  'minio_url': 'http://openml1.win.tue.nl/dataset554/dataset_554.pq',\n",
              "  'status': 'active',\n",
              "  'processing_date': '2020-11-20 20:12:09',\n",
              "  'md5_checksum': '0298d579eb1b86163de7723944c7e495'}, 'url': 'https://www.openml.org/d/554'}"
            ]
          },
          "metadata": {},
          "execution_count": 4
        }
      ],
      "source": [
        "mnist"
      ]
    },
    {
      "cell_type": "markdown",
      "metadata": {
        "id": "sTu_q-U_s-wE"
      },
      "source": [
        "Dataset"
      ]
    },
    {
      "cell_type": "code",
      "execution_count": null,
      "metadata": {
        "colab": {
          "base_uri": "https://localhost:8080/"
        },
        "id": "fEdBXbuKH_U2",
        "outputId": "19dd44d9-b67e-45a0-c1ff-c2f36f3962f7"
      },
      "outputs": [
        {
          "output_type": "stream",
          "name": "stdout",
          "text": [
            "Shape of input :  (70000, 784) Shape of target :  (70000,)\n"
          ]
        }
      ],
      "source": [
        "X, y = fetch_openml('mnist_784', version=1, return_X_y=True, as_frame=False)\n",
        "print(\"Shape of input : \", X.shape, \"Shape of target : \", y.shape)"
      ]
    },
    {
      "cell_type": "code",
      "execution_count": null,
      "metadata": {
        "colab": {
          "base_uri": "https://localhost:8080/"
        },
        "id": "baGlcLTrKGVg",
        "outputId": "6b3486d0-17e3-4a68-a1ae-2a2fbe0192b4"
      },
      "outputs": [
        {
          "output_type": "execute_result",
          "data": {
            "text/plain": [
              "(70000, 784)"
            ]
          },
          "metadata": {},
          "execution_count": 6
        }
      ],
      "source": [
        "X.shape"
      ]
    },
    {
      "cell_type": "code",
      "execution_count": null,
      "metadata": {
        "colab": {
          "base_uri": "https://localhost:8080/"
        },
        "id": "ZAVMp4XyKJTM",
        "outputId": "90154aaf-c1dd-4264-c522-b9bebf3b7f57"
      },
      "outputs": [
        {
          "output_type": "execute_result",
          "data": {
            "text/plain": [
              "(70000,)"
            ]
          },
          "metadata": {},
          "execution_count": 7
        }
      ],
      "source": [
        "y.shape"
      ]
    },
    {
      "cell_type": "markdown",
      "metadata": {
        "id": "hIaPJWcatB4R"
      },
      "source": [
        "Visualize the dataset"
      ]
    },
    {
      "cell_type": "code",
      "execution_count": null,
      "metadata": {
        "colab": {
          "base_uri": "https://localhost:8080/",
          "height": 167
        },
        "id": "Le0wdnTaIE3m",
        "outputId": "355db6cd-9213-42df-e255-87cc7b5bbf65"
      },
      "outputs": [
        {
          "data": {
            "image/png": "[encoded data removed]",
            "text/plain": [
              "<Figure size 432x288 with 3 Axes>"
            ]
          },
          "metadata": {},
          "output_type": "display_data"
        }
      ],
      "source": [
        "\n",
        "from matplotlib import pyplot as plt\n",
        "import numpy as np\n",
        "\n",
        "plt.figure()\n",
        "for idx, image in enumerate(X[:3]):\n",
        "    plt.subplot(1, 3, idx + 1)\n",
        "    plt.imshow(np.reshape(image, (28,28)), cmap=plt.cm.gray)\n",
        "    plt.title('Training: ' + y[idx], fontsize = 20)"
      ]
    },
    {
      "cell_type": "markdown",
      "metadata": {
        "id": "pBHOZoYFtE8r"
      },
      "source": [
        "Data Splitting\n"
      ]
    },
    {
      "cell_type": "code",
      "execution_count": null,
      "metadata": {
        "colab": {
          "base_uri": "https://localhost:8080/"
        },
        "id": "PJ9ILMpMIHkz",
        "outputId": "0de8301a-cece-42bb-9aaf-8498934d065c"
      },
      "outputs": [
        {
          "output_type": "stream",
          "name": "stdout",
          "text": [
            "training samples shape =  (60000, 784)\n",
            "testing samples shape =  (10000, 784)\n"
          ]
        }
      ],
      "source": [
        "from sklearn.model_selection import train_test_split\n",
        "y = [int(i) for i in y] # targets are strings, so need to convert to # int\n",
        "\n",
        "X_train, X_test, y_train, y_test = train_test_split(X, y, test_size=1/7,random_state=0)\n",
        "print(\"training samples shape = \", X_train.shape)\n",
        "print(\"testing samples shape = \", X_test.shape)"
      ]
    },
    {
      "cell_type": "code",
      "source": [
        "\n",
        "d0 = pd.read_csv('/content/train.csv')\n",
        "\n",
        "print(d0.head(5)) # print first five rows of d0."
      ],
      "metadata": {
        "id": "k-Zl6VLs1bQA"
      },
      "execution_count": null,
      "outputs": []
    },
    {
      "cell_type": "markdown",
      "metadata": {
        "id": "hTmeI5z5tKxf"
      },
      "source": [
        "Visualisation"
      ]
    },
    {
      "cell_type": "code",
      "execution_count": null,
      "metadata": {
        "colab": {
          "base_uri": "https://localhost:8080/",
          "height": 336
        },
        "id": "lAFSEBylINfw",
        "outputId": "3e8615dc-f7e1-4a20-b0d9-30a6cfd73a99"
      },
      "outputs": [
        {
          "data": {
            "image/png": "[encoded data removed]",
            "text/plain": [
              "<Figure size 720x360 with 2 Axes>"
            ]
          },
          "metadata": {},
          "output_type": "display_data"
        }
      ],
      "source": [
        "plt.figure(figsize=(10,5))\n",
        "plt.subplot(1,2,1)\n",
        "plt.hist(y_train, bins=20, rwidth=0.9, color='#607c8e');\n",
        "plt.title('Frequency of different classes - Training Set');\n",
        "\n",
        "\n",
        "plt.subplot(1,2,2)\n",
        "plt.hist(y_test, bins=20, rwidth=0.9, color='#607c8e');\n",
        "plt.title('Frequency of different classes - Test set');"
      ]
    },
    {
      "cell_type": "markdown",
      "metadata": {
        "id": "gce0hXLaSiT5"
      },
      "source": [
        "# **Model Building**"
      ]
    },
    {
      "cell_type": "code",
      "execution_count": null,
      "metadata": {
        "colab": {
          "base_uri": "https://localhost:8080/"
        },
        "id": "LLID_caJSmmh",
        "outputId": "6d218f5a-f160-442b-bbfb-4902547d2e10"
      },
      "outputs": [
        {
          "name": "stderr",
          "output_type": "stream",
          "text": [
            "[Parallel(n_jobs=5)]: Using backend ThreadingBackend with 5 concurrent workers.\n"
          ]
        },
        {
          "name": "stdout",
          "output_type": "stream",
          "text": [
            "convergence after 48 epochs took 324 seconds\n"
          ]
        },
        {
          "name": "stderr",
          "output_type": "stream",
          "text": [
            "[Parallel(n_jobs=5)]: Done   1 out of   1 | elapsed:  5.4min finished\n"
          ]
        },
        {
          "data": {
            "text/plain": [
              "LogisticRegression(C=50, max_iter=1000, n_jobs=5, penalty='l1', solver='saga',\n",
              "                   tol=0.01, verbose=2)"
            ]
          },
          "execution_count": 13,
          "metadata": {},
          "output_type": "execute_result"
        }
      ],
      "source": [
        "from sklearn.linear_model import LogisticRegression\n",
        "\n",
        "model = LogisticRegression(fit_intercept=True,\n",
        "                        multi_class='auto',\n",
        "                        penalty='l1', #lasso regression\n",
        "                        solver='saga',\n",
        "                        max_iter=1000,\n",
        "                        C=50,\n",
        "                        verbose=2, # output progress\n",
        "                        n_jobs=5, # parallelize over 5 processes\n",
        "                        tol=0.01\n",
        "                         )\n",
        "\n",
        "model\n",
        "model.fit(X_train, y_train)"
      ]
    },
    {
      "cell_type": "markdown",
      "metadata": {
        "id": "dbByP15ySr64"
      },
      "source": [
        "# **Model Evaluation**"
      ]
    },
    {
      "cell_type": "code",
      "execution_count": null,
      "metadata": {
        "colab": {
          "base_uri": "https://localhost:8080/",
          "height": 387
        },
        "id": "78eTMIaHSvdw",
        "outputId": "d856d77e-8f05-42e4-d953-2f815807727b"
      },
      "outputs": [
        {
          "name": "stdout",
          "output_type": "stream",
          "text": [
            "Training Accuracy =  93.747\n",
            "Testing Accuracy =  91.93\n"
          ]
        },
        {
          "data": {
            "text/plain": [
              "Text(0.5, 145.31999999999996, 'Predicted label')"
            ]
          },
          "execution_count": 14,
          "metadata": {},
          "output_type": "execute_result"
        },
        {
          "data": {
            "image/png": "[encoded data removed]",
            "text/plain": [
              "<Figure size 864x864 with 2 Axes>"
            ]
          },
          "metadata": {},
          "output_type": "display_data"
        }
      ],
      "source": [
        "print(\"Training Accuracy = \", np.around(model.score(X_train,   y_train)*100,3))\n",
        "print(\"Testing Accuracy = \", np.around(model.score(X_test, y_test)*100, 3))\n",
        "\n",
        "from sklearn import metrics\n",
        "pred_y_test = model.predict(X_test)\n",
        "\n",
        "cm = metrics.confusion_matrix(y_true=y_test, y_pred = pred_y_test, labels = model.classes_)\n",
        "\n",
        "import seaborn as sns\n",
        "plt.figure(figsize=(12,12))\n",
        "\n",
        "sns.heatmap(cm, annot=True, linewidths=.5, square = True, cmap = 'Blues_r', fmt='0.4g');\n",
        "\n",
        "plt.ylabel('Actual label')\n",
        "plt.xlabel('Predicted label')"
      ]
    },
    {
      "cell_type": "code",
      "execution_count": null,
      "metadata": {
        "colab": {
          "base_uri": "https://localhost:8080/"
        },
        "id": "2neyGqQFS4oZ",
        "outputId": "2b29a15b-42fd-4707-ebf9-aef99df420fd"
      },
      "outputs": [
        {
          "name": "stdout",
          "output_type": "stream",
          "text": [
            "Ten Indexes are :  [4, 5, 18, 61, 78, 82, 129, 134, 141, 161]\n"
          ]
        }
      ],
      "source": [
        "index = 0\n",
        "misclassified_images = []\n",
        "for label, predict in zip(y_test, pred_y_test):\n",
        "    if label != predict: \n",
        "        misclassified_images.append(index)\n",
        "    index +=1\n",
        "    \n",
        "    if len(misclassified_images) == 10:\n",
        "        break\n",
        "print(\"Ten Indexes are : \",misclassified_images)"
      ]
    },
    {
      "cell_type": "code",
      "execution_count": null,
      "metadata": {
        "colab": {
          "base_uri": "https://localhost:8080/",
          "height": 355
        },
        "id": "Rqn70BdGTDPo",
        "outputId": "fae03e3e-56e2-45e0-fe97-247c1ea88b05"
      },
      "outputs": [
        {
          "data": {
            "image/png": "[encoded data removed]",
            "text/plain": [
              "<Figure size 720x720 with 10 Axes>"
            ]
          },
          "metadata": {},
          "output_type": "display_data"
        }
      ],
      "source": [
        "plt.figure(figsize=(10,10))\n",
        "plt.suptitle('Misclassifications');\n",
        "for plot_index, bad_index in enumerate(misclassified_images):\n",
        "  p = plt.subplot(4,5, plot_index+1) \n",
        "    \n",
        "  p.imshow(X_test[bad_index].reshape(28,28), cmap=plt.cm.gray,\n",
        "            interpolation='bilinear')\n",
        "  p.set_xticks(()); p.set_yticks(()) \n",
        "    \n",
        "  p.set_title(f'Pred: {pred_y_test[bad_index]}, Actual: {y_test[bad_index]}');"
      ]
    },
    {
      "cell_type": "code",
      "execution_count": null,
      "metadata": {
        "colab": {
          "base_uri": "https://localhost:8080/"
        },
        "id": "IwUfmwVrboQ2",
        "outputId": "7eac588a-d95d-480d-b71b-4d16ebf928c8"
      },
      "outputs": [
        {
          "name": "stdout",
          "output_type": "stream",
          "text": [
            "Ten Indexes are :  [0, 1, 2, 3, 6, 7, 8, 9, 10, 11]\n"
          ]
        }
      ],
      "source": [
        "index = 0\n",
        "successfull_images = []\n",
        "for label, predict in zip(y_test, pred_y_test):\n",
        "    if label == predict: \n",
        "        successfull_images.append(index)\n",
        "    index +=1\n",
        "    \n",
        "    if len(successfull_images) == 10:\n",
        "        break\n",
        "print(\"Ten Indexes are : \",successfull_images)"
      ]
    },
    {
      "cell_type": "code",
      "execution_count": null,
      "metadata": {
        "colab": {
          "base_uri": "https://localhost:8080/",
          "height": 355
        },
        "id": "wu_4J-V5b6SE",
        "outputId": "6a0ed3dd-f458-432e-aae6-947f27488ab4"
      },
      "outputs": [
        {
          "data": {
            "image/png": "[encoded data removed]",
            "text/plain": [
              "<Figure size 720x720 with 10 Axes>"
            ]
          },
          "metadata": {},
          "output_type": "display_data"
        }
      ],
      "source": [
        "plt.figure(figsize=(10,10))\n",
        "plt.suptitle('Successful');\n",
        "for plot_index, good_index in enumerate(successfull_images):\n",
        "  p = plt.subplot(4,5, plot_index+1) \n",
        "    \n",
        "  p.imshow(X_test[good_index].reshape(28,28), cmap=plt.cm.gray,\n",
        "            interpolation='bilinear')\n",
        "  p.set_xticks(()); p.set_yticks(()) \n",
        "    \n",
        "  p.set_title(f'Pred: {pred_y_test[good_index]}, Actual: {y_test[good_index]}');"
      ]
    },
    {
      "cell_type": "markdown",
      "metadata": {
        "id": "YA_LYymprnSf"
      },
      "source": [
        "### **SVM**"
      ]
    },
    {
      "cell_type": "markdown",
      "metadata": {
        "id": "a-mNiIwb31na"
      },
      "source": [
        "Linear model:"
      ]
    },
    {
      "cell_type": "code",
      "execution_count": null,
      "metadata": {
        "id": "7fzJKm84kPh1"
      },
      "outputs": [],
      "source": [
        "from sklearn import metrics\n",
        "from sklearn.metrics import confusion_matrix\n",
        "from sklearn.svm import SVC"
      ]
    },
    {
      "cell_type": "code",
      "execution_count": null,
      "metadata": {
        "id": "eqW7pW__3oV-"
      },
      "outputs": [],
      "source": [
        "# linear model\n",
        "\n",
        "# model_linear = SVC(kernel='linear')\n",
        "# model_linear.fit(X_train, y_train)\n",
        "\n",
        "# predict\n",
        "# y_pred = model_linear.predict(X_test)"
      ]
    },
    {
      "cell_type": "code",
      "execution_count": null,
      "metadata": {
        "id": "TOvJPBv_3pXk"
      },
      "outputs": [],
      "source": [
        "# confusion matrix and accuracy, precision, recall\n",
        "\n",
        "# accuracy\n",
        "# print(\"accuracy:\", metrics.accuracy_score(y_true=y_test, y_pred=y_pred), \"\\n\")\n",
        "\n",
        "# cm\n",
        "# print(metrics.confusion_matrix(y_true=y_test, y_pred=y_pred))"
      ]
    },
    {
      "cell_type": "code",
      "execution_count": null,
      "metadata": {
        "id": "SaEoHug03t2j"
      },
      "outputs": [],
      "source": [
        "#precision, recall and f1-score\n",
        "# scores=metrics.classification_report(y_test, y_pred, labels=[0, 1, 2, 3, 4, 5, 6, 7, 8, 9])\n",
        "# print(scores)"
      ]
    },
    {
      "cell_type": "markdown",
      "metadata": {
        "id": "hToaAtsZ4Rz5"
      },
      "source": [
        "Let's look at a non-linear model with randomly chosen hyperparameters."
      ]
    },
    {
      "cell_type": "markdown",
      "metadata": {
        "id": "9iA47yS0332q"
      },
      "source": [
        "Non- linear model:\n",
        "\n",
        "Poly kernel"
      ]
    },
    {
      "cell_type": "code",
      "execution_count": null,
      "metadata": {
        "id": "9XZTQHvL1HCU"
      },
      "outputs": [],
      "source": [
        "# non-linear model\n",
        "# using poly kernel, C=1(default), default value of gamma i.e. scale\n",
        "\n",
        "# model\n",
        "\n",
        "non_linear_model_poly = SVC(kernel='poly')\n",
        "\n",
        "# fit\n",
        "non_linear_model_poly.fit(X_train, y_train)\n",
        "\n",
        "# predict\n",
        "y_pred = non_linear_model_poly.predict(X_test)"
      ]
    },
    {
      "cell_type": "code",
      "execution_count": null,
      "metadata": {
        "colab": {
          "base_uri": "https://localhost:8080/"
        },
        "id": "QyIQJwtN3ZZE",
        "outputId": "123a0cf3-6da3-428e-f501-c8842f349386"
      },
      "outputs": [
        {
          "name": "stdout",
          "output_type": "stream",
          "text": [
            "accuracy: 0.975 \n",
            "\n",
            "[[ 982    0    4    1    0    4    4    1    0    0]\n",
            " [   0 1133    3    0    1    0    1    2    1    0]\n",
            " [   5    2 1016    1    3    0    3    6    3    1]\n",
            " [   1    1   10  972    0    7    0    8   11    3]\n",
            " [   1    2    3    0  943    1    0    3    2    7]\n",
            " [   0    1    2    6    0  841    8    1    2    2]\n",
            " [   4    0    0    0    3    5  975    0    2    0]\n",
            " [   1    7    8    0    7    0    0 1030    0   11]\n",
            " [   0    6    6    6    2    4    3    0  929    7]\n",
            " [   3    1    1    3   13    7    1    9    2  929]]\n"
          ]
        }
      ],
      "source": [
        "# confusion matrix and accuracy, precision, recall\n",
        "\n",
        "# accuracy\n",
        "print(\"accuracy:\", metrics.accuracy_score(y_true=y_test, y_pred=y_pred), \"\\n\")\n",
        "\n",
        "# cm \n",
        "print(metrics.confusion_matrix(y_true=y_test, y_pred=y_pred))\n",
        "# y_true: Ground truth (correct) target values. \n",
        "# y_pred: Estimated targets as returned by a classifier."
      ]
    },
    {
      "cell_type": "code",
      "execution_count": null,
      "metadata": {
        "colab": {
          "base_uri": "https://localhost:8080/"
        },
        "id": "tJuGIRIY3dlp",
        "outputId": "bfb25068-d1b6-4600-922d-18cf03224d76"
      },
      "outputs": [
        {
          "name": "stdout",
          "output_type": "stream",
          "text": [
            "              precision    recall  f1-score   support\n",
            "\n",
            "           0       0.98      0.99      0.99       996\n",
            "           1       0.98      0.99      0.99      1141\n",
            "           2       0.96      0.98      0.97      1040\n",
            "           3       0.98      0.96      0.97      1013\n",
            "           4       0.97      0.98      0.98       962\n",
            "           5       0.97      0.97      0.97       863\n",
            "           6       0.98      0.99      0.98       989\n",
            "           7       0.97      0.97      0.97      1064\n",
            "           8       0.98      0.96      0.97       963\n",
            "           9       0.97      0.96      0.96       969\n",
            "\n",
            "    accuracy                           0.97     10000\n",
            "   macro avg       0.97      0.97      0.97     10000\n",
            "weighted avg       0.98      0.97      0.97     10000\n",
            "\n"
          ]
        }
      ],
      "source": [
        "#precision, recall and f1-score\n",
        "scores=metrics.classification_report(y_test, y_pred, labels=[0, 1, 2, 3, 4, 5, 6, 7, 8, 9])\n",
        "print(scores)"
      ]
    },
    {
      "cell_type": "markdown",
      "metadata": {
        "id": "CS_xiy904DlJ"
      },
      "source": [
        "As we clearly see that the non-linear rbf model gives approx. 97.5% accuracy. And most of the precision is above 95%."
      ]
    },
    {
      "cell_type": "markdown",
      "metadata": {
        "id": "XBK_Xvu97_mg"
      },
      "source": [
        "### **KNN**"
      ]
    },
    {
      "cell_type": "code",
      "execution_count": null,
      "metadata": {
        "id": "GNpq4JGaiiZf"
      },
      "outputs": [],
      "source": [
        "from sklearn.neighbors import KNeighborsClassifier\n",
        "from sklearn.metrics import confusion_matrix, accuracy_score\n",
        "#Create KNeighborsClassifier Object"
      ]
    },
    {
      "cell_type": "code",
      "execution_count": null,
      "metadata": {
        "id": "V4CSk7XPkAY3",
        "colab": {
          "base_uri": "https://localhost:8080/"
        },
        "outputId": "df628fa8-92a8-4f6a-cda9-808c4c2f80a8"
      },
      "outputs": [
        {
          "output_type": "stream",
          "name": "stdout",
          "text": [
            "Begin KNN with k= 1\n",
            "Accuracy:  0.9716\n",
            "---------------\n",
            "\n",
            "Begin KNN with k= 2\n",
            "Accuracy:  0.9679\n",
            "---------------\n",
            "\n",
            "Begin KNN with k= 3\n",
            "Accuracy:  0.9741\n",
            "---------------\n",
            "\n",
            "Begin KNN with k= 4\n",
            "Accuracy:  0.9718\n",
            "---------------\n",
            "\n",
            "Begin KNN with k= 5\n",
            "Accuracy:  0.9727\n",
            "---------------\n",
            "\n",
            "Begin KNN with k= 6\n",
            "Accuracy:  0.9719\n",
            "---------------\n",
            "\n",
            "Begin KNN with k= 7\n",
            "Accuracy:  0.9725\n",
            "---------------\n",
            "\n",
            "Begin KNN with k= 8\n",
            "Accuracy:  0.9718\n",
            "---------------\n",
            "\n"
          ]
        }
      ],
      "source": [
        "score = []\n",
        "for k in range(1, 9):\n",
        "  print('Begin KNN with k=',k)\n",
        "  classifier = KNeighborsClassifier(n_neighbors=k)\n",
        "  classifier = classifier.fit(X_train.reshape(X_train.shape[0], 28*28), y_train)\n",
        "  pred = classifier.predict(X_test.reshape(X_test.shape[0], 28*28))\n",
        "  accuracy = accuracy_score(y_test, pred)\n",
        "  score.append(accuracy)\n",
        "  print(\"Accuracy: \",accuracy)\n",
        "  #print(\"Confusion Matrix:\\n\", confusion_matrix(y_test, pred))\n",
        "  print(\"---------------\\n\")"
      ]
    },
    {
      "cell_type": "markdown",
      "metadata": {
        "id": "niaC7mj-w1aY"
      },
      "source": [
        "Values of K, and performance\n",
        "\n",
        "K = 1, accuracy = 97.16\n",
        "\n",
        "k = 2, accuracy = 96.79\n",
        "\n",
        "k = 3, accuracy = 97.41\n",
        "\n",
        "k = 4, accuracy = 97.18\n",
        "\n",
        "k = 5, accuracy = 97.27\n",
        "\n",
        "k = 6, accuracy = 97.19\n",
        "\n",
        "k = 7, accuracy = 97.25\n",
        "\n",
        "k = 8, accuracy = 97.18"
      ]
    },
    {
      "cell_type": "code",
      "execution_count": null,
      "metadata": {
        "colab": {
          "base_uri": "https://localhost:8080/",
          "height": 295
        },
        "id": "qH4yuFPClW6J",
        "outputId": "39998c0e-5727-4c18-9100-35cc1599cbdf"
      },
      "outputs": [
        {
          "data": {
            "image/png": "[encoded data removed]",
            "text/plain": [
              "<Figure size 432x288 with 1 Axes>"
            ]
          },
          "metadata": {},
          "output_type": "display_data"
        }
      ],
      "source": [
        "plt.plot(range(1,9), score)\n",
        "plt.title('Determining the Optimal Number of Neighbors')\n",
        "plt.xlabel('K - Number of Neighbors')\n",
        "plt.ylabel('Accuracy')\n",
        "plt.show()"
      ]
    },
    {
      "cell_type": "code",
      "execution_count": null,
      "metadata": {
        "id": "WmxKCA49liLw"
      },
      "outputs": [],
      "source": [
        "classifier = KNeighborsClassifier(n_neighbors=3)\n",
        "classifier = classifier.fit(X.reshape(X.shape[0], 28*28), y)"
      ]
    },
    {
      "cell_type": "markdown",
      "metadata": {
        "id": "7gnAnFGTl4Y5"
      },
      "source": [
        "Testing the KNN Model"
      ]
    },
    {
      "cell_type": "code",
      "execution_count": null,
      "metadata": {
        "id": "g5p63Df3lzCx"
      },
      "outputs": [],
      "source": [
        "\n",
        "y_pred = classifier.predict(X_test.reshape(X_test.shape[0], 28*28))"
      ]
    },
    {
      "cell_type": "code",
      "execution_count": null,
      "metadata": {
        "colab": {
          "base_uri": "https://localhost:8080/"
        },
        "id": "XnyTvraUl-SB",
        "outputId": "2554eb90-8783-4b59-c6c5-0bffb011fc12"
      },
      "outputs": [
        {
          "name": "stdout",
          "output_type": "stream",
          "text": [
            "[[ 995    0    0    0    0    0    1    0    0    0]\n",
            " [   0 1139    2    0    0    0    0    0    0    0]\n",
            " [   3    2 1025    0    1    0    0    6    2    1]\n",
            " [   0    1    6  995    0    4    0    5    2    0]\n",
            " [   0    2    0    0  953    0    0    2    0    5]\n",
            " [   1    0    2    2    0  849    8    0    0    1]\n",
            " [   2    1    0    0    2    2  982    0    0    0]\n",
            " [   0    4    2    0    1    0    0 1053    0    4]\n",
            " [   0    9    2    7    2    3    0    0  935    5]\n",
            " [   1    1    0    3    3    0    1    6    1  953]]\n",
            "0.9879\n"
          ]
        }
      ],
      "source": [
        "print(confusion_matrix(y_test, y_pred))\n",
        "print(accuracy_score(y_test, y_pred))"
      ]
    },
    {
      "cell_type": "code",
      "execution_count": null,
      "metadata": {
        "colab": {
          "base_uri": "https://localhost:8080/"
        },
        "id": "9PwKRaTImFyB",
        "outputId": "d571deba-1a10-4399-9566-5c7763c5e444"
      },
      "outputs": [
        {
          "name": "stdout",
          "output_type": "stream",
          "text": [
            "              precision    recall  f1-score   support\n",
            "\n",
            "           0       1.00      0.99      1.00      1002\n",
            "           1       1.00      0.98      0.99      1159\n",
            "           2       0.99      0.99      0.99      1039\n",
            "           3       0.98      0.99      0.99      1007\n",
            "           4       0.99      0.99      0.99       962\n",
            "           5       0.98      0.99      0.99       858\n",
            "           6       0.99      0.99      0.99       992\n",
            "           7       0.99      0.98      0.99      1072\n",
            "           8       0.97      0.99      0.98       940\n",
            "           9       0.98      0.98      0.98       969\n",
            "\n",
            "    accuracy                           0.99     10000\n",
            "   macro avg       0.99      0.99      0.99     10000\n",
            "weighted avg       0.99      0.99      0.99     10000\n",
            "\n"
          ]
        }
      ],
      "source": [
        "from sklearn.metrics import classification_report\n",
        "print(classification_report(y_pred, y_test))"
      ]
    },
    {
      "cell_type": "markdown",
      "metadata": {
        "id": "eNtY9ohDmacr"
      },
      "source": [
        "KNN Model with 3 neighbors performed really well with 98.79 % accuracy."
      ]
    },
    {
      "cell_type": "markdown",
      "metadata": {
        "id": "es24bFwuoRta"
      },
      "source": [
        "Logistic Regression Testing Accuracy: 91.93%\n",
        "\n",
        "SVM(Poly Kernel) Testing Accuracy: 97.5%\n",
        "\n",
        "KNN Testing Accuracy: 98.79%\n",
        "\n",
        "Hence we decided to go further with KNN model with highest accuracy of 98.79% ."
      ]
    },
    {
      "cell_type": "markdown",
      "source": [
        "### Deploying our model"
      ],
      "metadata": {
        "id": "n4rtY_jQZuIw"
      }
    },
    {
      "cell_type": "code",
      "execution_count": null,
      "metadata": {
        "id": "_xe3aFzVtj4n"
      },
      "outputs": [],
      "source": [
        "import pickle \n",
        "model = KNeighborsClassifier(n_neighbors=3)\n",
        "model = model.fit(X.reshape(X.shape[0], 28*28), y)\n",
        "\n",
        "# save the model to disk\n",
        "filename = 'finalized_model.sav'\n",
        "pickle.dump(model, open(filename, 'wb'))\n"
      ]
    },
    {
      "cell_type": "code",
      "execution_count": null,
      "metadata": {
        "colab": {
          "base_uri": "https://localhost:8080/"
        },
        "id": "ulDarav34jP0",
        "outputId": "86dc18ec-dc55-405f-f910-041f45744229"
      },
      "outputs": [
        {
          "name": "stdout",
          "output_type": "stream",
          "text": [
            "Mounted at /content/drive\n"
          ]
        }
      ],
      "source": [
        "from google.colab import drive\n",
        "drive.mount(\"/content/drive\")"
      ]
    },
    {
      "cell_type": "code",
      "execution_count": null,
      "metadata": {
        "colab": {
          "base_uri": "https://localhost:8080/"
        },
        "id": "eNSqxrtr6--d",
        "outputId": "7dad59f2-c39f-487d-f83e-64531919e535"
      },
      "outputs": [
        {
          "data": {
            "text/plain": [
              "['knn_model.gzip']"
            ]
          },
          "execution_count": 9,
          "metadata": {},
          "output_type": "execute_result"
        }
      ],
      "source": [
        "import joblib\n",
        "joblib.dump(classifier, 'knn_model.gzip', compress=('gzip',3))"
      ]
    },
    {
      "cell_type": "code",
      "source": [
        "import joblib\n",
        "joblib.dump(non_linear_model_poly,'svc_mnist_60k.gz',compress=('gzip',3))\n"
      ],
      "metadata": {
        "colab": {
          "base_uri": "https://localhost:8080/"
        },
        "id": "JHJBT_I6Zy_o",
        "outputId": "dc2a2eb6-eee9-4633-9bda-37cb75d86c5a"
      },
      "execution_count": null,
      "outputs": [
        {
          "output_type": "execute_result",
          "data": {
            "text/plain": [
              "['svc_mnist_60k.gz']"
            ]
          },
          "metadata": {},
          "execution_count": 9
        }
      ]
    },
    {
      "cell_type": "markdown",
      "source": [
        "# **PCA**"
      ],
      "metadata": {
        "id": "j5J3mDn71KWH"
      }
    },
    {
      "cell_type": "code",
      "source": [
        "\n",
        "import numpy as np\n",
        "import pandas as pd\n",
        "import matplotlib.pyplot as plt"
      ],
      "metadata": {
        "id": "H16IkhF61d83"
      },
      "execution_count": null,
      "outputs": []
    },
    {
      "cell_type": "code",
      "source": [
        "# save the labels into a variable l.\n",
        "l = d0['label']\n",
        "\n",
        "# Drop the label feature and store the pixel data in d.\n",
        "d = d0.drop(\"label\",axis=1)"
      ],
      "metadata": {
        "id": "lClapMCQ2S1T"
      },
      "execution_count": null,
      "outputs": []
    },
    {
      "cell_type": "code",
      "source": [
        "\n",
        "labels = l.head(15000)\n",
        "data = d.head(15000)\n",
        "\n",
        "print(\"the shape of sample data = \", data.shape)"
      ],
      "metadata": {
        "colab": {
          "base_uri": "https://localhost:8080/"
        },
        "id": "QA4LetlN1rbI",
        "outputId": "d204db41-3638-42cc-f43f-7be8dcf6ec07"
      },
      "execution_count": null,
      "outputs": [
        {
          "output_type": "stream",
          "name": "stdout",
          "text": [
            "the shape of sample data =  (15000, 784)\n"
          ]
        }
      ]
    },
    {
      "cell_type": "code",
      "source": [
        "\n",
        "from sklearn.preprocessing import StandardScaler\n",
        "standardized_data = StandardScaler().fit_transform(data)\n",
        "print(standardized_data.shape)"
      ],
      "metadata": {
        "colab": {
          "base_uri": "https://localhost:8080/"
        },
        "id": "jkgvcfoP1vH0",
        "outputId": "a719c944-a7ae-4740-e97c-055d32f3ff9b"
      },
      "execution_count": null,
      "outputs": [
        {
          "output_type": "stream",
          "name": "stdout",
          "text": [
            "(15000, 784)\n"
          ]
        }
      ]
    },
    {
      "cell_type": "code",
      "source": [
        "#find the co-variance matrix which is : A^T * A\n",
        "sample_data = standardized_data\n",
        "\n",
        "# matrix multiplication using numpy\n",
        "covar_matrix = np.matmul(sample_data.T , sample_data)\n",
        "\n",
        "print ( \"The shape of variance matrix = \", covar_matrix.shape)"
      ],
      "metadata": {
        "colab": {
          "base_uri": "https://localhost:8080/"
        },
        "id": "ay_GoUfT2Chg",
        "outputId": "69d325ed-4beb-459a-fb10-79c96da6fcb6"
      },
      "execution_count": null,
      "outputs": [
        {
          "output_type": "stream",
          "name": "stdout",
          "text": [
            "The shape of variance matrix =  (784, 784)\n"
          ]
        }
      ]
    },
    {
      "cell_type": "code",
      "source": [
        "xx = np.random.random((5,5))\n",
        "yy = np.zeros((5,5) ) \n",
        "np.isnan(xx).any()\n",
        "np.isnan(yy).any()\n",
        "\n",
        "np.isinf(xx).any()\n",
        "np.isinf(yy).any()"
      ],
      "metadata": {
        "colab": {
          "base_uri": "https://localhost:8080/"
        },
        "id": "9I5XMBl62zTx",
        "outputId": "52c30181-cfaf-4e3c-deba-b3f4725a3f03"
      },
      "execution_count": null,
      "outputs": [
        {
          "output_type": "execute_result",
          "data": {
            "text/plain": [
              "False"
            ]
          },
          "metadata": {},
          "execution_count": 17
        }
      ]
    },
    {
      "cell_type": "code",
      "source": [
        "xx = np.nan_to_num(xx)\n",
        "yy = np.nan_to_num(yy)"
      ],
      "metadata": {
        "id": "A1YAw8t33G_b"
      },
      "execution_count": null,
      "outputs": []
    },
    {
      "cell_type": "code",
      "source": [
        "\n",
        "\n",
        "from scipy.linalg import eigh \n",
        "\n",
        "values, vectors = eigh(covar_matrix, eigvals=(782,783))\n",
        "\n",
        "print(\"Shape of eigen vectors = \",vectors.shape)\n",
        "\n",
        "vectors = vectors.T\n",
        "\n",
        "print(\"Updated shape of eigen vectors = \",vectors.shape)\n"
      ],
      "metadata": {
        "colab": {
          "base_uri": "https://localhost:8080/"
        },
        "id": "IFXrAD5v2GLA",
        "outputId": "5d8be534-769a-4c6e-bdc9-5ed343b968b4"
      },
      "execution_count": null,
      "outputs": [
        {
          "output_type": "stream",
          "name": "stdout",
          "text": [
            "Shape of eigen vectors =  (784, 2)\n",
            "Updated shape of eigen vectors =  (2, 784)\n"
          ]
        }
      ]
    },
    {
      "cell_type": "code",
      "source": [
        "final_df = np.matmul(vectors, standardized_data.T)\n",
        "print(\"vectros:\", vectors.shape, \"n\", \"std_data:\", standardized_data.T.shape, \"n\", \"final_data:\", final_df.shape)"
      ],
      "metadata": {
        "id": "VOiU3BgK2KiI",
        "colab": {
          "base_uri": "https://localhost:8080/"
        },
        "outputId": "8d9bab79-1b30-44da-ba72-b63c8951cab3"
      },
      "execution_count": null,
      "outputs": [
        {
          "output_type": "stream",
          "name": "stdout",
          "text": [
            "vectros: (2, 784) n std_data: (784, 15000) n final_data: (2, 15000)\n"
          ]
        }
      ]
    },
    {
      "cell_type": "code",
      "source": [
        "final_dfT = np.vstack((final_df, labels)).T\n",
        "dataFrame = pd.DataFrame(final_dfT, columns = ['pca_1', 'pca_2', 'label'])\n",
        "dataFrame"
      ],
      "metadata": {
        "id": "ih-RJqcusvMo",
        "colab": {
          "base_uri": "https://localhost:8080/",
          "height": 424
        },
        "outputId": "9f4c912d-9f6b-4f78-b40a-6260c046ffda"
      },
      "execution_count": null,
      "outputs": [
        {
          "output_type": "execute_result",
          "data": {
            "text/plain": [
              "          pca_1      pca_2  label\n",
              "0     -5.558661  -5.043558    1.0\n",
              "1      6.193635  19.305278    0.0\n",
              "2     -1.909878  -7.678775    1.0\n",
              "3      5.525748  -0.464845    4.0\n",
              "4      6.366527  26.644289    0.0\n",
              "...         ...        ...    ...\n",
              "14995  3.139416  -4.758956    1.0\n",
              "14996  1.946714  -1.314215    4.0\n",
              "14997 -2.147937  -1.507269    8.0\n",
              "14998  3.204122  -6.537313    9.0\n",
              "14999 -6.878969  -1.256254    6.0\n",
              "\n",
              "[15000 rows x 3 columns]"
            ],
            "text/html": [
              "\n",
              "  <div id=\"df-bd97b1c4-60b8-4e18-8585-0637ab1a309d\">\n",
              "    <div class=\"colab-df-container\">\n",
              "      <div>\n",
              "<style scoped>\n",
              "    .dataframe tbody tr th:only-of-type {\n",
              "        vertical-align: middle;\n",
              "    }\n",
              "\n",
              "    .dataframe tbody tr th {\n",
              "        vertical-align: top;\n",
              "    }\n",
              "\n",
              "    .dataframe thead th {\n",
              "        text-align: right;\n",
              "    }\n",
              "</style>\n",
              "<table border=\"1\" class=\"dataframe\">\n",
              "  <thead>\n",
              "    <tr style=\"text-align: right;\">\n",
              "      <th></th>\n",
              "      <th>pca_1</th>\n",
              "      <th>pca_2</th>\n",
              "      <th>label</th>\n",
              "    </tr>\n",
              "  </thead>\n",
              "  <tbody>\n",
              "    <tr>\n",
              "      <th>0</th>\n",
              "      <td>-5.558661</td>\n",
              "      <td>-5.043558</td>\n",
              "      <td>1.0</td>\n",
              "    </tr>\n",
              "    <tr>\n",
              "      <th>1</th>\n",
              "      <td>6.193635</td>\n",
              "      <td>19.305278</td>\n",
              "      <td>0.0</td>\n",
              "    </tr>\n",
              "    <tr>\n",
              "      <th>2</th>\n",
              "      <td>-1.909878</td>\n",
              "      <td>-7.678775</td>\n",
              "      <td>1.0</td>\n",
              "    </tr>\n",
              "    <tr>\n",
              "      <th>3</th>\n",
              "      <td>5.525748</td>\n",
              "      <td>-0.464845</td>\n",
              "      <td>4.0</td>\n",
              "    </tr>\n",
              "    <tr>\n",
              "      <th>4</th>\n",
              "      <td>6.366527</td>\n",
              "      <td>26.644289</td>\n",
              "      <td>0.0</td>\n",
              "    </tr>\n",
              "    <tr>\n",
              "      <th>...</th>\n",
              "      <td>...</td>\n",
              "      <td>...</td>\n",
              "      <td>...</td>\n",
              "    </tr>\n",
              "    <tr>\n",
              "      <th>14995</th>\n",
              "      <td>3.139416</td>\n",
              "      <td>-4.758956</td>\n",
              "      <td>1.0</td>\n",
              "    </tr>\n",
              "    <tr>\n",
              "      <th>14996</th>\n",
              "      <td>1.946714</td>\n",
              "      <td>-1.314215</td>\n",
              "      <td>4.0</td>\n",
              "    </tr>\n",
              "    <tr>\n",
              "      <th>14997</th>\n",
              "      <td>-2.147937</td>\n",
              "      <td>-1.507269</td>\n",
              "      <td>8.0</td>\n",
              "    </tr>\n",
              "    <tr>\n",
              "      <th>14998</th>\n",
              "      <td>3.204122</td>\n",
              "      <td>-6.537313</td>\n",
              "      <td>9.0</td>\n",
              "    </tr>\n",
              "    <tr>\n",
              "      <th>14999</th>\n",
              "      <td>-6.878969</td>\n",
              "      <td>-1.256254</td>\n",
              "      <td>6.0</td>\n",
              "    </tr>\n",
              "  </tbody>\n",
              "</table>\n",
              "<p>15000 rows × 3 columns</p>\n",
              "</div>\n",
              "      <button class=\"colab-df-convert\" onclick=\"convertToInteractive('df-bd97b1c4-60b8-4e18-8585-0637ab1a309d')\"\n",
              "              title=\"Convert this dataframe to an interactive table.\"\n",
              "              style=\"display:none;\">\n",
              "        \n",
              "  <svg xmlns=\"http://www.w3.org/2000/svg\" height=\"24px\"viewBox=\"0 0 24 24\"\n",
              "       width=\"24px\">\n",
              "    <path d=\"M0 0h24v24H0V0z\" fill=\"none\"/>\n",
              "    <path d=\"M18.56 5.44l.94 2.06.94-2.06 2.06-.94-2.06-.94-.94-2.06-.94 2.06-2.06.94zm-11 1L8.5 8.5l.94-2.06 2.06-.94-2.06-.94L8.5 2.5l-.94 2.06-2.06.94zm10 10l.94 2.06.94-2.06 2.06-.94-2.06-.94-.94-2.06-.94 2.06-2.06.94z\"/><path d=\"M17.41 7.96l-1.37-1.37c-.4-.4-.92-.59-1.43-.59-.52 0-1.04.2-1.43.59L10.3 9.45l-7.72 7.72c-.78.78-.78 2.05 0 2.83L4 21.41c.39.39.9.59 1.41.59.51 0 1.02-.2 1.41-.59l7.78-7.78 2.81-2.81c.8-.78.8-2.07 0-2.86zM5.41 20L4 18.59l7.72-7.72 1.47 1.35L5.41 20z\"/>\n",
              "  </svg>\n",
              "      </button>\n",
              "      \n",
              "  <style>\n",
              "    .colab-df-container {\n",
              "      display:flex;\n",
              "      flex-wrap:wrap;\n",
              "      gap: 12px;\n",
              "    }\n",
              "\n",
              "    .colab-df-convert {\n",
              "      background-color: #E8F0FE;\n",
              "      border: none;\n",
              "      border-radius: 50%;\n",
              "      cursor: pointer;\n",
              "      display: none;\n",
              "      fill: #1967D2;\n",
              "      height: 32px;\n",
              "      padding: 0 0 0 0;\n",
              "      width: 32px;\n",
              "    }\n",
              "\n",
              "    .colab-df-convert:hover {\n",
              "      background-color: #E2EBFA;\n",
              "      box-shadow: 0px 1px 2px rgba(60, 64, 67, 0.3), 0px 1px 3px 1px rgba(60, 64, 67, 0.15);\n",
              "      fill: #174EA6;\n",
              "    }\n",
              "\n",
              "    [theme=dark] .colab-df-convert {\n",
              "      background-color: #3B4455;\n",
              "      fill: #D2E3FC;\n",
              "    }\n",
              "\n",
              "    [theme=dark] .colab-df-convert:hover {\n",
              "      background-color: #434B5C;\n",
              "      box-shadow: 0px 1px 3px 1px rgba(0, 0, 0, 0.15);\n",
              "      filter: drop-shadow(0px 1px 2px rgba(0, 0, 0, 0.3));\n",
              "      fill: #FFFFFF;\n",
              "    }\n",
              "  </style>\n",
              "\n",
              "      <script>\n",
              "        const buttonEl =\n",
              "          document.querySelector('#df-bd97b1c4-60b8-4e18-8585-0637ab1a309d button.colab-df-convert');\n",
              "        buttonEl.style.display =\n",
              "          google.colab.kernel.accessAllowed ? 'block' : 'none';\n",
              "\n",
              "        async function convertToInteractive(key) {\n",
              "          const element = document.querySelector('#df-bd97b1c4-60b8-4e18-8585-0637ab1a309d');\n",
              "          const dataTable =\n",
              "            await google.colab.kernel.invokeFunction('convertToInteractive',\n",
              "                                                     [key], {});\n",
              "          if (!dataTable) return;\n",
              "\n",
              "          const docLinkHtml = 'Like what you see? Visit the ' +\n",
              "            '<a target=\"_blank\" href=https://colab.research.google.com/notebooks/data_table.ipynb>data table notebook</a>'\n",
              "            + ' to learn more about interactive tables.';\n",
              "          element.innerHTML = '';\n",
              "          dataTable['output_type'] = 'display_data';\n",
              "          await google.colab.output.renderOutput(dataTable, element);\n",
              "          const docLink = document.createElement('div');\n",
              "          docLink.innerHTML = docLinkHtml;\n",
              "          element.appendChild(docLink);\n",
              "        }\n",
              "      </script>\n",
              "    </div>\n",
              "  </div>\n",
              "  "
            ]
          },
          "metadata": {},
          "execution_count": 25
        }
      ]
    },
    {
      "cell_type": "code",
      "source": [
        "# plotting the 2d data points with seaborn\n",
        "import seaborn as sn\n",
        "sn.FacetGrid(dataFrame, hue=\"label\", size=6).map(plt.scatter, 'pca_1', 'pca_2').add_legend()\n",
        "plt.show()"
      ],
      "metadata": {
        "colab": {
          "base_uri": "https://localhost:8080/",
          "height": 441
        },
        "id": "YLofHspgwxfe",
        "outputId": "8a7a5c21-3e37-40ae-bc9b-477982b21965"
      },
      "execution_count": null,
      "outputs": [
        {
          "output_type": "display_data",
          "data": {
            "text/plain": [
              "<Figure size 483.875x432 with 1 Axes>"
            ],
            "image/png": "[encoded data removed]"
          },
          "metadata": {
            "needs_background": "light"
          }
        }
      ]
    },
    {
      "cell_type": "code",
      "source": [
        "# initializing the pca\n",
        "from sklearn import decomposition\n",
        "pca = decomposition.PCA()\n",
        "# PCA for dimensionality redcution (non-visualization)\n",
        "pca.n_components = 784\n",
        "pca_data = pca.fit_transform(sample_data)\n",
        "percentage_var_explained = pca.explained_variance_ / np.sum(pca.explained_variance_);\n",
        "cum_var_explained = np.cumsum(percentage_var_explained)"
      ],
      "metadata": {
        "id": "zb6cwQ6hxmuO"
      },
      "execution_count": null,
      "outputs": []
    },
    {
      "cell_type": "code",
      "source": [
        "# Plot the PCA spectrum\n",
        "plt.figure(1, figsize=(6, 4))\n",
        "plt.clf()\n",
        "plt.plot(cum_var_explained, linewidth=2)\n",
        "plt.axis('tight')\n",
        "plt.grid()\n",
        "plt.xlabel('n_components')\n",
        "plt.ylabel('Cumulative_explained_variance')\n",
        "plt.show()"
      ],
      "metadata": {
        "colab": {
          "base_uri": "https://localhost:8080/",
          "height": 280
        },
        "id": "FwD-a5DnxsAO",
        "outputId": "53d00dbc-e269-4ffe-de0a-db93ab615caa"
      },
      "execution_count": null,
      "outputs": [
        {
          "output_type": "display_data",
          "data": {
            "text/plain": [
              "<Figure size 432x288 with 1 Axes>"
            ],
            "image/png": "[encoded data removed]"
          },
          "metadata": {
            "needs_background": "light"
          }
        }
      ]
    },
    {
      "cell_type": "code",
      "execution_count": null,
      "metadata": {
        "id": "yp-e4swUftZA"
      },
      "outputs": [],
      "source": [
        "from sklearn.decomposition import PCA"
      ]
    },
    {
      "cell_type": "code",
      "execution_count": null,
      "metadata": {
        "colab": {
          "base_uri": "https://localhost:8080/"
        },
        "id": "zlzneA9gfyF4",
        "outputId": "b745b963-6588-480a-f028-9a0cad5e62ad"
      },
      "outputs": [
        {
          "output_type": "execute_result",
          "data": {
            "text/plain": [
              "PCA(n_components=300)"
            ]
          },
          "metadata": {},
          "execution_count": 42
        }
      ],
      "source": [
        "pca = PCA(n_components=300)\n",
        "pca.fit(data)"
      ]
    },
    {
      "cell_type": "code",
      "source": [
        "pca_data = pca.fit_transform(sample_data)\n",
        "percentage_var_explained = pca.explained_variance_ / np.sum(pca.explained_variance_);\n",
        "cum_var_explained = np.cumsum(percentage_var_explained)"
      ],
      "metadata": {
        "id": "Y-XT6kpA5eOZ"
      },
      "execution_count": null,
      "outputs": []
    },
    {
      "cell_type": "code",
      "execution_count": null,
      "metadata": {
        "colab": {
          "base_uri": "https://localhost:8080/"
        },
        "id": "xZmE0UckgRL-",
        "outputId": "b25b7ddc-f18c-4938-8cbd-fbd14d9b1456"
      },
      "outputs": [
        {
          "output_type": "stream",
          "name": "stdout",
          "text": [
            "[0.09648548 0.07231498 0.06219077 0.05407148 0.04832618 0.04317862\n",
            " 0.03276246 0.02865079 0.02803773 0.02363055 0.0210048  0.0202608\n",
            " 0.01714108 0.01664665 0.01583748 0.01477356 0.01315676 0.0128388\n",
            " 0.01182777 0.01159738 0.01086109 0.01022287 0.00978944 0.0091712\n",
            " 0.00887753 0.00841499 0.00820143 0.00791867 0.00736434 0.00687146\n",
            " 0.00660424 0.00648298 0.00604782 0.00589239 0.00559276 0.00535605\n",
            " 0.00507735 0.00490294 0.0048463  0.00463976 0.00453312 0.00439989\n",
            " 0.00419801 0.00397384 0.00384614 0.00378137 0.00363981 0.00348958\n",
            " 0.00334912 0.00320569 0.00314324 0.00306614 0.00293107 0.00291322\n",
            " 0.00280866 0.00270657 0.0026464  0.00257018 0.00252809 0.00245609\n",
            " 0.00239879 0.00236127 0.0022609  0.00220862 0.00210699 0.00205932\n",
            " 0.00199956 0.00198487 0.0019325  0.0018933  0.0018769  0.00181795\n",
            " 0.00174824 0.00172669 0.00165128 0.00162618 0.00158567 0.00154023\n",
            " 0.00146769 0.00143307 0.00141435 0.00140855 0.00137953 0.00135972\n",
            " 0.00133165 0.00129426 0.00127915 0.00126493 0.00121347 0.00119819\n",
            " 0.00115076 0.00113471 0.00112021 0.00110588 0.00108121 0.00105121\n",
            " 0.00104845 0.00102776 0.00101013 0.00099597 0.00097208 0.00095096\n",
            " 0.00093648 0.00091365 0.00090248 0.00088469 0.00086704 0.00084745\n",
            " 0.00083251 0.00081782 0.00079999 0.00077933 0.00076683 0.00076028\n",
            " 0.00075293 0.00074271 0.00073034 0.00072874 0.00071214 0.00069671\n",
            " 0.00069061 0.00068312 0.00066738 0.00066294 0.00065118 0.0006452\n",
            " 0.00063538 0.00062548 0.00062227 0.00061637 0.00060289 0.00059401\n",
            " 0.00059051 0.00058149 0.0005753  0.00057089 0.00055819 0.00054909\n",
            " 0.00053143 0.00052511 0.00052076 0.00051447 0.0005048  0.00050124\n",
            " 0.00049316 0.0004889  0.00047865 0.00047798 0.0004747  0.00047192\n",
            " 0.00046984 0.00046188 0.00045468 0.00044881 0.00044518 0.00043892\n",
            " 0.00043354 0.00042325 0.00041952 0.00041543 0.00040843 0.0004068\n",
            " 0.00040373 0.00039457 0.00039094 0.00039    0.00038578 0.00038396\n",
            " 0.00037445 0.00037124 0.00036807 0.00036137 0.00035912 0.00035518\n",
            " 0.00035219 0.00034752 0.00034643 0.0003429  0.00034119 0.00033934\n",
            " 0.00033031 0.00032821 0.00032622 0.00032457 0.00032199 0.00031833\n",
            " 0.00031593 0.00031262 0.00030928 0.00030669 0.00030588 0.00030567\n",
            " 0.00029749 0.00029688 0.00029599 0.00029346 0.0002881  0.00028604\n",
            " 0.00028462 0.00028087 0.00027921 0.00027684 0.00027476 0.00027317\n",
            " 0.00027005 0.00026369 0.00026274 0.00026178 0.00025976 0.00025969\n",
            " 0.00025659 0.00025561 0.00025332 0.00025281 0.00025016 0.00024664\n",
            " 0.00024638 0.000244   0.00024325 0.00024145 0.00023781 0.0002363\n",
            " 0.00023502 0.00023311 0.00023082 0.00022922 0.00022641 0.00022325\n",
            " 0.00022261 0.00022137 0.00021978 0.00021654 0.00021557 0.00021446\n",
            " 0.00021317 0.00021089 0.00020986 0.00020843 0.00020683 0.00020457\n",
            " 0.00020264 0.00020132 0.00020044 0.0001969  0.0001967  0.0001958\n",
            " 0.00019502 0.00019149 0.00019043 0.00018846 0.0001875  0.00018648\n",
            " 0.00018528 0.00018507 0.00018204 0.00018074 0.00018018 0.00017798\n",
            " 0.00017659 0.00017442 0.0001739  0.00017215 0.00017169 0.00016965\n",
            " 0.00016886 0.00016805 0.00016639 0.00016439 0.00016311 0.00016281\n",
            " 0.00016111 0.00015964 0.00015909 0.00015768 0.00015641 0.00015542\n",
            " 0.00015383 0.00015351 0.00015211 0.00015044 0.00014983 0.00014805\n",
            " 0.0001468  0.00014551 0.00014427 0.00014261 0.0001416  0.00014053\n",
            " 0.00013989 0.00013868 0.00013757 0.00013551 0.00013495 0.00013389\n",
            " 0.0001331  0.00012981 0.00012944 0.00012752 0.00012694 0.00012469]\n"
          ]
        }
      ],
      "source": [
        "print(pca.explained_variance_ratio_)"
      ]
    },
    {
      "cell_type": "code",
      "execution_count": null,
      "metadata": {
        "colab": {
          "base_uri": "https://localhost:8080/"
        },
        "id": "pIVX8itYga3N",
        "outputId": "c844f3eb-3914-485c-c175-9693672e6c58"
      },
      "outputs": [
        {
          "output_type": "stream",
          "name": "stdout",
          "text": [
            "[70487.79532772 61023.4958244  56590.81257978 52767.56609441\n",
            " 49885.48238104 47153.86751333 41074.39926834 38410.61193437\n",
            " 37997.44379813 34883.48208956 32888.35893596 32300.64967749\n",
            " 29709.96183107 29278.33422816 28557.87731714 27581.98142135\n",
            " 26028.99340814 25712.55112072 24679.3900364  24437.8435499\n",
            " 23649.37215616 22944.0115006  22452.35342169 21731.81490198\n",
            " 21381.05542043 20816.59979808 20550.7475174  20193.37843095\n",
            " 19473.7560279  18810.81072958 18441.42201097 18271.33000148\n",
            " 17647.46190174 17419.21880349 16970.54839117 16607.53435234\n",
            " 16169.68943496 15889.534279   15797.49428865 15457.19344614\n",
            " 15278.52566155 15052.3347137  14702.95156132 14305.00758238\n",
            " 14073.27822547 13954.27873833 13690.59580916 13405.09098586\n",
            " 13132.53273027 12848.24251286 12722.47731533 12565.4689953\n",
            " 12285.60066567 12248.11499513 12026.32010778 11805.71867001\n",
            " 11673.76522886 11504.40863815 11409.83593962 11246.18889517\n",
            " 11114.21458167 11026.96153663 10790.04461729 10664.57988066\n",
            " 10416.32407266 10297.81343026 10147.30069032 10109.93932503\n",
            "  9975.67574701  9873.98887988  9831.13402526  9675.5205444\n",
            "  9488.18170033  9429.52222118  9221.33481348  9150.96824993\n",
            "  9036.27918627  8905.86925571  8693.62215526  8590.45798565\n",
            "  8534.1740069   8516.64370024  8428.45925765  8367.73433114\n",
            "  8280.89935303  8163.83514268  8116.02941514  8070.80426919\n",
            "  7904.92463791  7855.00707626  7697.9662054   7644.06833072\n",
            "  7595.08661721  7546.34631491  7461.69625035  7357.47036421\n",
            "  7347.7887439   7274.92164981  7212.279329    7161.51818148\n",
            "  7075.11492318  6997.84054272  6944.37337453  6859.20084221\n",
            "  6817.12654511  6749.61297479  6681.92977941  6606.0181437\n",
            "  6547.51608409  6489.52164751  6418.38431656  6334.95701421\n",
            "  6283.92912279  6257.07067357  6226.71309103  6184.33595034\n",
            "  6132.62718573  6125.90646078  6055.71227794  5989.74579655\n",
            "  5963.48445988  5931.0457351   5862.33078576  5842.79442238\n",
            "  5790.73262141  5764.08683825  5720.05149366  5675.32565669\n",
            "  5660.73312175  5633.83397735  5571.86767199  5530.69387016\n",
            "  5514.39765692  5472.12313849  5442.88981822  5421.97924975\n",
            "  5361.32814949  5317.46057753  5231.24198115  5200.08139016\n",
            "  5178.49299673  5147.09141238  5098.4951824   5080.47671305\n",
            "  5039.39448948  5017.5700672   4964.66707854  4961.23383171\n",
            "  4944.17358572  4929.6510206   4918.80041995  4876.94483209\n",
            "  4838.79163927  4807.44091496  4787.95835556  4754.15716543\n",
            "  4724.92698094  4668.55266452  4647.9338172   4625.22729829\n",
            "  4586.0688433   4576.91355922  4559.612585    4507.57971829\n",
            "  4486.81593155  4481.43707628  4457.07633227  4446.55556183\n",
            "  4391.15990009  4372.28563548  4353.57681394  4313.76085468\n",
            "  4300.33858012  4276.7066048   4258.64871035  4230.29855747\n",
            "  4223.68736201  4202.09867026  4191.5855814   4180.22793025\n",
            "  4124.25729722  4111.10434966  4098.62044756  4088.23744361\n",
            "  4071.9933343   4048.7645854   4033.46706031  4012.25262617\n",
            "  3990.76272536  3974.05551215  3968.81412038  3967.45183044\n",
            "  3913.97935691  3909.99329596  3904.09812654  3887.39309087\n",
            "  3851.71572011  3837.91642731  3828.41287729  3803.0799785\n",
            "  3791.80574898  3775.71057588  3761.4952361   3750.5615311\n",
            "  3729.13420189  3684.96759228  3678.27475732  3671.57846896\n",
            "  3657.36240347  3656.85300865  3634.99716711  3628.01791294\n",
            "  3611.78259091  3608.10248114  3589.12066123  3563.80471745\n",
            "  3561.91573022  3544.68954688  3539.25457809  3526.08324001\n",
            "  3499.40502954  3488.34473262  3478.84221027  3464.68966051\n",
            "  3447.5974744   3435.65660459  3414.55769767  3390.61207769\n",
            "  3385.78677106  3376.33548259  3364.13755512  3339.25588933\n",
            "  3331.79745165  3323.19769671  3313.15682767  3295.39794054\n",
            "  3287.35516356  3276.10978079  3263.57907533  3245.65204386\n",
            "  3230.29382516  3219.75929234  3212.71027369  3184.22026324\n",
            "  3182.61654277  3175.37332502  3168.97691163  3140.22102547\n",
            "  3131.45391282  3115.23712199  3107.26548624  3098.80029445\n",
            "  3088.82982033  3087.13779084  3061.70337359  3050.79346406\n",
            "  3046.01881505  3027.37041891  3015.55578103  2996.96120983\n",
            "  2992.48795222  2977.40366668  2973.43523033  2955.67965521\n",
            "  2948.77044335  2941.76184816  2927.18175766  2909.49048628\n",
            "  2898.17343677  2895.51618205  2880.32834742  2867.1859834\n",
            "  2862.20114681  2849.54969338  2838.04371499  2828.98429915\n",
            "  2814.52104875  2811.62935592  2798.72253419  2783.31758303\n",
            "  2777.66392403  2761.10533609  2749.47831448  2737.31509199\n",
            "  2725.67245148  2709.95113413  2700.29086384  2690.08193278\n",
            "  2683.91435968  2672.32702915  2661.59102141  2641.56581302\n",
            "  2636.09802173  2625.80061     2618.03332199  2585.47761538\n",
            "  2581.75066987  2562.59529037  2556.67666734  2533.95767533]\n"
          ]
        }
      ],
      "source": [
        "print(pca.singular_values_)"
      ]
    },
    {
      "cell_type": "code",
      "source": [],
      "metadata": {
        "id": "syDZmUxYwB-a"
      },
      "execution_count": null,
      "outputs": []
    }
  ],
  "metadata": {
    "accelerator": "GPU",
    "colab": {
      "collapsed_sections": [],
      "provenance": []
    },
    "gpuClass": "standard",
    "kernelspec": {
      "display_name": "Python 3",
      "name": "python3"
    },
    "language_info": {
      "name": "python"
    }
  },
  "nbformat": 4,
  "nbformat_minor": 0
}